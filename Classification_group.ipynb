{
 "cells": [
  {
   "cell_type": "code",
   "execution_count": 33,
   "metadata": {},
   "outputs": [],
   "source": [
    "import pandas as pd"
   ]
  },
  {
   "cell_type": "code",
   "execution_count": 34,
   "metadata": {},
   "outputs": [],
   "source": [
    "import numpy as np"
   ]
  },
  {
   "cell_type": "markdown",
   "metadata": {},
   "source": [
    "Data Split"
   ]
  },
  {
   "cell_type": "code",
   "execution_count": 35,
   "metadata": {
    "scrolled": true
   },
   "outputs": [],
   "source": [
    "data = pd.read_csv ('PhishingData.csv')"
   ]
  },
  {
   "cell_type": "code",
   "execution_count": 36,
   "metadata": {},
   "outputs": [],
   "source": [
    "feature = data.iloc[:,0:8]"
   ]
  },
  {
   "cell_type": "code",
   "execution_count": 37,
   "metadata": {},
   "outputs": [],
   "source": [
    "target = data.iloc[:,9]"
   ]
  },
  {
   "cell_type": "code",
   "execution_count": 38,
   "metadata": {},
   "outputs": [],
   "source": [
    "from sklearn.model_selection import train_test_split"
   ]
  },
  {
   "cell_type": "code",
   "execution_count": 39,
   "metadata": {},
   "outputs": [],
   "source": [
    "feature_train,feature_test,target_train,target_test = train_test_split(feature,target,test_size=0.2)"
   ]
  },
  {
   "cell_type": "markdown",
   "metadata": {},
   "source": [
    "MLPClassifier Solver='adam'"
   ]
  },
  {
   "cell_type": "code",
   "execution_count": 40,
   "metadata": {},
   "outputs": [],
   "source": [
    "from sklearn.neural_network import MLPClassifier"
   ]
  },
  {
   "cell_type": "code",
   "execution_count": 41,
   "metadata": {},
   "outputs": [],
   "source": [
    "nn=MLPClassifier(max_iter=1000000000, learning_rate_init=0.001)"
   ]
  },
  {
   "cell_type": "code",
   "execution_count": 42,
   "metadata": {
    "scrolled": true
   },
   "outputs": [
    {
     "data": {
      "text/plain": [
       "MLPClassifier(activation='relu', alpha=0.0001, batch_size='auto', beta_1=0.9,\n",
       "       beta_2=0.999, early_stopping=False, epsilon=1e-08,\n",
       "       hidden_layer_sizes=(100,), learning_rate='constant',\n",
       "       learning_rate_init=0.001, max_iter=1000000000, momentum=0.9,\n",
       "       nesterovs_momentum=True, power_t=0.5, random_state=None,\n",
       "       shuffle=True, solver='adam', tol=0.0001, validation_fraction=0.1,\n",
       "       verbose=False, warm_start=False)"
      ]
     },
     "execution_count": 42,
     "metadata": {},
     "output_type": "execute_result"
    }
   ],
   "source": [
    "nn.fit(feature_train,target_train)"
   ]
  },
  {
   "cell_type": "code",
   "execution_count": 43,
   "metadata": {},
   "outputs": [],
   "source": [
    "target_pred = nn.predict(feature_test)"
   ]
  },
  {
   "cell_type": "code",
   "execution_count": 44,
   "metadata": {
    "scrolled": true
   },
   "outputs": [
    {
     "name": "stdout",
     "output_type": "stream",
     "text": [
      "target_test= 1 & target_pred= 1\n",
      "target_test= -1 & target_pred= -1\n",
      "target_test= 1 & target_pred= 1\n",
      "target_test= 1 & target_pred= 1\n",
      "target_test= 1 & target_pred= 1\n",
      "target_test= -1 & target_pred= -1\n",
      "target_test= -1 & target_pred= 1\n",
      "target_test= -1 & target_pred= -1\n",
      "target_test= -1 & target_pred= -1\n",
      "target_test= -1 & target_pred= -1\n",
      "target_test= 1 & target_pred= 1\n",
      "target_test= 1 & target_pred= 1\n",
      "target_test= -1 & target_pred= -1\n",
      "target_test= -1 & target_pred= -1\n",
      "target_test= -1 & target_pred= 1\n",
      "target_test= -1 & target_pred= -1\n",
      "target_test= -1 & target_pred= -1\n",
      "target_test= 1 & target_pred= 1\n",
      "target_test= 0 & target_pred= 1\n",
      "target_test= 1 & target_pred= 1\n",
      "target_test= -1 & target_pred= -1\n",
      "target_test= -1 & target_pred= -1\n",
      "target_test= 1 & target_pred= 0\n",
      "target_test= 1 & target_pred= 1\n",
      "target_test= 1 & target_pred= 1\n",
      "target_test= -1 & target_pred= -1\n",
      "target_test= 1 & target_pred= 1\n",
      "target_test= -1 & target_pred= -1\n",
      "target_test= -1 & target_pred= -1\n",
      "target_test= -1 & target_pred= -1\n",
      "target_test= 0 & target_pred= 0\n",
      "target_test= 1 & target_pred= 1\n",
      "target_test= -1 & target_pred= -1\n",
      "target_test= 1 & target_pred= 1\n",
      "target_test= 1 & target_pred= 1\n",
      "target_test= -1 & target_pred= -1\n",
      "target_test= -1 & target_pred= -1\n",
      "target_test= 1 & target_pred= 1\n",
      "target_test= 1 & target_pred= 1\n",
      "target_test= -1 & target_pred= -1\n",
      "target_test= 1 & target_pred= 1\n",
      "target_test= -1 & target_pred= -1\n",
      "target_test= -1 & target_pred= -1\n",
      "target_test= -1 & target_pred= -1\n",
      "target_test= -1 & target_pred= -1\n",
      "target_test= -1 & target_pred= -1\n",
      "target_test= 0 & target_pred= 0\n",
      "target_test= 1 & target_pred= 1\n",
      "target_test= 1 & target_pred= 1\n",
      "target_test= -1 & target_pred= -1\n",
      "target_test= -1 & target_pred= -1\n",
      "target_test= 1 & target_pred= 1\n",
      "target_test= 1 & target_pred= 1\n",
      "target_test= -1 & target_pred= -1\n",
      "target_test= 1 & target_pred= -1\n",
      "target_test= 1 & target_pred= 1\n",
      "target_test= 1 & target_pred= 1\n",
      "target_test= 1 & target_pred= 1\n",
      "target_test= 0 & target_pred= 0\n",
      "target_test= 1 & target_pred= 1\n",
      "target_test= -1 & target_pred= -1\n",
      "target_test= -1 & target_pred= -1\n",
      "target_test= 1 & target_pred= 1\n",
      "target_test= -1 & target_pred= 1\n",
      "target_test= -1 & target_pred= -1\n",
      "target_test= 1 & target_pred= 1\n",
      "target_test= -1 & target_pred= 1\n",
      "target_test= -1 & target_pred= -1\n",
      "target_test= 1 & target_pred= 1\n",
      "target_test= -1 & target_pred= -1\n",
      "target_test= 1 & target_pred= 1\n",
      "target_test= -1 & target_pred= -1\n",
      "target_test= 1 & target_pred= 1\n",
      "target_test= -1 & target_pred= -1\n",
      "target_test= -1 & target_pred= -1\n",
      "target_test= -1 & target_pred= -1\n",
      "target_test= -1 & target_pred= -1\n",
      "target_test= -1 & target_pred= -1\n",
      "target_test= -1 & target_pred= -1\n",
      "target_test= -1 & target_pred= 1\n",
      "target_test= 1 & target_pred= 1\n",
      "target_test= 0 & target_pred= 0\n",
      "target_test= 0 & target_pred= 0\n",
      "target_test= 0 & target_pred= 0\n",
      "target_test= -1 & target_pred= -1\n",
      "target_test= -1 & target_pred= -1\n",
      "target_test= 1 & target_pred= 1\n",
      "target_test= -1 & target_pred= 1\n",
      "target_test= 1 & target_pred= 1\n",
      "target_test= -1 & target_pred= -1\n",
      "target_test= 0 & target_pred= 0\n",
      "target_test= -1 & target_pred= -1\n",
      "target_test= -1 & target_pred= -1\n",
      "target_test= -1 & target_pred= -1\n",
      "target_test= -1 & target_pred= -1\n",
      "target_test= -1 & target_pred= -1\n",
      "target_test= -1 & target_pred= -1\n",
      "target_test= -1 & target_pred= -1\n",
      "target_test= -1 & target_pred= 1\n",
      "target_test= 1 & target_pred= 0\n",
      "target_test= -1 & target_pred= -1\n",
      "target_test= 1 & target_pred= 1\n",
      "target_test= -1 & target_pred= -1\n",
      "target_test= 0 & target_pred= 0\n",
      "target_test= -1 & target_pred= -1\n",
      "target_test= -1 & target_pred= -1\n",
      "target_test= 1 & target_pred= 1\n",
      "target_test= -1 & target_pred= -1\n",
      "target_test= 1 & target_pred= 1\n",
      "target_test= 1 & target_pred= 1\n",
      "target_test= 1 & target_pred= 1\n",
      "target_test= 1 & target_pred= 1\n",
      "target_test= -1 & target_pred= -1\n",
      "target_test= 1 & target_pred= 1\n",
      "target_test= -1 & target_pred= -1\n",
      "target_test= -1 & target_pred= 1\n",
      "target_test= -1 & target_pred= -1\n",
      "target_test= 1 & target_pred= 1\n",
      "target_test= -1 & target_pred= -1\n",
      "target_test= 1 & target_pred= 1\n",
      "target_test= 1 & target_pred= 1\n",
      "target_test= 1 & target_pred= 0\n",
      "target_test= -1 & target_pred= -1\n",
      "target_test= 1 & target_pred= 1\n",
      "target_test= 0 & target_pred= 0\n",
      "target_test= 1 & target_pred= 1\n",
      "target_test= -1 & target_pred= -1\n",
      "target_test= -1 & target_pred= -1\n",
      "target_test= 1 & target_pred= 1\n",
      "target_test= 0 & target_pred= 0\n",
      "target_test= -1 & target_pred= -1\n",
      "target_test= -1 & target_pred= -1\n",
      "target_test= 1 & target_pred= 1\n",
      "target_test= -1 & target_pred= 1\n",
      "target_test= 1 & target_pred= 1\n",
      "target_test= 1 & target_pred= 1\n",
      "target_test= 1 & target_pred= 1\n",
      "target_test= -1 & target_pred= -1\n",
      "target_test= 1 & target_pred= 1\n",
      "target_test= 1 & target_pred= 1\n",
      "target_test= 1 & target_pred= 1\n",
      "target_test= -1 & target_pred= 0\n",
      "target_test= -1 & target_pred= -1\n",
      "target_test= -1 & target_pred= -1\n",
      "target_test= -1 & target_pred= -1\n",
      "target_test= 1 & target_pred= 1\n",
      "target_test= -1 & target_pred= 1\n",
      "target_test= 1 & target_pred= 1\n",
      "target_test= 0 & target_pred= 0\n",
      "target_test= -1 & target_pred= -1\n",
      "target_test= -1 & target_pred= -1\n",
      "target_test= 0 & target_pred= 0\n",
      "target_test= -1 & target_pred= -1\n",
      "target_test= 1 & target_pred= 1\n",
      "target_test= -1 & target_pred= -1\n",
      "target_test= 1 & target_pred= 1\n",
      "target_test= -1 & target_pred= -1\n",
      "target_test= 1 & target_pred= 1\n",
      "target_test= -1 & target_pred= -1\n",
      "target_test= 1 & target_pred= 1\n",
      "target_test= -1 & target_pred= -1\n",
      "target_test= -1 & target_pred= -1\n",
      "target_test= -1 & target_pred= -1\n",
      "target_test= -1 & target_pred= -1\n",
      "target_test= 1 & target_pred= 1\n",
      "target_test= -1 & target_pred= -1\n",
      "target_test= 0 & target_pred= 0\n",
      "target_test= -1 & target_pred= -1\n",
      "target_test= -1 & target_pred= -1\n",
      "target_test= 1 & target_pred= 1\n",
      "target_test= 1 & target_pred= 1\n",
      "target_test= 1 & target_pred= 1\n",
      "target_test= 1 & target_pred= -1\n",
      "target_test= -1 & target_pred= -1\n",
      "target_test= -1 & target_pred= -1\n",
      "target_test= 1 & target_pred= -1\n",
      "target_test= 0 & target_pred= 0\n",
      "target_test= 1 & target_pred= 1\n",
      "target_test= -1 & target_pred= -1\n",
      "target_test= -1 & target_pred= -1\n",
      "target_test= -1 & target_pred= 1\n",
      "target_test= -1 & target_pred= -1\n",
      "target_test= 1 & target_pred= 1\n",
      "target_test= 1 & target_pred= 1\n",
      "target_test= 1 & target_pred= 1\n",
      "target_test= 1 & target_pred= 1\n",
      "target_test= -1 & target_pred= -1\n",
      "target_test= -1 & target_pred= -1\n",
      "target_test= 1 & target_pred= 1\n",
      "target_test= -1 & target_pred= 0\n",
      "target_test= -1 & target_pred= -1\n",
      "target_test= -1 & target_pred= -1\n",
      "target_test= -1 & target_pred= -1\n",
      "target_test= -1 & target_pred= -1\n",
      "target_test= 1 & target_pred= 1\n",
      "target_test= -1 & target_pred= -1\n",
      "target_test= -1 & target_pred= -1\n",
      "target_test= -1 & target_pred= 1\n",
      "target_test= 1 & target_pred= 1\n",
      "target_test= -1 & target_pred= -1\n",
      "target_test= -1 & target_pred= -1\n",
      "target_test= -1 & target_pred= 1\n",
      "target_test= -1 & target_pred= -1\n",
      "target_test= 1 & target_pred= 1\n",
      "target_test= -1 & target_pred= -1\n",
      "target_test= -1 & target_pred= -1\n",
      "target_test= -1 & target_pred= -1\n",
      "target_test= 1 & target_pred= 1\n",
      "target_test= -1 & target_pred= -1\n",
      "target_test= -1 & target_pred= -1\n",
      "target_test= 1 & target_pred= 1\n",
      "target_test= 1 & target_pred= 1\n",
      "target_test= -1 & target_pred= -1\n",
      "target_test= -1 & target_pred= -1\n",
      "target_test= -1 & target_pred= -1\n",
      "target_test= 1 & target_pred= 1\n",
      "target_test= 1 & target_pred= 1\n",
      "target_test= -1 & target_pred= -1\n",
      "target_test= 1 & target_pred= 1\n",
      "target_test= -1 & target_pred= -1\n",
      "target_test= -1 & target_pred= -1\n",
      "target_test= 1 & target_pred= 1\n",
      "target_test= -1 & target_pred= -1\n",
      "target_test= -1 & target_pred= -1\n",
      "target_test= -1 & target_pred= -1\n",
      "target_test= -1 & target_pred= -1\n",
      "target_test= -1 & target_pred= -1\n",
      "target_test= -1 & target_pred= -1\n",
      "target_test= 1 & target_pred= 1\n",
      "target_test= 1 & target_pred= 1\n",
      "target_test= 0 & target_pred= 0\n",
      "target_test= -1 & target_pred= -1\n",
      "target_test= 1 & target_pred= 1\n",
      "target_test= 1 & target_pred= 1\n",
      "target_test= -1 & target_pred= -1\n",
      "target_test= 0 & target_pred= 0\n",
      "target_test= 1 & target_pred= 1\n",
      "target_test= -1 & target_pred= -1\n",
      "target_test= -1 & target_pred= -1\n",
      "target_test= -1 & target_pred= 1\n",
      "target_test= 1 & target_pred= 1\n",
      "target_test= -1 & target_pred= -1\n",
      "target_test= -1 & target_pred= -1\n",
      "target_test= -1 & target_pred= -1\n",
      "target_test= -1 & target_pred= -1\n",
      "target_test= -1 & target_pred= -1\n",
      "target_test= 1 & target_pred= 1\n",
      "target_test= 1 & target_pred= 1\n",
      "target_test= -1 & target_pred= 1\n",
      "target_test= -1 & target_pred= -1\n",
      "target_test= -1 & target_pred= -1\n",
      "target_test= -1 & target_pred= -1\n",
      "target_test= 0 & target_pred= 0\n",
      "target_test= -1 & target_pred= 0\n",
      "target_test= 0 & target_pred= 0\n",
      "target_test= -1 & target_pred= -1\n",
      "target_test= 1 & target_pred= 1\n",
      "target_test= 0 & target_pred= 0\n",
      "target_test= -1 & target_pred= 1\n",
      "target_test= -1 & target_pred= -1\n",
      "target_test= 1 & target_pred= 1\n",
      "target_test= 0 & target_pred= -1\n",
      "target_test= -1 & target_pred= -1\n",
      "target_test= 1 & target_pred= 1\n",
      "target_test= -1 & target_pred= -1\n",
      "target_test= -1 & target_pred= -1\n",
      "target_test= 1 & target_pred= 1\n",
      "target_test= 1 & target_pred= 1\n",
      "target_test= -1 & target_pred= -1\n",
      "target_test= 1 & target_pred= -1\n",
      "target_test= 1 & target_pred= 1\n"
     ]
    }
   ],
   "source": [
    "for x,y in zip(target_test,target_pred):\n",
    "    print(\"target_test= \"+str(x)+\" & target_pred= \"+str(y))"
   ]
  },
  {
   "cell_type": "code",
   "execution_count": 45,
   "metadata": {},
   "outputs": [
    {
     "data": {
      "text/plain": [
       "0.6345134099616858"
      ]
     },
     "execution_count": 45,
     "metadata": {},
     "output_type": "execute_result"
    }
   ],
   "source": [
    "from sklearn.metrics import r2_score\n",
    "r2_score(target_test,target_pred)"
   ]
  },
  {
   "cell_type": "markdown",
   "metadata": {},
   "source": [
    "MLPClassifier  solver='sgd'"
   ]
  },
  {
   "cell_type": "code",
   "execution_count": 46,
   "metadata": {},
   "outputs": [],
   "source": [
    "nnn=MLPClassifier(max_iter=1000000000, learning_rate_init=0.001, solver='sgd')"
   ]
  },
  {
   "cell_type": "code",
   "execution_count": 47,
   "metadata": {},
   "outputs": [
    {
     "data": {
      "text/plain": [
       "MLPClassifier(activation='relu', alpha=0.0001, batch_size='auto', beta_1=0.9,\n",
       "       beta_2=0.999, early_stopping=False, epsilon=1e-08,\n",
       "       hidden_layer_sizes=(100,), learning_rate='constant',\n",
       "       learning_rate_init=0.001, max_iter=1000000000, momentum=0.9,\n",
       "       nesterovs_momentum=True, power_t=0.5, random_state=None,\n",
       "       shuffle=True, solver='sgd', tol=0.0001, validation_fraction=0.1,\n",
       "       verbose=False, warm_start=False)"
      ]
     },
     "execution_count": 47,
     "metadata": {},
     "output_type": "execute_result"
    }
   ],
   "source": [
    "nnn.fit(feature_train,target_train)"
   ]
  },
  {
   "cell_type": "code",
   "execution_count": 48,
   "metadata": {},
   "outputs": [],
   "source": [
    "targetn_pred = nnn.predict(feature_test)"
   ]
  },
  {
   "cell_type": "code",
   "execution_count": 49,
   "metadata": {},
   "outputs": [
    {
     "name": "stdout",
     "output_type": "stream",
     "text": [
      "target_test= 1 & targetn_pred= -1\n",
      "target_test= -1 & targetn_pred= -1\n",
      "target_test= 1 & targetn_pred= 1\n",
      "target_test= 1 & targetn_pred= 1\n",
      "target_test= 1 & targetn_pred= 1\n",
      "target_test= -1 & targetn_pred= -1\n",
      "target_test= -1 & targetn_pred= 1\n",
      "target_test= -1 & targetn_pred= -1\n",
      "target_test= -1 & targetn_pred= -1\n",
      "target_test= -1 & targetn_pred= -1\n",
      "target_test= 1 & targetn_pred= -1\n",
      "target_test= 1 & targetn_pred= 1\n",
      "target_test= -1 & targetn_pred= -1\n",
      "target_test= -1 & targetn_pred= -1\n",
      "target_test= -1 & targetn_pred= -1\n",
      "target_test= -1 & targetn_pred= -1\n",
      "target_test= -1 & targetn_pred= -1\n",
      "target_test= 1 & targetn_pred= 1\n",
      "target_test= 0 & targetn_pred= 1\n",
      "target_test= 1 & targetn_pred= 1\n",
      "target_test= -1 & targetn_pred= -1\n",
      "target_test= -1 & targetn_pred= -1\n",
      "target_test= 1 & targetn_pred= 1\n",
      "target_test= 1 & targetn_pred= 1\n",
      "target_test= 1 & targetn_pred= 1\n",
      "target_test= -1 & targetn_pred= -1\n",
      "target_test= 1 & targetn_pred= 1\n",
      "target_test= -1 & targetn_pred= -1\n",
      "target_test= -1 & targetn_pred= -1\n",
      "target_test= -1 & targetn_pred= -1\n",
      "target_test= 0 & targetn_pred= 1\n",
      "target_test= 1 & targetn_pred= 1\n",
      "target_test= -1 & targetn_pred= -1\n",
      "target_test= 1 & targetn_pred= 1\n",
      "target_test= 1 & targetn_pred= 1\n",
      "target_test= -1 & targetn_pred= -1\n",
      "target_test= -1 & targetn_pred= -1\n",
      "target_test= 1 & targetn_pred= 1\n",
      "target_test= 1 & targetn_pred= 1\n",
      "target_test= -1 & targetn_pred= -1\n",
      "target_test= 1 & targetn_pred= 1\n",
      "target_test= -1 & targetn_pred= -1\n",
      "target_test= -1 & targetn_pred= 1\n",
      "target_test= -1 & targetn_pred= -1\n",
      "target_test= -1 & targetn_pred= -1\n",
      "target_test= -1 & targetn_pred= -1\n",
      "target_test= 0 & targetn_pred= -1\n",
      "target_test= 1 & targetn_pred= 1\n",
      "target_test= 1 & targetn_pred= 1\n",
      "target_test= -1 & targetn_pred= -1\n",
      "target_test= -1 & targetn_pred= -1\n",
      "target_test= 1 & targetn_pred= 1\n",
      "target_test= 1 & targetn_pred= 1\n",
      "target_test= -1 & targetn_pred= -1\n",
      "target_test= 1 & targetn_pred= 1\n",
      "target_test= 1 & targetn_pred= 1\n",
      "target_test= 1 & targetn_pred= 1\n",
      "target_test= 1 & targetn_pred= 1\n",
      "target_test= 0 & targetn_pred= -1\n",
      "target_test= 1 & targetn_pred= 1\n",
      "target_test= -1 & targetn_pred= -1\n",
      "target_test= -1 & targetn_pred= -1\n",
      "target_test= 1 & targetn_pred= -1\n",
      "target_test= -1 & targetn_pred= 1\n",
      "target_test= -1 & targetn_pred= -1\n",
      "target_test= 1 & targetn_pred= 1\n",
      "target_test= -1 & targetn_pred= 1\n",
      "target_test= -1 & targetn_pred= -1\n",
      "target_test= 1 & targetn_pred= 1\n",
      "target_test= -1 & targetn_pred= -1\n",
      "target_test= 1 & targetn_pred= 1\n",
      "target_test= -1 & targetn_pred= -1\n",
      "target_test= 1 & targetn_pred= 1\n",
      "target_test= -1 & targetn_pred= -1\n",
      "target_test= -1 & targetn_pred= -1\n",
      "target_test= -1 & targetn_pred= -1\n",
      "target_test= -1 & targetn_pred= 1\n",
      "target_test= -1 & targetn_pred= -1\n",
      "target_test= -1 & targetn_pred= -1\n",
      "target_test= -1 & targetn_pred= 1\n",
      "target_test= 1 & targetn_pred= 1\n",
      "target_test= 0 & targetn_pred= -1\n",
      "target_test= 0 & targetn_pred= 0\n",
      "target_test= 0 & targetn_pred= 1\n",
      "target_test= -1 & targetn_pred= -1\n",
      "target_test= -1 & targetn_pred= -1\n",
      "target_test= 1 & targetn_pred= 1\n",
      "target_test= -1 & targetn_pred= 1\n",
      "target_test= 1 & targetn_pred= 1\n",
      "target_test= -1 & targetn_pred= -1\n",
      "target_test= 0 & targetn_pred= 0\n",
      "target_test= -1 & targetn_pred= 1\n",
      "target_test= -1 & targetn_pred= -1\n",
      "target_test= -1 & targetn_pred= -1\n",
      "target_test= -1 & targetn_pred= -1\n",
      "target_test= -1 & targetn_pred= -1\n",
      "target_test= -1 & targetn_pred= -1\n",
      "target_test= -1 & targetn_pred= -1\n",
      "target_test= -1 & targetn_pred= 1\n",
      "target_test= 1 & targetn_pred= 0\n",
      "target_test= -1 & targetn_pred= -1\n",
      "target_test= 1 & targetn_pred= 1\n",
      "target_test= -1 & targetn_pred= -1\n",
      "target_test= 0 & targetn_pred= 1\n",
      "target_test= -1 & targetn_pred= -1\n",
      "target_test= -1 & targetn_pred= -1\n",
      "target_test= 1 & targetn_pred= -1\n",
      "target_test= -1 & targetn_pred= -1\n",
      "target_test= 1 & targetn_pred= 1\n",
      "target_test= 1 & targetn_pred= 1\n",
      "target_test= 1 & targetn_pred= 1\n",
      "target_test= 1 & targetn_pred= 1\n",
      "target_test= -1 & targetn_pred= -1\n",
      "target_test= 1 & targetn_pred= -1\n",
      "target_test= -1 & targetn_pred= -1\n",
      "target_test= -1 & targetn_pred= 1\n",
      "target_test= -1 & targetn_pred= -1\n",
      "target_test= 1 & targetn_pred= 1\n",
      "target_test= -1 & targetn_pred= -1\n",
      "target_test= 1 & targetn_pred= 1\n",
      "target_test= 1 & targetn_pred= 1\n",
      "target_test= 1 & targetn_pred= 1\n",
      "target_test= -1 & targetn_pred= -1\n",
      "target_test= 1 & targetn_pred= 1\n",
      "target_test= 0 & targetn_pred= -1\n",
      "target_test= 1 & targetn_pred= 1\n",
      "target_test= -1 & targetn_pred= -1\n",
      "target_test= -1 & targetn_pred= -1\n",
      "target_test= 1 & targetn_pred= 1\n",
      "target_test= 0 & targetn_pred= 1\n",
      "target_test= -1 & targetn_pred= 1\n",
      "target_test= -1 & targetn_pred= -1\n",
      "target_test= 1 & targetn_pred= 1\n",
      "target_test= -1 & targetn_pred= 1\n",
      "target_test= 1 & targetn_pred= 1\n",
      "target_test= 1 & targetn_pred= 1\n",
      "target_test= 1 & targetn_pred= 1\n",
      "target_test= -1 & targetn_pred= -1\n",
      "target_test= 1 & targetn_pred= 1\n",
      "target_test= 1 & targetn_pred= 1\n",
      "target_test= 1 & targetn_pred= 1\n",
      "target_test= -1 & targetn_pred= 0\n",
      "target_test= -1 & targetn_pred= -1\n",
      "target_test= -1 & targetn_pred= -1\n",
      "target_test= -1 & targetn_pred= -1\n",
      "target_test= 1 & targetn_pred= 1\n",
      "target_test= -1 & targetn_pred= 1\n",
      "target_test= 1 & targetn_pred= 1\n",
      "target_test= 0 & targetn_pred= -1\n",
      "target_test= -1 & targetn_pred= -1\n",
      "target_test= -1 & targetn_pred= -1\n",
      "target_test= 0 & targetn_pred= 1\n",
      "target_test= -1 & targetn_pred= -1\n",
      "target_test= 1 & targetn_pred= 1\n",
      "target_test= -1 & targetn_pred= -1\n",
      "target_test= 1 & targetn_pred= 1\n",
      "target_test= -1 & targetn_pred= -1\n",
      "target_test= 1 & targetn_pred= -1\n",
      "target_test= -1 & targetn_pred= -1\n",
      "target_test= 1 & targetn_pred= 1\n",
      "target_test= -1 & targetn_pred= -1\n",
      "target_test= -1 & targetn_pred= 1\n",
      "target_test= -1 & targetn_pred= -1\n",
      "target_test= -1 & targetn_pred= -1\n",
      "target_test= 1 & targetn_pred= 1\n",
      "target_test= -1 & targetn_pred= -1\n",
      "target_test= 0 & targetn_pred= 1\n",
      "target_test= -1 & targetn_pred= -1\n",
      "target_test= -1 & targetn_pred= -1\n",
      "target_test= 1 & targetn_pred= 1\n",
      "target_test= 1 & targetn_pred= -1\n",
      "target_test= 1 & targetn_pred= 1\n",
      "target_test= 1 & targetn_pred= 0\n",
      "target_test= -1 & targetn_pred= -1\n",
      "target_test= -1 & targetn_pred= -1\n",
      "target_test= 1 & targetn_pred= -1\n",
      "target_test= 0 & targetn_pred= -1\n",
      "target_test= 1 & targetn_pred= 1\n",
      "target_test= -1 & targetn_pred= -1\n",
      "target_test= -1 & targetn_pred= -1\n",
      "target_test= -1 & targetn_pred= 1\n",
      "target_test= -1 & targetn_pred= -1\n",
      "target_test= 1 & targetn_pred= 1\n",
      "target_test= 1 & targetn_pred= 1\n",
      "target_test= 1 & targetn_pred= 1\n",
      "target_test= 1 & targetn_pred= 1\n",
      "target_test= -1 & targetn_pred= -1\n",
      "target_test= -1 & targetn_pred= -1\n",
      "target_test= 1 & targetn_pred= 1\n",
      "target_test= -1 & targetn_pred= 0\n",
      "target_test= -1 & targetn_pred= -1\n",
      "target_test= -1 & targetn_pred= -1\n",
      "target_test= -1 & targetn_pred= -1\n",
      "target_test= -1 & targetn_pred= -1\n",
      "target_test= 1 & targetn_pred= 1\n",
      "target_test= -1 & targetn_pred= -1\n",
      "target_test= -1 & targetn_pred= -1\n",
      "target_test= -1 & targetn_pred= 1\n",
      "target_test= 1 & targetn_pred= 1\n",
      "target_test= -1 & targetn_pred= -1\n",
      "target_test= -1 & targetn_pred= -1\n",
      "target_test= -1 & targetn_pred= -1\n",
      "target_test= -1 & targetn_pred= -1\n",
      "target_test= 1 & targetn_pred= 1\n",
      "target_test= -1 & targetn_pred= -1\n",
      "target_test= -1 & targetn_pred= -1\n",
      "target_test= -1 & targetn_pred= -1\n",
      "target_test= 1 & targetn_pred= 1\n",
      "target_test= -1 & targetn_pred= -1\n",
      "target_test= -1 & targetn_pred= 1\n",
      "target_test= 1 & targetn_pred= 1\n",
      "target_test= 1 & targetn_pred= 1\n",
      "target_test= -1 & targetn_pred= -1\n",
      "target_test= -1 & targetn_pred= -1\n",
      "target_test= -1 & targetn_pred= -1\n",
      "target_test= 1 & targetn_pred= 1\n",
      "target_test= 1 & targetn_pred= 1\n",
      "target_test= -1 & targetn_pred= 1\n",
      "target_test= 1 & targetn_pred= 1\n",
      "target_test= -1 & targetn_pred= -1\n",
      "target_test= -1 & targetn_pred= -1\n",
      "target_test= 1 & targetn_pred= 1\n",
      "target_test= -1 & targetn_pred= -1\n",
      "target_test= -1 & targetn_pred= -1\n",
      "target_test= -1 & targetn_pred= -1\n",
      "target_test= -1 & targetn_pred= -1\n",
      "target_test= -1 & targetn_pred= -1\n",
      "target_test= -1 & targetn_pred= -1\n",
      "target_test= 1 & targetn_pred= 1\n",
      "target_test= 1 & targetn_pred= 1\n",
      "target_test= 0 & targetn_pred= -1\n",
      "target_test= -1 & targetn_pred= -1\n",
      "target_test= 1 & targetn_pred= 1\n",
      "target_test= 1 & targetn_pred= 1\n",
      "target_test= -1 & targetn_pred= -1\n",
      "target_test= 0 & targetn_pred= -1\n",
      "target_test= 1 & targetn_pred= 1\n",
      "target_test= -1 & targetn_pred= -1\n",
      "target_test= -1 & targetn_pred= -1\n",
      "target_test= -1 & targetn_pred= 1\n",
      "target_test= 1 & targetn_pred= 1\n",
      "target_test= -1 & targetn_pred= -1\n",
      "target_test= -1 & targetn_pred= -1\n",
      "target_test= -1 & targetn_pred= -1\n",
      "target_test= -1 & targetn_pred= -1\n",
      "target_test= -1 & targetn_pred= -1\n",
      "target_test= 1 & targetn_pred= 1\n",
      "target_test= 1 & targetn_pred= 1\n",
      "target_test= -1 & targetn_pred= 1\n",
      "target_test= -1 & targetn_pred= -1\n",
      "target_test= -1 & targetn_pred= -1\n",
      "target_test= -1 & targetn_pred= -1\n",
      "target_test= 0 & targetn_pred= 1\n",
      "target_test= -1 & targetn_pred= -1\n",
      "target_test= 0 & targetn_pred= 1\n",
      "target_test= -1 & targetn_pred= -1\n",
      "target_test= 1 & targetn_pred= -1\n",
      "target_test= 0 & targetn_pred= -1\n",
      "target_test= -1 & targetn_pred= 1\n",
      "target_test= -1 & targetn_pred= -1\n",
      "target_test= 1 & targetn_pred= 1\n",
      "target_test= 0 & targetn_pred= -1\n",
      "target_test= -1 & targetn_pred= -1\n",
      "target_test= 1 & targetn_pred= 1\n",
      "target_test= -1 & targetn_pred= -1\n",
      "target_test= -1 & targetn_pred= -1\n",
      "target_test= 1 & targetn_pred= 1\n",
      "target_test= 1 & targetn_pred= 1\n",
      "target_test= -1 & targetn_pred= -1\n",
      "target_test= 1 & targetn_pred= -1\n",
      "target_test= 1 & targetn_pred= 1\n"
     ]
    }
   ],
   "source": [
    "for x,y in zip(target_test,targetn_pred):\n",
    "    print(\"target_test= \"+str(x)+\" & targetn_pred= \"+str(y))"
   ]
  },
  {
   "cell_type": "code",
   "execution_count": 50,
   "metadata": {},
   "outputs": [
    {
     "data": {
      "text/plain": [
       "0.3894712643678161"
      ]
     },
     "execution_count": 50,
     "metadata": {},
     "output_type": "execute_result"
    }
   ],
   "source": [
    "from sklearn.metrics import r2_score\n",
    "r2_score(target_test,targetn_pred)"
   ]
  },
  {
   "cell_type": "code",
   "execution_count": 51,
   "metadata": {},
   "outputs": [
    {
     "data": {
      "image/png": "[encoded data removed]",
      "text/plain": [
       "<Figure size 432x288 with 1 Axes>"
      ]
     },
     "metadata": {},
     "output_type": "display_data"
    }
   ],
   "source": [
    "import matplotlib.pyplot as plt\n",
    "plt.scatter(range(target_pred.size),target_pred-target_test,color=\"b\")\n",
    "plt.axhline()\n",
    "plt.show()"
   ]
  },
  {
   "cell_type": "code",
   "execution_count": 52,
   "metadata": {
    "scrolled": true
   },
   "outputs": [
    {
     "data": {
      "image/png": "[encoded data removed]",
      "text/plain": [
       "<Figure size 432x288 with 1 Axes>"
      ]
     },
     "metadata": {},
     "output_type": "display_data"
    }
   ],
   "source": [
    "plt.scatter(range(targetn_pred.size),targetn_pred-target_test,color=\"r\")\n",
    "plt.axhline()\n",
    "plt.show()"
   ]
  },
  {
   "cell_type": "markdown",
   "metadata": {},
   "source": [
    "Naive Bayes Gaussian"
   ]
  },
  {
   "cell_type": "code",
   "execution_count": 53,
   "metadata": {},
   "outputs": [],
   "source": [
    "from sklearn.naive_bayes import GaussianNB"
   ]
  },
  {
   "cell_type": "code",
   "execution_count": 54,
   "metadata": {},
   "outputs": [],
   "source": [
    "modelnb = GaussianNB()"
   ]
  },
  {
   "cell_type": "code",
   "execution_count": 55,
   "metadata": {},
   "outputs": [],
   "source": [
    "nbtrain = modelnb.fit(feature_train,target_train)"
   ]
  },
  {
   "cell_type": "code",
   "execution_count": 56,
   "metadata": {},
   "outputs": [
    {
     "data": {
      "text/plain": [
       "array([552.,  81., 448.])"
      ]
     },
     "execution_count": 56,
     "metadata": {},
     "output_type": "execute_result"
    }
   ],
   "source": [
    "nbtrain.class_count_"
   ]
  },
  {
   "cell_type": "code",
   "execution_count": 57,
   "metadata": {},
   "outputs": [
    {
     "data": {
      "text/plain": [
       "array([-1, -1,  1,  1,  1, -1,  1, -1, -1, -1, -1,  1, -1, -1, -1, -1, -1,\n",
       "        1, -1,  1,  1, -1,  1,  1,  1, -1,  1, -1,  1, -1,  1,  1, -1,  1,\n",
       "        1, -1, -1,  1,  1, -1,  1, -1,  1, -1, -1, -1, -1,  1,  1, -1, -1,\n",
       "        1,  1, -1,  1,  1,  1,  1, -1,  1, -1, -1, -1,  1, -1,  1,  1, -1,\n",
       "        1, -1, -1, -1,  1, -1, -1, -1,  1, -1, -1,  1,  1, -1,  0,  0, -1,\n",
       "       -1,  1,  1,  1, -1,  0,  1, -1, -1, -1, -1, -1, -1,  1,  0, -1,  1,\n",
       "       -1, -1, -1, -1, -1, -1,  1,  1,  1,  1, -1, -1, -1,  1, -1,  1,  0,\n",
       "        1,  1,  0, -1,  1, -1,  1, -1, -1,  1,  1, -1, -1,  1,  1,  1,  1,\n",
       "        1, -1,  1,  1,  1, -1, -1, -1, -1,  1,  1,  1, -1, -1, -1,  1, -1,\n",
       "        1, -1,  1,  0, -1, -1,  1, -1,  1, -1, -1,  1, -1,  1, -1, -1,  1,\n",
       "       -1,  1,  0, -1, -1, -1, -1,  0, -1, -1,  1, -1,  1,  1,  1,  1, -1,\n",
       "       -1,  1,  0, -1, -1, -1, -1,  1, -1, -1,  1,  1, -1, -1, -1, -1,  1,\n",
       "       -1, -1, -1,  1, -1,  1,  1,  1, -1, -1, -1,  1,  1,  1,  1, -1, -1,\n",
       "        1, -1, -1, -1, -1, -1, -1,  1,  1, -1, -1,  1,  1, -1, -1,  1, -1,\n",
       "       -1, -1,  1, -1, -1, -1, -1, -1,  1,  1,  1, -1, -1, -1,  1, -1,  1,\n",
       "       -1, -1,  1,  1, -1,  1, -1, -1,  1, -1, -1,  1,  0, -1, -1,  1],\n",
       "      dtype=int64)"
      ]
     },
     "execution_count": 57,
     "metadata": {},
     "output_type": "execute_result"
    }
   ],
   "source": [
    "# Menentukan hasil prediksi dari x_test\n",
    "targetNB_pred = nbtrain.predict(feature_test)\n",
    "targetNB_pred"
   ]
  },
  {
   "cell_type": "code",
   "execution_count": 58,
   "metadata": {},
   "outputs": [
    {
     "data": {
      "text/plain": [
       "array([[8.27218447e-01, 7.67022652e-02, 9.60792875e-02],\n",
       "       [8.82805553e-01, 1.54735287e-02, 1.01720918e-01],\n",
       "       [2.51214157e-02, 7.79654480e-04, 9.74098930e-01],\n",
       "       [2.53189666e-06, 3.03946626e-03, 9.96958002e-01],\n",
       "       [8.13685116e-05, 3.89445385e-03, 9.96024178e-01],\n",
       "       [6.74662590e-01, 2.06220392e-01, 1.19117017e-01],\n",
       "       [2.63660382e-04, 5.34768896e-02, 9.46259450e-01],\n",
       "       [9.99516646e-01, 1.29892104e-06, 4.82055110e-04],\n",
       "       [8.30735465e-01, 1.02484955e-02, 1.59016039e-01],\n",
       "       [9.99650343e-01, 7.85685280e-07, 3.48871489e-04],\n",
       "       [8.27218447e-01, 7.67022652e-02, 9.60792875e-02],\n",
       "       [2.21636807e-05, 9.82173727e-03, 9.90156099e-01],\n",
       "       [9.35754156e-01, 6.14096721e-02, 2.83617170e-03],\n",
       "       [9.59504011e-01, 1.40490168e-02, 2.64469722e-02],\n",
       "       [9.74779208e-01, 2.30195591e-06, 2.52184905e-02],\n",
       "       [8.38157583e-01, 1.53557640e-01, 8.28477777e-03],\n",
       "       [7.72408192e-01, 3.27261715e-06, 2.27588536e-01],\n",
       "       [1.62804392e-05, 1.53703503e-03, 9.98446685e-01],\n",
       "       [4.58627082e-01, 1.84822463e-01, 3.56550454e-01],\n",
       "       [1.13860379e-01, 5.81393628e-07, 8.86139040e-01],\n",
       "       [3.68369667e-02, 1.40757259e-01, 8.22405774e-01],\n",
       "       [6.74662590e-01, 2.06220392e-01, 1.19117017e-01],\n",
       "       [3.89680224e-04, 1.52274041e-01, 8.47336279e-01],\n",
       "       [1.85612702e-04, 3.85088691e-02, 9.61305518e-01],\n",
       "       [4.73705367e-05, 3.67104575e-02, 9.63242172e-01],\n",
       "       [8.61652280e-01, 9.68240656e-02, 4.15236545e-02],\n",
       "       [1.08903009e-05, 5.76406156e-03, 9.94225048e-01],\n",
       "       [9.98547366e-01, 3.90176848e-06, 1.44873199e-03],\n",
       "       [9.20761018e-02, 3.29603012e-03, 9.04627868e-01],\n",
       "       [9.82464115e-01, 7.82427666e-03, 9.71160860e-03],\n",
       "       [5.36159186e-04, 2.97672149e-01, 7.01791691e-01],\n",
       "       [3.60113843e-04, 1.58187001e-01, 8.41452886e-01],\n",
       "       [8.47065851e-01, 4.93611688e-03, 1.47998033e-01],\n",
       "       [1.63695290e-01, 1.41101467e-02, 8.22194564e-01],\n",
       "       [1.52677441e-06, 1.29002841e-03, 9.98708445e-01],\n",
       "       [9.92971236e-01, 6.92941520e-03, 9.93490847e-05],\n",
       "       [9.59800327e-01, 3.80946234e-02, 2.10504967e-03],\n",
       "       [9.22810927e-05, 8.22558563e-03, 9.91682133e-01],\n",
       "       [3.95798798e-02, 4.88154364e-03, 9.55538577e-01],\n",
       "       [9.91737973e-01, 5.50133620e-03, 2.76069085e-03],\n",
       "       [2.49129040e-03, 7.25309585e-04, 9.96783400e-01],\n",
       "       [9.96554222e-01, 2.06742291e-06, 3.44371040e-03],\n",
       "       [7.53758026e-02, 3.73132878e-01, 5.51491320e-01],\n",
       "       [9.76702820e-01, 2.31998347e-02, 9.73451376e-05],\n",
       "       [9.79977084e-01, 3.40088103e-06, 2.00195150e-02],\n",
       "       [9.64232483e-01, 1.71765135e-06, 3.57657991e-02],\n",
       "       [8.10540481e-01, 1.11952933e-01, 7.75065866e-02],\n",
       "       [2.39924639e-01, 1.39829179e-01, 6.20246182e-01],\n",
       "       [1.96229408e-02, 4.46464911e-03, 9.75912410e-01],\n",
       "       [9.33357880e-01, 1.22256531e-02, 5.44164665e-02],\n",
       "       [9.59942149e-01, 4.00397498e-02, 1.81015945e-05],\n",
       "       [1.79505549e-05, 1.34987501e-02, 9.86483299e-01],\n",
       "       [9.12254319e-06, 9.17977515e-03, 9.90811102e-01],\n",
       "       [9.99940619e-01, 1.27940508e-06, 5.81012653e-05],\n",
       "       [3.16693031e-01, 8.31205391e-02, 6.00186430e-01],\n",
       "       [3.19330216e-04, 4.09168118e-03, 9.95588989e-01],\n",
       "       [3.16114110e-03, 2.86243901e-04, 9.96552615e-01],\n",
       "       [1.25183395e-03, 3.49913467e-02, 9.63756819e-01],\n",
       "       [7.59539746e-01, 2.30085090e-01, 1.03751645e-02],\n",
       "       [3.81569553e-05, 3.28161800e-02, 9.67145663e-01],\n",
       "       [8.30735465e-01, 1.02484955e-02, 1.59016039e-01],\n",
       "       [9.83027699e-01, 1.11229556e-02, 5.84934539e-03],\n",
       "       [4.15593947e-01, 2.57169038e-01, 3.27237015e-01],\n",
       "       [7.71448735e-04, 1.65228515e-02, 9.82705700e-01],\n",
       "       [9.83027699e-01, 1.11229556e-02, 5.84934539e-03],\n",
       "       [1.19526124e-01, 7.09146062e-03, 8.73382415e-01],\n",
       "       [3.14329587e-01, 1.10147002e-01, 5.75523411e-01],\n",
       "       [9.99262947e-01, 1.77729711e-06, 7.35275672e-04],\n",
       "       [5.55944743e-04, 1.22464781e-01, 8.76979274e-01],\n",
       "       [9.73651871e-01, 1.06903602e-02, 1.56577693e-02],\n",
       "       [4.37979048e-01, 2.41095626e-01, 3.20925326e-01],\n",
       "       [9.98547366e-01, 3.90176848e-06, 1.44873199e-03],\n",
       "       [1.29646604e-04, 9.34631084e-02, 9.06407245e-01],\n",
       "       [8.82805553e-01, 1.54735287e-02, 1.01720918e-01],\n",
       "       [9.88198783e-01, 1.17506601e-02, 5.05564000e-05],\n",
       "       [8.82805553e-01, 1.54735287e-02, 1.01720918e-01],\n",
       "       [1.76939006e-02, 1.37909355e-01, 8.44396744e-01],\n",
       "       [9.99969645e-01, 9.56137255e-07, 2.93991734e-05],\n",
       "       [9.93286119e-01, 1.20932971e-06, 6.71267205e-03],\n",
       "       [1.31984315e-04, 4.27076503e-03, 9.95597251e-01],\n",
       "       [1.60213741e-03, 1.94129957e-04, 9.98203733e-01],\n",
       "       [7.59166927e-01, 2.36996026e-01, 3.83704674e-03],\n",
       "       [3.11851039e-01, 4.40002488e-01, 2.48146473e-01],\n",
       "       [6.70288116e-04, 5.62750293e-01, 4.36579419e-01],\n",
       "       [9.99420021e-01, 5.52868181e-07, 5.79426519e-04],\n",
       "       [9.94350896e-01, 6.36770073e-07, 5.64846731e-03],\n",
       "       [7.68618223e-02, 5.77502309e-03, 9.17363155e-01],\n",
       "       [1.35898152e-03, 1.58184042e-05, 9.98625200e-01],\n",
       "       [3.00724646e-02, 2.35229594e-03, 9.67575240e-01],\n",
       "       [6.51696976e-01, 4.03167605e-06, 3.48298992e-01],\n",
       "       [1.29951443e-03, 8.40234852e-01, 1.58465633e-01],\n",
       "       [5.58651984e-02, 3.23800037e-02, 9.11754798e-01],\n",
       "       [9.98981241e-01, 2.93785128e-06, 1.01582067e-03],\n",
       "       [9.99996173e-01, 8.25966319e-07, 3.00058555e-06],\n",
       "       [9.94791462e-01, 3.71066439e-03, 1.49787386e-03],\n",
       "       [8.82805553e-01, 1.54735287e-02, 1.01720918e-01],\n",
       "       [9.98013593e-01, 1.72246694e-06, 1.98468481e-03],\n",
       "       [9.99420021e-01, 5.52868181e-07, 5.79426519e-04],\n",
       "       [1.16598450e-02, 6.39640535e-02, 9.24376101e-01],\n",
       "       [7.15237758e-03, 5.31915478e-01, 4.60932144e-01],\n",
       "       [9.94947731e-01, 4.88689757e-03, 1.65371411e-04],\n",
       "       [2.34120667e-05, 1.41718687e-02, 9.85804719e-01],\n",
       "       [8.98344165e-01, 1.01506527e-01, 1.49308189e-04],\n",
       "       [5.17138081e-01, 3.09883900e-02, 4.51873529e-01],\n",
       "       [9.73774460e-01, 1.82181826e-02, 8.00735701e-03],\n",
       "       [9.92971236e-01, 6.92941520e-03, 9.93490847e-05],\n",
       "       [4.75855843e-01, 1.03931342e-01, 4.20212815e-01],\n",
       "       [7.55822813e-01, 6.79916449e-02, 1.76185542e-01],\n",
       "       [3.03207467e-03, 4.06326437e-02, 9.56335282e-01],\n",
       "       [1.79505549e-05, 1.34987501e-02, 9.86483299e-01],\n",
       "       [3.94619641e-01, 1.24659871e-02, 5.92914372e-01],\n",
       "       [4.08236452e-04, 1.17641347e-01, 8.81950416e-01],\n",
       "       [9.99262947e-01, 1.77729711e-06, 7.35275672e-04],\n",
       "       [9.55962594e-01, 3.03804767e-02, 1.36569294e-02],\n",
       "       [9.12744904e-01, 5.52031138e-03, 8.17347841e-02],\n",
       "       [4.05866828e-04, 1.40751421e-01, 8.58842712e-01],\n",
       "       [9.83396335e-01, 1.64408432e-02, 1.62822107e-04],\n",
       "       [2.92369485e-01, 1.11364721e-02, 6.96494043e-01],\n",
       "       [8.15712978e-02, 7.97087972e-01, 1.21340731e-01],\n",
       "       [1.71111515e-03, 1.81321362e-01, 8.16967523e-01],\n",
       "       [2.37604183e-02, 5.97563029e-03, 9.70263951e-01],\n",
       "       [1.45618484e-02, 6.53481974e-01, 3.31956177e-01],\n",
       "       [9.98777872e-01, 1.25032299e-06, 1.22087806e-03],\n",
       "       [2.11911095e-02, 1.25037173e-03, 9.77558519e-01],\n",
       "       [7.59166927e-01, 2.36996026e-01, 3.83704674e-03],\n",
       "       [5.58160995e-05, 3.50176210e-03, 9.96442422e-01],\n",
       "       [9.57449710e-01, 3.68750783e-02, 5.67521217e-03],\n",
       "       [9.99516646e-01, 1.29892104e-06, 4.82055110e-04],\n",
       "       [2.91320215e-05, 1.58900464e-02, 9.84080822e-01],\n",
       "       [5.57776044e-04, 4.99920983e-02, 9.49450126e-01],\n",
       "       [4.49805827e-01, 3.51793670e-01, 1.98400503e-01],\n",
       "       [5.71612446e-01, 3.48177520e-01, 8.02100346e-02],\n",
       "       [8.53309864e-05, 1.12679858e-01, 8.87234811e-01],\n",
       "       [1.92056789e-04, 1.12891456e-01, 8.86916487e-01],\n",
       "       [1.04228631e-01, 5.48910566e-03, 8.90282263e-01],\n",
       "       [1.57685317e-04, 1.28599559e-02, 9.86982359e-01],\n",
       "       [5.95252179e-03, 1.39499048e-01, 8.54548430e-01],\n",
       "       [8.48714952e-01, 1.48553515e-01, 2.73153289e-03],\n",
       "       [1.19526124e-01, 7.09146062e-03, 8.73382415e-01],\n",
       "       [3.50625500e-02, 1.43038221e-02, 9.50633628e-01],\n",
       "       [2.94100690e-01, 1.29830092e-02, 6.92916301e-01],\n",
       "       [4.83436366e-01, 3.08221577e-01, 2.08342057e-01],\n",
       "       [9.57449710e-01, 3.68750783e-02, 5.67521217e-03],\n",
       "       [9.81383457e-01, 2.97885953e-06, 1.86135638e-02],\n",
       "       [8.30224941e-01, 1.47596382e-01, 2.21786770e-02],\n",
       "       [1.52677441e-06, 1.29002841e-03, 9.98708445e-01],\n",
       "       [2.63660382e-04, 5.34768896e-02, 9.46259450e-01],\n",
       "       [2.65802052e-03, 4.57591631e-04, 9.96884388e-01],\n",
       "       [8.38490194e-01, 1.61438547e-01, 7.12596177e-05],\n",
       "       [9.90156171e-01, 3.61652355e-06, 9.84021238e-03],\n",
       "       [9.18038516e-01, 7.18738901e-02, 1.00875943e-02],\n",
       "       [5.87283433e-03, 4.85780034e-02, 9.45549162e-01],\n",
       "       [8.73080458e-01, 1.12583066e-01, 1.43364761e-02],\n",
       "       [3.19330216e-04, 4.09168118e-03, 9.95588989e-01],\n",
       "       [9.34403047e-01, 1.44715449e-05, 6.55824811e-02],\n",
       "       [4.88304023e-02, 5.42675464e-03, 9.45742843e-01],\n",
       "       [8.37955884e-02, 5.62253208e-01, 3.53951203e-01],\n",
       "       [7.73217602e-01, 2.22886816e-02, 2.04493716e-01],\n",
       "       [9.59800327e-01, 3.80946234e-02, 2.10504967e-03],\n",
       "       [1.87084072e-02, 2.01753411e-03, 9.79274059e-01],\n",
       "       [8.70253556e-01, 2.75545740e-06, 1.29743688e-01],\n",
       "       [5.76483764e-02, 1.45246067e-03, 9.40899163e-01],\n",
       "       [9.99650343e-01, 7.85685280e-07, 3.48871489e-04],\n",
       "       [9.18455301e-01, 2.74309196e-02, 5.41137792e-02],\n",
       "       [1.50546518e-03, 4.02073380e-01, 5.96421155e-01],\n",
       "       [8.87720914e-01, 9.30008970e-02, 1.92781891e-02],\n",
       "       [2.62552248e-01, 4.73051408e-02, 6.90142612e-01],\n",
       "       [9.99262947e-01, 1.77729711e-06, 7.35275672e-04],\n",
       "       [9.82464115e-01, 7.82427666e-03, 9.71160860e-03],\n",
       "       [2.65802052e-03, 4.57591631e-04, 9.96884388e-01],\n",
       "       [5.79413743e-01, 2.11532001e-01, 2.09054256e-01],\n",
       "       [2.84537248e-01, 1.51988004e-01, 5.63474748e-01],\n",
       "       [6.36594196e-03, 5.27037302e-01, 4.66596756e-01],\n",
       "       [9.99885629e-01, 7.50803265e-07, 1.13620601e-04],\n",
       "       [9.99650343e-01, 7.85685280e-07, 3.48871489e-04],\n",
       "       [9.72667397e-01, 5.88744745e-06, 2.73267160e-02],\n",
       "       [8.10540481e-01, 1.11952933e-01, 7.75065866e-02],\n",
       "       [3.44505016e-01, 4.45503084e-01, 2.09991900e-01],\n",
       "       [9.18455301e-01, 2.74309196e-02, 5.41137792e-02],\n",
       "       [9.94350896e-01, 6.36770073e-07, 5.64846731e-03],\n",
       "       [8.18501604e-04, 6.70566274e-06, 9.99174793e-01],\n",
       "       [9.96554222e-01, 2.06742291e-06, 3.44371040e-03],\n",
       "       [1.50546518e-03, 4.02073380e-01, 5.96421155e-01],\n",
       "       [6.53067288e-05, 3.46881343e-03, 9.96465880e-01],\n",
       "       [1.20736789e-02, 8.47964054e-04, 9.87078357e-01],\n",
       "       [2.00630548e-01, 5.37880381e-03, 7.93990648e-01],\n",
       "       [9.64232483e-01, 1.71765135e-06, 3.57657991e-02],\n",
       "       [9.35813625e-01, 1.18149202e-05, 6.41745601e-02],\n",
       "       [1.85612702e-04, 3.85088691e-02, 9.61305518e-01],\n",
       "       [8.57193064e-03, 9.31280988e-01, 6.01470816e-02],\n",
       "       [9.95306969e-01, 1.60644141e-06, 4.69142486e-03],\n",
       "       [9.99993647e-01, 4.84733692e-07, 5.86813763e-06],\n",
       "       [9.73774460e-01, 1.82181826e-02, 8.00735701e-03],\n",
       "       [9.99420021e-01, 5.52868181e-07, 5.79426519e-04],\n",
       "       [4.29859500e-01, 3.42246783e-02, 5.35915821e-01],\n",
       "       [8.82119385e-01, 1.02151430e-01, 1.57291849e-02],\n",
       "       [9.41955842e-01, 1.18101892e-06, 5.80429774e-02],\n",
       "       [2.84537248e-01, 1.51988004e-01, 5.63474748e-01],\n",
       "       [6.04579169e-02, 8.11719150e-03, 9.31424892e-01],\n",
       "       [9.57449710e-01, 3.68750783e-02, 5.67521217e-03],\n",
       "       [9.83027699e-01, 1.11229556e-02, 5.84934539e-03],\n",
       "       [9.34647868e-01, 2.14177060e-06, 6.53499901e-02],\n",
       "       [9.61052974e-01, 3.88980481e-02, 4.89783075e-05],\n",
       "       [3.67831175e-03, 6.52841493e-06, 9.96315160e-01],\n",
       "       [9.98894578e-01, 1.30626339e-06, 1.10411539e-03],\n",
       "       [6.74662590e-01, 2.06220392e-01, 1.19117017e-01],\n",
       "       [8.98344165e-01, 1.01506527e-01, 1.49308189e-04],\n",
       "       [8.18501604e-04, 6.70566274e-06, 9.99174793e-01],\n",
       "       [9.59800327e-01, 3.80946234e-02, 2.10504967e-03],\n",
       "       [1.76939006e-02, 1.37909355e-01, 8.44396744e-01],\n",
       "       [1.28740516e-02, 5.34655145e-04, 9.86591293e-01],\n",
       "       [1.23841954e-05, 3.58639325e-03, 9.96401223e-01],\n",
       "       [9.73651871e-01, 1.06903602e-02, 1.56577693e-02],\n",
       "       [8.97805256e-01, 3.88515052e-02, 6.33432389e-02],\n",
       "       [9.85009426e-01, 2.69413192e-06, 1.49878795e-02],\n",
       "       [1.51159942e-03, 2.41943640e-02, 9.74294037e-01],\n",
       "       [4.19918311e-03, 1.62714886e-01, 8.33085931e-01],\n",
       "       [4.02327724e-01, 2.82740078e-04, 5.97389536e-01],\n",
       "       [8.76303519e-05, 1.58967738e-02, 9.84015596e-01],\n",
       "       [9.92839979e-01, 2.04422611e-06, 7.15797698e-03],\n",
       "       [9.96090488e-01, 3.77681581e-06, 3.90573568e-03],\n",
       "       [2.45262674e-04, 1.32132636e-01, 8.67622101e-01],\n",
       "       [9.59800327e-01, 3.80946234e-02, 2.10504967e-03],\n",
       "       [7.74253207e-01, 1.43870871e-06, 2.25745354e-01],\n",
       "       [9.35671035e-01, 6.32796416e-02, 1.04932317e-03],\n",
       "       [9.98435039e-01, 5.35954045e-07, 1.56442524e-03],\n",
       "       [9.93286119e-01, 1.20932971e-06, 6.71267205e-03],\n",
       "       [9.64362536e-01, 2.61414916e-02, 9.49597199e-03],\n",
       "       [4.73705367e-05, 3.67104575e-02, 9.63242172e-01],\n",
       "       [8.13685116e-05, 3.89445385e-03, 9.96024178e-01],\n",
       "       [8.59776158e-01, 1.13454439e-01, 2.67694035e-02],\n",
       "       [9.90402349e-01, 1.51882391e-06, 9.59613256e-03],\n",
       "       [1.08903009e-05, 5.76406156e-03, 9.94225048e-01],\n",
       "       [2.34120667e-05, 1.41718687e-02, 9.85804719e-01],\n",
       "       [9.78164578e-01, 1.88592498e-02, 2.97617228e-03],\n",
       "       [7.59166927e-01, 2.36996026e-01, 3.83704674e-03],\n",
       "       [1.57685317e-04, 1.28599559e-02, 9.86982359e-01],\n",
       "       [9.59800327e-01, 3.80946234e-02, 2.10504967e-03],\n",
       "       [9.99056931e-01, 7.61947279e-07, 9.42306686e-04],\n",
       "       [6.43036677e-01, 7.44119991e-02, 2.82551324e-01],\n",
       "       [8.45338074e-04, 3.17298520e-01, 6.81856142e-01],\n",
       "       [9.61052974e-01, 3.88980481e-02, 4.89783075e-05],\n",
       "       [9.35671035e-01, 6.32796416e-02, 1.04932317e-03],\n",
       "       [9.99968028e-01, 6.29399951e-07, 3.13427370e-05],\n",
       "       [9.99996173e-01, 8.25966319e-07, 3.00058555e-06],\n",
       "       [9.99650343e-01, 7.85685280e-07, 3.48871489e-04],\n",
       "       [2.92965555e-04, 8.63568079e-02, 9.13350227e-01],\n",
       "       [3.95798798e-02, 4.88154364e-03, 9.55538577e-01],\n",
       "       [2.58130127e-03, 1.39591756e-02, 9.83459523e-01],\n",
       "       [9.96554222e-01, 2.06742291e-06, 3.44371040e-03],\n",
       "       [9.83003561e-01, 1.69362168e-02, 6.02220036e-05],\n",
       "       [9.76071059e-01, 2.38929457e-02, 3.59955307e-05],\n",
       "       [2.48517452e-03, 3.32843519e-01, 6.64671306e-01],\n",
       "       [7.59166927e-01, 2.36996026e-01, 3.83704674e-03],\n",
       "       [7.73715274e-02, 9.52096594e-03, 9.13107507e-01],\n",
       "       [8.38157583e-01, 1.53557640e-01, 8.28477777e-03],\n",
       "       [5.99990758e-01, 3.16817158e-02, 3.68327526e-01],\n",
       "       [3.26195507e-01, 6.97924749e-02, 6.04012018e-01],\n",
       "       [1.59824413e-04, 6.06030962e-02, 9.39237079e-01],\n",
       "       [6.99832154e-01, 1.15060979e-01, 1.85106867e-01],\n",
       "       [2.44333721e-05, 5.28777643e-03, 9.94687790e-01],\n",
       "       [9.24124858e-01, 5.66892146e-02, 1.91859276e-02],\n",
       "       [9.99758774e-01, 1.69883345e-06, 2.39527308e-04],\n",
       "       [4.59586642e-05, 2.07899922e-02, 9.79164049e-01],\n",
       "       [9.94811709e-01, 4.74141585e-03, 4.46874662e-04],\n",
       "       [9.89241488e-01, 9.35043037e-03, 1.40808146e-03],\n",
       "       [5.65769797e-04, 2.78763517e-01, 7.20670713e-01],\n",
       "       [1.61567937e-03, 6.13079412e-01, 3.85304908e-01],\n",
       "       [9.88897053e-01, 8.47411774e-07, 1.11020994e-02],\n",
       "       [5.42922884e-01, 1.68475293e-01, 2.88601823e-01],\n",
       "       [7.51394675e-04, 1.94731813e-01, 8.04516793e-01]])"
      ]
     },
     "execution_count": 58,
     "metadata": {},
     "output_type": "execute_result"
    }
   ],
   "source": [
    "# Menentukan probabilitas hasil prediksi\n",
    "nbtrain.predict_proba(feature_test)"
   ]
  },
  {
   "cell_type": "code",
   "execution_count": 59,
   "metadata": {
    "scrolled": true
   },
   "outputs": [
    {
     "data": {
      "text/plain": [
       "array([[126,   3,  21],\n",
       "       [ 11,   3,   7],\n",
       "       [ 11,   5,  84]], dtype=int64)"
      ]
     },
     "execution_count": 59,
     "metadata": {},
     "output_type": "execute_result"
    }
   ],
   "source": [
    "# import confusion_matrix model\n",
    "from sklearn.metrics import confusion_matrix\n",
    "confusion_matrix(target_test, targetNB_pred)"
   ]
  },
  {
   "cell_type": "markdown",
   "metadata": {},
   "source": [
    "Bernoulli Naive Bayes"
   ]
  },
  {
   "cell_type": "code",
   "execution_count": 68,
   "metadata": {},
   "outputs": [],
   "source": [
    "from sklearn.naive_bayes import BernoulliNB"
   ]
  },
  {
   "cell_type": "code",
   "execution_count": 69,
   "metadata": {},
   "outputs": [],
   "source": [
    "modelnbnb = BernoulliNB()"
   ]
  },
  {
   "cell_type": "code",
   "execution_count": 70,
   "metadata": {},
   "outputs": [],
   "source": [
    "mnbtrain = modelnbnb.fit(feature_train,target_train)"
   ]
  },
  {
   "cell_type": "code",
   "execution_count": 71,
   "metadata": {},
   "outputs": [
    {
     "data": {
      "text/plain": [
       "array([ 0, -1,  1,  1,  1, -1,  1, -1, -1, -1,  0,  1, -1, -1, -1, -1, -1,\n",
       "        1, -1, -1,  1, -1,  1,  1,  1, -1,  1, -1,  1, -1,  1,  1, -1,  1,\n",
       "        1, -1, -1,  1,  1, -1,  1, -1,  0, -1, -1, -1, -1, -1,  1, -1, -1,\n",
       "        1,  1, -1,  1,  1,  1,  1, -1,  1, -1, -1, -1,  1, -1,  1,  1, -1,\n",
       "        1, -1, -1, -1,  1, -1, -1, -1,  1, -1, -1,  1,  1, -1, -1,  0, -1,\n",
       "       -1,  1,  1,  1, -1,  0,  1, -1, -1, -1, -1, -1, -1,  1,  1, -1,  1,\n",
       "       -1,  1, -1, -1,  1,  1,  1,  1,  1,  1, -1,  0, -1,  1, -1,  1,  0,\n",
       "        1,  1,  1, -1,  1, -1,  1, -1, -1,  1,  1, -1, -1,  1,  1,  1,  1,\n",
       "        1, -1,  1,  1,  1, -1, -1, -1, -1,  1,  1,  1, -1, -1, -1,  1, -1,\n",
       "        1, -1,  1,  0,  1, -1,  1, -1,  1, -1, -1,  1, -1,  1, -1, -1,  1,\n",
       "       -1, -1,  1, -1, -1, -1, -1, -1, -1, -1,  1, -1,  1,  1,  1,  1, -1,\n",
       "       -1,  1,  0, -1, -1, -1, -1,  1, -1, -1, -1,  1, -1, -1, -1, -1,  1,\n",
       "       -1, -1, -1,  1, -1,  1,  1,  1, -1, -1, -1,  1,  0, -1,  1, -1, -1,\n",
       "        1, -1, -1, -1, -1, -1, -1,  1,  1, -1, -1,  1,  1, -1, -1,  1, -1,\n",
       "       -1, -1,  1, -1, -1, -1, -1, -1,  1,  1,  0, -1, -1, -1,  1, -1,  1,\n",
       "       -1,  1, -1,  1, -1,  1, -1, -1,  1, -1, -1,  1,  1, -1,  1,  1],\n",
       "      dtype=int64)"
      ]
     },
     "execution_count": 71,
     "metadata": {},
     "output_type": "execute_result"
    }
   ],
   "source": [
    "targetBNB_pred = mnbtrain.predict(feature_test)\n",
    "targetBNB_pred"
   ]
  },
  {
   "cell_type": "code",
   "execution_count": 72,
   "metadata": {},
   "outputs": [
    {
     "data": {
      "text/plain": [
       "array([[127,   5,  18],\n",
       "       [ 12,   2,   7],\n",
       "       [  8,   4,  88]], dtype=int64)"
      ]
     },
     "execution_count": 72,
     "metadata": {},
     "output_type": "execute_result"
    }
   ],
   "source": [
    "confusion_matrix(target_test, targetBNB_pred)"
   ]
  },
  {
   "cell_type": "code",
   "execution_count": 73,
   "metadata": {},
   "outputs": [
    {
     "name": "stdout",
     "output_type": "stream",
     "text": [
      "             precision    recall  f1-score   support\n",
      "\n",
      "         -1       0.86      0.85      0.86       150\n",
      "          0       0.18      0.10      0.12        21\n",
      "          1       0.78      0.88      0.83       100\n",
      "\n",
      "avg / total       0.78      0.80      0.79       271\n",
      "\n"
     ]
    }
   ],
   "source": [
    "# Menghitung nilai akurasi dari klasifikasi naive bayes BNB=BernoulliNB\n",
    "from sklearn.metrics import classification_report\n",
    "print(classification_report(target_test,targetBNB_pred))"
   ]
  },
  {
   "cell_type": "code",
   "execution_count": 60,
   "metadata": {},
   "outputs": [
    {
     "name": "stdout",
     "output_type": "stream",
     "text": [
      "             precision    recall  f1-score   support\n",
      "\n",
      "         -1       0.85      0.84      0.85       150\n",
      "          0       0.27      0.14      0.19        21\n",
      "          1       0.75      0.84      0.79       100\n",
      "\n",
      "avg / total       0.77      0.79      0.78       271\n",
      "\n"
     ]
    }
   ],
   "source": [
    "# Menghitung nilai akurasi dari klasifikasi naive bayes NB=GaussianNB\n",
    "from sklearn.metrics import classification_report\n",
    "print(classification_report(target_test,targetNB_pred))"
   ]
  },
  {
   "cell_type": "code",
   "execution_count": 24,
   "metadata": {
    "scrolled": true
   },
   "outputs": [
    {
     "name": "stdout",
     "output_type": "stream",
     "text": [
      "             precision    recall  f1-score   support\n",
      "\n",
      "         -1       0.84      0.91      0.87       129\n",
      "          0       0.77      0.74      0.76        23\n",
      "          1       0.90      0.82      0.85       119\n",
      "\n",
      "avg / total       0.86      0.86      0.86       271\n",
      "\n"
     ]
    }
   ],
   "source": [
    "# Menghitung nilai akurasi dari klasifikasi MLPClassifier solver=adam\n",
    "from sklearn.metrics import classification_report\n",
    "print(classification_report(target_test,target_pred))"
   ]
  },
  {
   "cell_type": "markdown",
   "metadata": {},
   "source": [
    "KNN"
   ]
  },
  {
   "cell_type": "code",
   "execution_count": 74,
   "metadata": {},
   "outputs": [],
   "source": [
    "from sklearn.neighbors import KNeighborsClassifier\n",
    "\n",
    "model = KNeighborsClassifier(n_neighbors=3)"
   ]
  },
  {
   "cell_type": "code",
   "execution_count": 75,
   "metadata": {},
   "outputs": [],
   "source": [
    "modelknn = modelnb.fit(feature_train,target_train)"
   ]
  },
  {
   "cell_type": "code",
   "execution_count": 76,
   "metadata": {},
   "outputs": [
    {
     "name": "stdout",
     "output_type": "stream",
     "text": [
      "[-1 -1  1  1  1 -1  1 -1 -1 -1 -1  1 -1 -1 -1 -1 -1  1 -1  1  1 -1  1  1\n",
      "  1 -1  1 -1  1 -1  1  1 -1  1  1 -1 -1  1  1 -1  1 -1  1 -1 -1 -1 -1  1\n",
      "  1 -1 -1  1  1 -1  1  1  1  1 -1  1 -1 -1 -1  1 -1  1  1 -1  1 -1 -1 -1\n",
      "  1 -1 -1 -1  1 -1 -1  1  1 -1  0  0 -1 -1  1  1  1 -1  0  1 -1 -1 -1 -1\n",
      " -1 -1  1  0 -1  1 -1 -1 -1 -1 -1 -1  1  1  1  1 -1 -1 -1  1 -1  1  0  1\n",
      "  1  0 -1  1 -1  1 -1 -1  1  1 -1 -1  1  1  1  1  1 -1  1  1  1 -1 -1 -1\n",
      " -1  1  1  1 -1 -1 -1  1 -1  1 -1  1  0 -1 -1  1 -1  1 -1 -1  1 -1  1 -1\n",
      " -1  1 -1  1  0 -1 -1 -1 -1  0 -1 -1  1 -1  1  1  1  1 -1 -1  1  0 -1 -1\n",
      " -1 -1  1 -1 -1  1  1 -1 -1 -1 -1  1 -1 -1 -1  1 -1  1  1  1 -1 -1 -1  1\n",
      "  1  1  1 -1 -1  1 -1 -1 -1 -1 -1 -1  1  1 -1 -1  1  1 -1 -1  1 -1 -1 -1\n",
      "  1 -1 -1 -1 -1 -1  1  1  1 -1 -1 -1  1 -1  1 -1 -1  1  1 -1  1 -1 -1  1\n",
      " -1 -1  1  0 -1 -1  1]\n"
     ]
    }
   ],
   "source": [
    "predicted = modelknn.predict(feature_test)\n",
    "print(predicted)"
   ]
  },
  {
   "cell_type": "code",
   "execution_count": 77,
   "metadata": {},
   "outputs": [
    {
     "name": "stdout",
     "output_type": "stream",
     "text": [
      "Accuracy: 0.7859778597785978\n"
     ]
    }
   ],
   "source": [
    "from sklearn import metrics\n",
    "# Model Accuracy, how often is the classifier correct?\n",
    "print(\"Accuracy:\",metrics.accuracy_score(target_test, predicted))"
   ]
  },
  {
   "cell_type": "code",
   "execution_count": 78,
   "metadata": {
    "scrolled": true
   },
   "outputs": [
    {
     "name": "stdout",
     "output_type": "stream",
     "text": [
      "             precision    recall  f1-score   support\n",
      "\n",
      "         -1       0.85      0.84      0.85       150\n",
      "          0       0.27      0.14      0.19        21\n",
      "          1       0.75      0.84      0.79       100\n",
      "\n",
      "avg / total       0.77      0.79      0.78       271\n",
      "\n"
     ]
    }
   ],
   "source": [
    "# Menghitung nilai akurasi dari klasifikasi KNN n_neighboors=3\n",
    "from sklearn.metrics import classification_report\n",
    "print(classification_report(target_test,predicted))"
   ]
  },
  {
   "cell_type": "code",
   "execution_count": 79,
   "metadata": {},
   "outputs": [],
   "source": [
    "modell = KNeighborsClassifier(n_neighbors=5)"
   ]
  },
  {
   "cell_type": "code",
   "execution_count": 80,
   "metadata": {},
   "outputs": [],
   "source": [
    "modelknn5 = modell.fit(feature_train,target_train)"
   ]
  },
  {
   "cell_type": "code",
   "execution_count": 81,
   "metadata": {},
   "outputs": [
    {
     "name": "stdout",
     "output_type": "stream",
     "text": [
      "[ 1 -1  1  1  1 -1  1 -1 -1 -1  1  1 -1 -1  1 -1 -1  1  1 -1 -1 -1  1  1\n",
      "  1 -1  1 -1 -1 -1  1  1  1  1  1 -1 -1  1  1 -1  1 -1  1 -1 -1 -1 -1  1\n",
      "  1 -1 -1  1  1 -1 -1  1  1  1  0  1 -1 -1  1  1 -1  1  1 -1  1 -1  1 -1\n",
      "  1 -1 -1 -1  1 -1 -1  1  1  0  0  1 -1 -1  1  1  1 -1  0 -1 -1 -1 -1 -1\n",
      " -1 -1  1  0 -1  1 -1  0 -1 -1  1 -1  1  1  1  1 -1  1 -1  1 -1  1 -1  1\n",
      "  1  1 -1  1  0  1 -1 -1  1  0  1 -1  1  1  1  1  1  0  1  1  1  1 -1 -1\n",
      " -1  1  1  1  0 -1 -1  0 -1  1 -1  1 -1  1 -1  1 -1 -1 -1 -1  1 -1  0 -1\n",
      " -1  1  1  1 -1 -1 -1 -1 -1  1 -1 -1  1 -1  1  1  1  1 -1 -1  1 -1 -1 -1\n",
      " -1 -1  1 -1 -1  1  1 -1 -1  1 -1  1 -1 -1 -1  1 -1  1  1  1 -1 -1 -1  1\n",
      "  1  1  1 -1 -1  1 -1 -1 -1 -1 -1 -1  1  1 -1 -1  1  1 -1  0  1 -1 -1  1\n",
      "  1 -1 -1 -1 -1 -1  1  1  1 -1 -1 -1  1  0  1 -1  1  1  1  1  1 -1 -1  1\n",
      " -1 -1  1  0 -1 -1  1]\n"
     ]
    }
   ],
   "source": [
    "predicted5 = modelknn5.predict(feature_test)\n",
    "print(predicted5)"
   ]
  },
  {
   "cell_type": "code",
   "execution_count": 82,
   "metadata": {},
   "outputs": [
    {
     "name": "stdout",
     "output_type": "stream",
     "text": [
      "Accuracy: 0.8413284132841329\n"
     ]
    }
   ],
   "source": [
    "from sklearn import metrics\n",
    "# Model Accuracy, how often is the classifier correct?\n",
    "print(\"Accuracy:\",metrics.accuracy_score(target_test, predicted5))"
   ]
  },
  {
   "cell_type": "code",
   "execution_count": 83,
   "metadata": {},
   "outputs": [
    {
     "name": "stdout",
     "output_type": "stream",
     "text": [
      "             precision    recall  f1-score   support\n",
      "\n",
      "         -1       0.93      0.83      0.88       150\n",
      "          0       0.73      0.52      0.61        21\n",
      "          1       0.76      0.93      0.83       100\n",
      "\n",
      "avg / total       0.85      0.84      0.84       271\n",
      "\n"
     ]
    }
   ],
   "source": [
    "# Menghitung nilai akurasi dari klasifikasi KNN n_neighboors=5\n",
    "from sklearn.metrics import classification_report\n",
    "print(classification_report(target_test,predicted5))"
   ]
  },
  {
   "cell_type": "code",
   "execution_count": 84,
   "metadata": {},
   "outputs": [
    {
     "name": "stdout",
     "output_type": "stream",
     "text": [
      "[ 1 -1  1  1  1 -1  1 -1 -1 -1  1  1 -1 -1  1 -1 -1  1 -1 -1 -1 -1  1  1\n",
      "  1 -1  1 -1 -1 -1  1  1 -1  1  1 -1 -1  1  1 -1  1 -1  1 -1 -1 -1 -1  1\n",
      "  1 -1 -1  1  1 -1 -1  1  1  1  0  1 -1 -1  1  1 -1  1  1 -1  1 -1  1 -1\n",
      "  1 -1  0 -1  1 -1 -1  1  1  0  0  1 -1 -1  1  1  1 -1  0 -1 -1 -1 -1 -1\n",
      " -1 -1  1  0 -1  1 -1  0 -1 -1  1 -1  1  1  1  1 -1  1 -1  1 -1  1 -1  1\n",
      "  1  1 -1  1  0  1 -1 -1  1  0  1 -1  1  1  1  1  1 -1  1  1  1  1 -1 -1\n",
      " -1  1  1  1  0 -1 -1  0 -1  1 -1  1 -1 -1 -1  1 -1  1 -1 -1  1 -1  0 -1\n",
      " -1  1 -1  1  1 -1 -1 -1 -1  1 -1 -1  1 -1  1  1  1  1 -1 -1  1 -1 -1 -1\n",
      " -1 -1  1 -1 -1  1  1 -1 -1  1 -1  1 -1 -1 -1  1 -1  1  1  1 -1 -1 -1  1\n",
      "  1  1  1 -1 -1  1 -1 -1 -1 -1 -1 -1  1  1  1 -1  1  1 -1  0  1 -1 -1 -1\n",
      "  1 -1 -1 -1 -1 -1  1  1  1 -1 -1 -1  1  0  1 -1  1  1  1  1  1 -1 -1  1\n",
      " -1 -1  1  0 -1  1  1]\n"
     ]
    }
   ],
   "source": [
    "modelll = KNeighborsClassifier(n_neighbors=7)\n",
    "modelknn7 = modelll.fit(feature_train,target_train)\n",
    "predicted7 = modelknn7.predict(feature_test)\n",
    "print(predicted7)"
   ]
  },
  {
   "cell_type": "code",
   "execution_count": 85,
   "metadata": {},
   "outputs": [
    {
     "name": "stdout",
     "output_type": "stream",
     "text": [
      "Accuracy: 0.8450184501845018\n"
     ]
    }
   ],
   "source": [
    "print(\"Accuracy:\",metrics.accuracy_score(target_test, predicted7))"
   ]
  },
  {
   "cell_type": "code",
   "execution_count": 86,
   "metadata": {},
   "outputs": [
    {
     "name": "stdout",
     "output_type": "stream",
     "text": [
      "             precision    recall  f1-score   support\n",
      "\n",
      "         -1       0.93      0.83      0.88       150\n",
      "          0       0.73      0.52      0.61        21\n",
      "          1       0.76      0.93      0.84       100\n",
      "\n",
      "avg / total       0.85      0.85      0.84       271\n",
      "\n"
     ]
    }
   ],
   "source": [
    "print(classification_report(target_test,predicted7))"
   ]
  },
  {
   "cell_type": "code",
   "execution_count": 88,
   "metadata": {},
   "outputs": [
    {
     "name": "stdout",
     "output_type": "stream",
     "text": [
      "             precision    recall  f1-score   support\n",
      "\n",
      "         -1       0.96      0.87      0.92       150\n",
      "          0       0.76      0.90      0.83        21\n",
      "          1       0.85      0.93      0.89       100\n",
      "\n",
      "avg / total       0.90      0.90      0.90       271\n",
      "\n"
     ]
    }
   ],
   "source": [
    "print(classification_report(target_test,target_pred))"
   ]
  },
  {
   "cell_type": "code",
   "execution_count": 89,
   "metadata": {},
   "outputs": [
    {
     "name": "stdout",
     "output_type": "stream",
     "text": [
      "             precision    recall  f1-score   support\n",
      "\n",
      "         -1       0.86      0.85      0.86       150\n",
      "          0       0.33      0.10      0.15        21\n",
      "          1       0.75      0.88      0.81       100\n",
      "\n",
      "avg / total       0.78      0.80      0.78       271\n",
      "\n"
     ]
    }
   ],
   "source": [
    "print(classification_report(target_test,targetn_pred))"
   ]
  }
 ],
 "metadata": {
  "kernelspec": {
   "display_name": "Python 3",
   "language": "python",
   "name": "python3"
  },
  "language_info": {
   "codemirror_mode": {
    "name": "ipython",
    "version": 3
   },
   "file_extension": ".py",
   "mimetype": "text/x-python",
   "name": "python",
   "nbconvert_exporter": "python",
   "pygments_lexer": "ipython3",
   "version": "3.6.5"
  }
 },
 "nbformat": 4,
 "nbformat_minor": 2
}
