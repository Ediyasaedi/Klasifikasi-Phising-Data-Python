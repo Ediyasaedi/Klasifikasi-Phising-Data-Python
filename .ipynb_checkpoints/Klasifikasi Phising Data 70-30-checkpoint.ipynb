{
 "cells": [
  {
   "cell_type": "code",
   "execution_count": 1,
   "metadata": {},
   "outputs": [],
   "source": [
    "import pandas as pd\n",
    "import numpy as np"
   ]
  },
  {
   "cell_type": "markdown",
   "metadata": {},
   "source": [
    "Split Data"
   ]
  },
  {
   "cell_type": "code",
   "execution_count": 2,
   "metadata": {},
   "outputs": [],
   "source": [
    "#Ambil data csv dan bagi data ke feature & target\n",
    "data = pd.read_csv ('PhishingData.csv')\n",
    "feature = data.iloc[:,0:8]\n",
    "target = data.iloc[:,9]"
   ]
  },
  {
   "cell_type": "code",
   "execution_count": 3,
   "metadata": {},
   "outputs": [],
   "source": [
    "#split data ke feature_train, feature_test, target_train, target_test\n",
    "from sklearn.model_selection import train_test_split\n",
    "feature_train,feature_test,target_train,target_test = train_test_split(feature,target,test_size=0.3)"
   ]
  },
  {
   "cell_type": "markdown",
   "metadata": {},
   "source": [
    "Multi Layer Perceptron\n",
    "Parameter: solver='adam' vs solver='sgd'"
   ]
  },
  {
   "cell_type": "code",
   "execution_count": 4,
   "metadata": {
    "scrolled": true
   },
   "outputs": [
    {
     "data": {
      "text/plain": [
       "MLPClassifier(activation='relu', alpha=0.0001, batch_size='auto', beta_1=0.9,\n",
       "       beta_2=0.999, early_stopping=False, epsilon=1e-08,\n",
       "       hidden_layer_sizes=(100,), learning_rate='constant',\n",
       "       learning_rate_init=0.001, max_iter=1000000, momentum=0.9,\n",
       "       nesterovs_momentum=True, power_t=0.5, random_state=None,\n",
       "       shuffle=True, solver='adam', tol=0.0001, validation_fraction=0.1,\n",
       "       verbose=False, warm_start=False)"
      ]
     },
     "execution_count": 4,
     "metadata": {},
     "output_type": "execute_result"
    }
   ],
   "source": [
    "from sklearn.neural_network import MLPClassifier\n",
    "nn=MLPClassifier(max_iter=1000000, learning_rate_init=0.001)\n",
    "nn.fit(feature_train,target_train)"
   ]
  },
  {
   "cell_type": "code",
   "execution_count": 5,
   "metadata": {},
   "outputs": [
    {
     "name": "stdout",
     "output_type": "stream",
     "text": [
      "target_test= 1 & target_pred= 1\n",
      "target_test= -1 & target_pred= -1\n",
      "target_test= -1 & target_pred= -1\n",
      "target_test= -1 & target_pred= -1\n",
      "target_test= 0 & target_pred= 1\n",
      "target_test= -1 & target_pred= -1\n",
      "target_test= 1 & target_pred= 1\n",
      "target_test= -1 & target_pred= -1\n",
      "target_test= 0 & target_pred= 0\n",
      "target_test= -1 & target_pred= -1\n",
      "target_test= 1 & target_pred= 1\n",
      "target_test= 1 & target_pred= 1\n",
      "target_test= 1 & target_pred= 1\n",
      "target_test= 1 & target_pred= 1\n",
      "target_test= 1 & target_pred= 1\n",
      "target_test= 1 & target_pred= 1\n",
      "target_test= -1 & target_pred= -1\n",
      "target_test= 1 & target_pred= 1\n",
      "target_test= 1 & target_pred= 0\n",
      "target_test= -1 & target_pred= 1\n",
      "target_test= -1 & target_pred= -1\n",
      "target_test= -1 & target_pred= -1\n",
      "target_test= 1 & target_pred= 1\n",
      "target_test= -1 & target_pred= -1\n",
      "target_test= 1 & target_pred= -1\n",
      "target_test= 1 & target_pred= 1\n",
      "target_test= -1 & target_pred= -1\n",
      "target_test= -1 & target_pred= -1\n",
      "target_test= -1 & target_pred= -1\n",
      "target_test= -1 & target_pred= 1\n",
      "target_test= 1 & target_pred= -1\n",
      "target_test= -1 & target_pred= -1\n",
      "target_test= -1 & target_pred= 1\n",
      "target_test= -1 & target_pred= -1\n",
      "target_test= 1 & target_pred= 1\n",
      "target_test= 1 & target_pred= 1\n",
      "target_test= -1 & target_pred= -1\n",
      "target_test= 1 & target_pred= 1\n",
      "target_test= 1 & target_pred= 1\n",
      "target_test= -1 & target_pred= -1\n",
      "target_test= -1 & target_pred= -1\n",
      "target_test= -1 & target_pred= -1\n",
      "target_test= 1 & target_pred= 1\n",
      "target_test= 1 & target_pred= 1\n",
      "target_test= -1 & target_pred= -1\n",
      "target_test= -1 & target_pred= -1\n",
      "target_test= 1 & target_pred= 1\n",
      "target_test= -1 & target_pred= 0\n",
      "target_test= -1 & target_pred= -1\n",
      "target_test= 1 & target_pred= 1\n",
      "target_test= 1 & target_pred= 1\n",
      "target_test= 1 & target_pred= 1\n",
      "target_test= -1 & target_pred= -1\n",
      "target_test= 1 & target_pred= 1\n",
      "target_test= 1 & target_pred= 1\n",
      "target_test= -1 & target_pred= -1\n",
      "target_test= 1 & target_pred= 1\n",
      "target_test= 1 & target_pred= 1\n",
      "target_test= -1 & target_pred= -1\n",
      "target_test= -1 & target_pred= -1\n",
      "target_test= 1 & target_pred= 1\n",
      "target_test= -1 & target_pred= 1\n",
      "target_test= 1 & target_pred= 1\n",
      "target_test= 1 & target_pred= -1\n",
      "target_test= 1 & target_pred= 1\n",
      "target_test= 0 & target_pred= 0\n",
      "target_test= -1 & target_pred= -1\n",
      "target_test= -1 & target_pred= 1\n",
      "target_test= -1 & target_pred= -1\n",
      "target_test= 0 & target_pred= 1\n",
      "target_test= -1 & target_pred= -1\n",
      "target_test= -1 & target_pred= -1\n",
      "target_test= -1 & target_pred= -1\n",
      "target_test= -1 & target_pred= -1\n",
      "target_test= -1 & target_pred= -1\n",
      "target_test= 1 & target_pred= 1\n",
      "target_test= 1 & target_pred= 1\n",
      "target_test= -1 & target_pred= -1\n",
      "target_test= 1 & target_pred= 1\n",
      "target_test= 1 & target_pred= 1\n",
      "target_test= -1 & target_pred= -1\n",
      "target_test= 1 & target_pred= 1\n",
      "target_test= 1 & target_pred= -1\n",
      "target_test= -1 & target_pred= 1\n",
      "target_test= -1 & target_pred= -1\n",
      "target_test= -1 & target_pred= -1\n",
      "target_test= -1 & target_pred= -1\n",
      "target_test= 1 & target_pred= 1\n",
      "target_test= -1 & target_pred= -1\n",
      "target_test= 1 & target_pred= 1\n",
      "target_test= -1 & target_pred= 0\n",
      "target_test= 1 & target_pred= 1\n",
      "target_test= 1 & target_pred= -1\n",
      "target_test= -1 & target_pred= -1\n",
      "target_test= 1 & target_pred= 1\n",
      "target_test= 1 & target_pred= 1\n",
      "target_test= 1 & target_pred= 1\n",
      "target_test= -1 & target_pred= -1\n",
      "target_test= -1 & target_pred= -1\n",
      "target_test= 1 & target_pred= 1\n",
      "target_test= -1 & target_pred= -1\n",
      "target_test= 1 & target_pred= 1\n",
      "target_test= -1 & target_pred= -1\n",
      "target_test= -1 & target_pred= -1\n",
      "target_test= -1 & target_pred= -1\n",
      "target_test= 1 & target_pred= 1\n",
      "target_test= -1 & target_pred= -1\n",
      "target_test= 1 & target_pred= 1\n",
      "target_test= -1 & target_pred= -1\n",
      "target_test= -1 & target_pred= -1\n",
      "target_test= 1 & target_pred= 1\n",
      "target_test= 1 & target_pred= 1\n",
      "target_test= -1 & target_pred= -1\n",
      "target_test= 0 & target_pred= 0\n",
      "target_test= -1 & target_pred= -1\n",
      "target_test= 0 & target_pred= 0\n",
      "target_test= -1 & target_pred= -1\n",
      "target_test= -1 & target_pred= -1\n",
      "target_test= -1 & target_pred= -1\n",
      "target_test= -1 & target_pred= -1\n",
      "target_test= -1 & target_pred= 1\n",
      "target_test= 1 & target_pred= 1\n",
      "target_test= -1 & target_pred= -1\n",
      "target_test= 1 & target_pred= 1\n",
      "target_test= 1 & target_pred= 1\n",
      "target_test= -1 & target_pred= -1\n",
      "target_test= -1 & target_pred= -1\n",
      "target_test= -1 & target_pred= -1\n",
      "target_test= 1 & target_pred= -1\n",
      "target_test= 1 & target_pred= 1\n",
      "target_test= -1 & target_pred= 1\n",
      "target_test= -1 & target_pred= -1\n",
      "target_test= 1 & target_pred= 1\n",
      "target_test= 1 & target_pred= 1\n",
      "target_test= 1 & target_pred= 1\n",
      "target_test= 1 & target_pred= 0\n",
      "target_test= -1 & target_pred= -1\n",
      "target_test= 1 & target_pred= 1\n",
      "target_test= 1 & target_pred= 1\n",
      "target_test= -1 & target_pred= -1\n",
      "target_test= 0 & target_pred= 0\n",
      "target_test= -1 & target_pred= -1\n",
      "target_test= 1 & target_pred= -1\n",
      "target_test= -1 & target_pred= 1\n",
      "target_test= 0 & target_pred= 1\n",
      "target_test= 1 & target_pred= -1\n",
      "target_test= 1 & target_pred= 1\n",
      "target_test= -1 & target_pred= -1\n",
      "target_test= -1 & target_pred= -1\n",
      "target_test= -1 & target_pred= -1\n",
      "target_test= 1 & target_pred= 1\n",
      "target_test= 1 & target_pred= 1\n",
      "target_test= -1 & target_pred= -1\n",
      "target_test= 1 & target_pred= 1\n",
      "target_test= 1 & target_pred= 1\n",
      "target_test= -1 & target_pred= -1\n",
      "target_test= -1 & target_pred= -1\n",
      "target_test= -1 & target_pred= -1\n",
      "target_test= -1 & target_pred= -1\n",
      "target_test= 1 & target_pred= 1\n",
      "target_test= -1 & target_pred= -1\n",
      "target_test= -1 & target_pred= -1\n",
      "target_test= -1 & target_pred= -1\n",
      "target_test= -1 & target_pred= -1\n",
      "target_test= -1 & target_pred= -1\n",
      "target_test= 1 & target_pred= 1\n",
      "target_test= -1 & target_pred= -1\n",
      "target_test= -1 & target_pred= -1\n",
      "target_test= 0 & target_pred= 0\n",
      "target_test= -1 & target_pred= -1\n",
      "target_test= 1 & target_pred= 1\n",
      "target_test= -1 & target_pred= -1\n",
      "target_test= 1 & target_pred= 1\n",
      "target_test= -1 & target_pred= -1\n",
      "target_test= 1 & target_pred= 1\n",
      "target_test= -1 & target_pred= -1\n",
      "target_test= 1 & target_pred= -1\n",
      "target_test= 1 & target_pred= 1\n",
      "target_test= 1 & target_pred= 1\n",
      "target_test= -1 & target_pred= -1\n",
      "target_test= 1 & target_pred= 1\n",
      "target_test= -1 & target_pred= -1\n",
      "target_test= 1 & target_pred= 1\n",
      "target_test= 1 & target_pred= 1\n",
      "target_test= 1 & target_pred= 1\n",
      "target_test= -1 & target_pred= -1\n",
      "target_test= 0 & target_pred= 0\n",
      "target_test= 1 & target_pred= 1\n",
      "target_test= 1 & target_pred= 1\n",
      "target_test= 1 & target_pred= 1\n",
      "target_test= -1 & target_pred= -1\n",
      "target_test= 1 & target_pred= -1\n",
      "target_test= 0 & target_pred= 0\n",
      "target_test= 1 & target_pred= 1\n",
      "target_test= 1 & target_pred= 1\n",
      "target_test= 1 & target_pred= 1\n",
      "target_test= -1 & target_pred= -1\n",
      "target_test= -1 & target_pred= -1\n",
      "target_test= -1 & target_pred= -1\n",
      "target_test= 1 & target_pred= 1\n",
      "target_test= -1 & target_pred= -1\n",
      "target_test= -1 & target_pred= -1\n",
      "target_test= 1 & target_pred= 1\n",
      "target_test= 1 & target_pred= 1\n",
      "target_test= 1 & target_pred= 1\n",
      "target_test= -1 & target_pred= -1\n",
      "target_test= -1 & target_pred= -1\n",
      "target_test= -1 & target_pred= -1\n",
      "target_test= 1 & target_pred= 1\n",
      "target_test= 1 & target_pred= 1\n",
      "target_test= 0 & target_pred= 1\n",
      "target_test= 1 & target_pred= -1\n",
      "target_test= -1 & target_pred= -1\n",
      "target_test= 0 & target_pred= 0\n",
      "target_test= 1 & target_pred= 1\n",
      "target_test= -1 & target_pred= -1\n",
      "target_test= 1 & target_pred= 1\n",
      "target_test= -1 & target_pred= -1\n",
      "target_test= -1 & target_pred= -1\n",
      "target_test= 1 & target_pred= 1\n",
      "target_test= -1 & target_pred= -1\n",
      "target_test= 1 & target_pred= 1\n",
      "target_test= 1 & target_pred= -1\n",
      "target_test= 1 & target_pred= 1\n",
      "target_test= 1 & target_pred= 1\n",
      "target_test= -1 & target_pred= -1\n",
      "target_test= -1 & target_pred= -1\n",
      "target_test= 0 & target_pred= 0\n",
      "target_test= -1 & target_pred= -1\n",
      "target_test= 1 & target_pred= 1\n",
      "target_test= 0 & target_pred= 0\n",
      "target_test= -1 & target_pred= -1\n",
      "target_test= 1 & target_pred= 1\n",
      "target_test= -1 & target_pred= -1\n",
      "target_test= -1 & target_pred= -1\n",
      "target_test= -1 & target_pred= -1\n",
      "target_test= 0 & target_pred= 1\n",
      "target_test= 1 & target_pred= 1\n",
      "target_test= 1 & target_pred= 1\n",
      "target_test= -1 & target_pred= 1\n",
      "target_test= 1 & target_pred= 1\n",
      "target_test= 1 & target_pred= 1\n",
      "target_test= 1 & target_pred= 1\n",
      "target_test= -1 & target_pred= -1\n",
      "target_test= -1 & target_pred= -1\n",
      "target_test= -1 & target_pred= -1\n",
      "target_test= 0 & target_pred= 0\n",
      "target_test= -1 & target_pred= -1\n",
      "target_test= 1 & target_pred= 1\n",
      "target_test= -1 & target_pred= -1\n",
      "target_test= -1 & target_pred= -1\n",
      "target_test= 1 & target_pred= 1\n",
      "target_test= 1 & target_pred= 1\n",
      "target_test= 1 & target_pred= 1\n",
      "target_test= 1 & target_pred= 1\n",
      "target_test= -1 & target_pred= -1\n",
      "target_test= -1 & target_pred= -1\n",
      "target_test= 1 & target_pred= 1\n",
      "target_test= 0 & target_pred= 0\n",
      "target_test= 1 & target_pred= 1\n",
      "target_test= 1 & target_pred= 1\n",
      "target_test= -1 & target_pred= -1\n",
      "target_test= 1 & target_pred= 1\n",
      "target_test= -1 & target_pred= -1\n",
      "target_test= 1 & target_pred= 1\n",
      "target_test= -1 & target_pred= 0\n",
      "target_test= -1 & target_pred= 1\n",
      "target_test= -1 & target_pred= -1\n",
      "target_test= 1 & target_pred= 1\n",
      "target_test= 1 & target_pred= 1\n",
      "target_test= -1 & target_pred= -1\n",
      "target_test= 1 & target_pred= 1\n",
      "target_test= 1 & target_pred= 1\n",
      "target_test= -1 & target_pred= 1\n",
      "target_test= 1 & target_pred= 1\n",
      "target_test= -1 & target_pred= -1\n",
      "target_test= -1 & target_pred= -1\n",
      "target_test= 1 & target_pred= 1\n",
      "target_test= -1 & target_pred= -1\n",
      "target_test= 1 & target_pred= 1\n",
      "target_test= -1 & target_pred= -1\n",
      "target_test= 1 & target_pred= 1\n",
      "target_test= 1 & target_pred= 1\n",
      "target_test= 0 & target_pred= 0\n",
      "target_test= 1 & target_pred= 1\n",
      "target_test= -1 & target_pred= -1\n",
      "target_test= 1 & target_pred= 1\n",
      "target_test= -1 & target_pred= -1\n",
      "target_test= 0 & target_pred= 0\n",
      "target_test= 1 & target_pred= 1\n",
      "target_test= 1 & target_pred= 1\n",
      "target_test= 1 & target_pred= 1\n",
      "target_test= -1 & target_pred= -1\n",
      "target_test= -1 & target_pred= -1\n",
      "target_test= 0 & target_pred= 1\n",
      "target_test= -1 & target_pred= -1\n",
      "target_test= -1 & target_pred= -1\n",
      "target_test= -1 & target_pred= -1\n",
      "target_test= -1 & target_pred= -1\n",
      "target_test= 1 & target_pred= 1\n",
      "target_test= -1 & target_pred= -1\n",
      "target_test= 1 & target_pred= 1\n",
      "target_test= 1 & target_pred= -1\n",
      "target_test= -1 & target_pred= 1\n",
      "target_test= 1 & target_pred= 1\n",
      "target_test= -1 & target_pred= -1\n",
      "target_test= 1 & target_pred= 1\n",
      "target_test= -1 & target_pred= -1\n",
      "target_test= 1 & target_pred= 1\n",
      "target_test= 1 & target_pred= 1\n",
      "target_test= -1 & target_pred= -1\n",
      "target_test= -1 & target_pred= -1\n",
      "target_test= -1 & target_pred= -1\n",
      "target_test= -1 & target_pred= -1\n",
      "target_test= -1 & target_pred= -1\n",
      "target_test= -1 & target_pred= -1\n",
      "target_test= -1 & target_pred= -1\n",
      "target_test= -1 & target_pred= -1\n",
      "target_test= -1 & target_pred= -1\n",
      "target_test= -1 & target_pred= 0\n",
      "target_test= -1 & target_pred= -1\n",
      "target_test= -1 & target_pred= -1\n",
      "target_test= 1 & target_pred= 1\n",
      "target_test= -1 & target_pred= -1\n",
      "target_test= -1 & target_pred= -1\n",
      "target_test= -1 & target_pred= -1\n",
      "target_test= 1 & target_pred= -1\n",
      "target_test= 1 & target_pred= 1\n",
      "target_test= 0 & target_pred= 0\n",
      "target_test= 1 & target_pred= -1\n",
      "target_test= 1 & target_pred= 1\n",
      "target_test= 1 & target_pred= 1\n",
      "target_test= -1 & target_pred= -1\n",
      "target_test= -1 & target_pred= -1\n",
      "target_test= -1 & target_pred= -1\n",
      "target_test= -1 & target_pred= -1\n",
      "target_test= -1 & target_pred= -1\n",
      "target_test= -1 & target_pred= 1\n",
      "target_test= 1 & target_pred= 1\n",
      "target_test= 1 & target_pred= -1\n",
      "target_test= -1 & target_pred= -1\n",
      "target_test= 0 & target_pred= 0\n",
      "target_test= 1 & target_pred= 1\n",
      "target_test= 0 & target_pred= 1\n",
      "target_test= -1 & target_pred= -1\n",
      "target_test= 1 & target_pred= 1\n",
      "target_test= -1 & target_pred= -1\n",
      "target_test= 1 & target_pred= 1\n",
      "target_test= -1 & target_pred= -1\n",
      "target_test= 1 & target_pred= 1\n",
      "target_test= -1 & target_pred= -1\n",
      "target_test= 1 & target_pred= 1\n",
      "target_test= 1 & target_pred= 1\n",
      "target_test= -1 & target_pred= 1\n",
      "target_test= 1 & target_pred= 1\n",
      "target_test= 1 & target_pred= 1\n",
      "target_test= -1 & target_pred= -1\n",
      "target_test= 1 & target_pred= 1\n",
      "target_test= -1 & target_pred= -1\n",
      "target_test= -1 & target_pred= -1\n",
      "target_test= -1 & target_pred= -1\n",
      "target_test= -1 & target_pred= -1\n",
      "target_test= -1 & target_pred= -1\n",
      "target_test= -1 & target_pred= -1\n",
      "target_test= 1 & target_pred= 1\n",
      "target_test= -1 & target_pred= -1\n",
      "target_test= -1 & target_pred= -1\n",
      "target_test= 0 & target_pred= 0\n",
      "target_test= -1 & target_pred= -1\n",
      "target_test= 1 & target_pred= 1\n",
      "target_test= -1 & target_pred= -1\n",
      "target_test= -1 & target_pred= -1\n",
      "target_test= -1 & target_pred= -1\n",
      "target_test= 1 & target_pred= 1\n",
      "target_test= 1 & target_pred= -1\n",
      "target_test= 1 & target_pred= 0\n",
      "target_test= -1 & target_pred= -1\n",
      "target_test= -1 & target_pred= -1\n",
      "target_test= 1 & target_pred= 1\n",
      "target_test= 1 & target_pred= 1\n",
      "target_test= -1 & target_pred= -1\n",
      "target_test= 1 & target_pred= 1\n",
      "target_test= 1 & target_pred= 1\n",
      "target_test= 1 & target_pred= 1\n",
      "target_test= 0 & target_pred= 0\n",
      "target_test= 1 & target_pred= -1\n",
      "target_test= -1 & target_pred= -1\n",
      "target_test= -1 & target_pred= -1\n",
      "target_test= -1 & target_pred= 1\n",
      "target_test= 1 & target_pred= 1\n",
      "target_test= 1 & target_pred= 1\n",
      "target_test= -1 & target_pred= -1\n",
      "target_test= 0 & target_pred= -1\n",
      "target_test= -1 & target_pred= 0\n",
      "target_test= -1 & target_pred= -1\n",
      "target_test= 1 & target_pred= 1\n",
      "target_test= -1 & target_pred= -1\n",
      "target_test= 1 & target_pred= 1\n",
      "target_test= 1 & target_pred= 1\n",
      "target_test= -1 & target_pred= -1\n",
      "target_test= -1 & target_pred= -1\n",
      "target_test= 1 & target_pred= 1\n",
      "target_test= -1 & target_pred= -1\n",
      "target_test= -1 & target_pred= -1\n",
      "target_test= 1 & target_pred= -1\n",
      "target_test= 1 & target_pred= 1\n"
     ]
    }
   ],
   "source": [
    "#target test MLP solver='adam'\n",
    "target_pred = nn.predict(feature_test)\n",
    "for x,y in zip(target_test,target_pred):\n",
    "    print(\"target_test= \"+str(x)+\" & target_pred= \"+str(y))"
   ]
  },
  {
   "cell_type": "code",
   "execution_count": 6,
   "metadata": {},
   "outputs": [],
   "source": [
    "#target training pred MLP\n",
    "target_pred_train = nn.predict(feature_train)"
   ]
  },
  {
   "cell_type": "code",
   "execution_count": 7,
   "metadata": {},
   "outputs": [
    {
     "data": {
      "text/plain": [
       "MLPClassifier(activation='relu', alpha=0.0001, batch_size='auto', beta_1=0.9,\n",
       "       beta_2=0.999, early_stopping=False, epsilon=1e-08,\n",
       "       hidden_layer_sizes=(100,), learning_rate='constant',\n",
       "       learning_rate_init=0.001, max_iter=1000000, momentum=0.9,\n",
       "       nesterovs_momentum=True, power_t=0.5, random_state=None,\n",
       "       shuffle=True, solver='sgd', tol=0.0001, validation_fraction=0.1,\n",
       "       verbose=False, warm_start=False)"
      ]
     },
     "execution_count": 7,
     "metadata": {},
     "output_type": "execute_result"
    }
   ],
   "source": [
    "nnn=MLPClassifier(max_iter=1000000, learning_rate_init=0.001, solver='sgd')\n",
    "nnn.fit(feature_train,target_train)"
   ]
  },
  {
   "cell_type": "code",
   "execution_count": 8,
   "metadata": {},
   "outputs": [
    {
     "name": "stdout",
     "output_type": "stream",
     "text": [
      "target_test= 1 & targetn_pred= 1\n",
      "target_test= -1 & targetn_pred= -1\n",
      "target_test= -1 & targetn_pred= -1\n",
      "target_test= -1 & targetn_pred= -1\n",
      "target_test= 0 & targetn_pred= -1\n",
      "target_test= -1 & targetn_pred= -1\n",
      "target_test= 1 & targetn_pred= 1\n",
      "target_test= -1 & targetn_pred= -1\n",
      "target_test= 0 & targetn_pred= -1\n",
      "target_test= -1 & targetn_pred= -1\n",
      "target_test= 1 & targetn_pred= 1\n",
      "target_test= 1 & targetn_pred= 1\n",
      "target_test= 1 & targetn_pred= 1\n",
      "target_test= 1 & targetn_pred= 1\n",
      "target_test= 1 & targetn_pred= 1\n",
      "target_test= 1 & targetn_pred= 0\n",
      "target_test= -1 & targetn_pred= -1\n",
      "target_test= 1 & targetn_pred= 1\n",
      "target_test= 1 & targetn_pred= 1\n",
      "target_test= -1 & targetn_pred= 1\n",
      "target_test= -1 & targetn_pred= -1\n",
      "target_test= -1 & targetn_pred= -1\n",
      "target_test= 1 & targetn_pred= 1\n",
      "target_test= -1 & targetn_pred= -1\n",
      "target_test= 1 & targetn_pred= 1\n",
      "target_test= 1 & targetn_pred= 1\n",
      "target_test= -1 & targetn_pred= -1\n",
      "target_test= -1 & targetn_pred= -1\n",
      "target_test= -1 & targetn_pred= -1\n",
      "target_test= -1 & targetn_pred= 1\n",
      "target_test= 1 & targetn_pred= -1\n",
      "target_test= -1 & targetn_pred= 1\n",
      "target_test= -1 & targetn_pred= 1\n",
      "target_test= -1 & targetn_pred= 0\n",
      "target_test= 1 & targetn_pred= 1\n",
      "target_test= 1 & targetn_pred= 1\n",
      "target_test= -1 & targetn_pred= -1\n",
      "target_test= 1 & targetn_pred= 1\n",
      "target_test= 1 & targetn_pred= 1\n",
      "target_test= -1 & targetn_pred= 1\n",
      "target_test= -1 & targetn_pred= -1\n",
      "target_test= -1 & targetn_pred= -1\n",
      "target_test= 1 & targetn_pred= 1\n",
      "target_test= 1 & targetn_pred= -1\n",
      "target_test= -1 & targetn_pred= -1\n",
      "target_test= -1 & targetn_pred= -1\n",
      "target_test= 1 & targetn_pred= 1\n",
      "target_test= -1 & targetn_pred= -1\n",
      "target_test= -1 & targetn_pred= -1\n",
      "target_test= 1 & targetn_pred= 1\n",
      "target_test= 1 & targetn_pred= 1\n",
      "target_test= 1 & targetn_pred= 1\n",
      "target_test= -1 & targetn_pred= 1\n",
      "target_test= 1 & targetn_pred= 1\n",
      "target_test= 1 & targetn_pred= 1\n",
      "target_test= -1 & targetn_pred= -1\n",
      "target_test= 1 & targetn_pred= 1\n",
      "target_test= 1 & targetn_pred= 1\n",
      "target_test= -1 & targetn_pred= -1\n",
      "target_test= -1 & targetn_pred= -1\n",
      "target_test= 1 & targetn_pred= 1\n",
      "target_test= -1 & targetn_pred= 1\n",
      "target_test= 1 & targetn_pred= 1\n",
      "target_test= 1 & targetn_pred= 1\n",
      "target_test= 1 & targetn_pred= 1\n",
      "target_test= 0 & targetn_pred= -1\n",
      "target_test= -1 & targetn_pred= -1\n",
      "target_test= -1 & targetn_pred= 1\n",
      "target_test= -1 & targetn_pred= -1\n",
      "target_test= 0 & targetn_pred= 1\n",
      "target_test= -1 & targetn_pred= -1\n",
      "target_test= -1 & targetn_pred= -1\n",
      "target_test= -1 & targetn_pred= -1\n",
      "target_test= -1 & targetn_pred= -1\n",
      "target_test= -1 & targetn_pred= -1\n",
      "target_test= 1 & targetn_pred= 1\n",
      "target_test= 1 & targetn_pred= 1\n",
      "target_test= -1 & targetn_pred= -1\n",
      "target_test= 1 & targetn_pred= 1\n",
      "target_test= 1 & targetn_pred= 1\n",
      "target_test= -1 & targetn_pred= -1\n",
      "target_test= 1 & targetn_pred= 1\n",
      "target_test= 1 & targetn_pred= 1\n",
      "target_test= -1 & targetn_pred= 1\n",
      "target_test= -1 & targetn_pred= -1\n",
      "target_test= -1 & targetn_pred= -1\n",
      "target_test= -1 & targetn_pred= 1\n",
      "target_test= 1 & targetn_pred= 1\n",
      "target_test= -1 & targetn_pred= -1\n",
      "target_test= 1 & targetn_pred= 1\n",
      "target_test= -1 & targetn_pred= 0\n",
      "target_test= 1 & targetn_pred= 1\n",
      "target_test= 1 & targetn_pred= -1\n",
      "target_test= -1 & targetn_pred= -1\n",
      "target_test= 1 & targetn_pred= 1\n",
      "target_test= 1 & targetn_pred= 1\n",
      "target_test= 1 & targetn_pred= 1\n",
      "target_test= -1 & targetn_pred= -1\n",
      "target_test= -1 & targetn_pred= -1\n",
      "target_test= 1 & targetn_pred= 0\n",
      "target_test= -1 & targetn_pred= -1\n",
      "target_test= 1 & targetn_pred= 1\n",
      "target_test= -1 & targetn_pred= -1\n",
      "target_test= -1 & targetn_pred= -1\n",
      "target_test= -1 & targetn_pred= -1\n",
      "target_test= 1 & targetn_pred= 1\n",
      "target_test= -1 & targetn_pred= -1\n",
      "target_test= 1 & targetn_pred= -1\n",
      "target_test= -1 & targetn_pred= -1\n",
      "target_test= -1 & targetn_pred= -1\n",
      "target_test= 1 & targetn_pred= 1\n",
      "target_test= 1 & targetn_pred= 1\n",
      "target_test= -1 & targetn_pred= -1\n",
      "target_test= 0 & targetn_pred= -1\n",
      "target_test= -1 & targetn_pred= -1\n",
      "target_test= 0 & targetn_pred= 0\n",
      "target_test= -1 & targetn_pred= -1\n",
      "target_test= -1 & targetn_pred= -1\n",
      "target_test= -1 & targetn_pred= -1\n",
      "target_test= -1 & targetn_pred= -1\n",
      "target_test= -1 & targetn_pred= -1\n",
      "target_test= 1 & targetn_pred= 1\n",
      "target_test= -1 & targetn_pred= -1\n",
      "target_test= 1 & targetn_pred= 1\n",
      "target_test= 1 & targetn_pred= -1\n",
      "target_test= -1 & targetn_pred= -1\n",
      "target_test= -1 & targetn_pred= -1\n",
      "target_test= -1 & targetn_pred= -1\n",
      "target_test= 1 & targetn_pred= -1\n",
      "target_test= 1 & targetn_pred= 1\n",
      "target_test= -1 & targetn_pred= 1\n",
      "target_test= -1 & targetn_pred= -1\n",
      "target_test= 1 & targetn_pred= -1\n",
      "target_test= 1 & targetn_pred= 1\n",
      "target_test= 1 & targetn_pred= 1\n",
      "target_test= 1 & targetn_pred= 1\n",
      "target_test= -1 & targetn_pred= -1\n",
      "target_test= 1 & targetn_pred= 1\n",
      "target_test= 1 & targetn_pred= 1\n",
      "target_test= -1 & targetn_pred= -1\n",
      "target_test= 0 & targetn_pred= 0\n",
      "target_test= -1 & targetn_pred= -1\n",
      "target_test= 1 & targetn_pred= -1\n",
      "target_test= -1 & targetn_pred= 1\n",
      "target_test= 0 & targetn_pred= -1\n",
      "target_test= 1 & targetn_pred= -1\n",
      "target_test= 1 & targetn_pred= 1\n",
      "target_test= -1 & targetn_pred= -1\n",
      "target_test= -1 & targetn_pred= -1\n",
      "target_test= -1 & targetn_pred= -1\n",
      "target_test= 1 & targetn_pred= 1\n",
      "target_test= 1 & targetn_pred= 1\n",
      "target_test= -1 & targetn_pred= -1\n",
      "target_test= 1 & targetn_pred= 1\n",
      "target_test= 1 & targetn_pred= 1\n",
      "target_test= -1 & targetn_pred= -1\n",
      "target_test= -1 & targetn_pred= -1\n",
      "target_test= -1 & targetn_pred= -1\n",
      "target_test= -1 & targetn_pred= -1\n",
      "target_test= 1 & targetn_pred= 1\n",
      "target_test= -1 & targetn_pred= -1\n",
      "target_test= -1 & targetn_pred= -1\n",
      "target_test= -1 & targetn_pred= 1\n",
      "target_test= -1 & targetn_pred= -1\n",
      "target_test= -1 & targetn_pred= -1\n",
      "target_test= 1 & targetn_pred= 1\n",
      "target_test= -1 & targetn_pred= -1\n",
      "target_test= -1 & targetn_pred= -1\n",
      "target_test= 0 & targetn_pred= -1\n",
      "target_test= -1 & targetn_pred= -1\n",
      "target_test= 1 & targetn_pred= 1\n",
      "target_test= -1 & targetn_pred= -1\n",
      "target_test= 1 & targetn_pred= 1\n",
      "target_test= -1 & targetn_pred= -1\n",
      "target_test= 1 & targetn_pred= 1\n",
      "target_test= -1 & targetn_pred= -1\n",
      "target_test= 1 & targetn_pred= -1\n",
      "target_test= 1 & targetn_pred= 1\n",
      "target_test= 1 & targetn_pred= 1\n",
      "target_test= -1 & targetn_pred= 1\n",
      "target_test= 1 & targetn_pred= 1\n",
      "target_test= -1 & targetn_pred= -1\n",
      "target_test= 1 & targetn_pred= 1\n",
      "target_test= 1 & targetn_pred= 1\n",
      "target_test= 1 & targetn_pred= 1\n",
      "target_test= -1 & targetn_pred= -1\n",
      "target_test= 0 & targetn_pred= -1\n",
      "target_test= 1 & targetn_pred= 1\n",
      "target_test= 1 & targetn_pred= 1\n",
      "target_test= 1 & targetn_pred= 1\n",
      "target_test= -1 & targetn_pred= -1\n",
      "target_test= 1 & targetn_pred= -1\n",
      "target_test= 0 & targetn_pred= 1\n",
      "target_test= 1 & targetn_pred= 1\n",
      "target_test= 1 & targetn_pred= 1\n",
      "target_test= 1 & targetn_pred= 1\n",
      "target_test= -1 & targetn_pred= -1\n",
      "target_test= -1 & targetn_pred= -1\n",
      "target_test= -1 & targetn_pred= -1\n",
      "target_test= 1 & targetn_pred= 1\n",
      "target_test= -1 & targetn_pred= -1\n",
      "target_test= -1 & targetn_pred= -1\n",
      "target_test= 1 & targetn_pred= 1\n",
      "target_test= 1 & targetn_pred= 1\n",
      "target_test= 1 & targetn_pred= 1\n",
      "target_test= -1 & targetn_pred= -1\n",
      "target_test= -1 & targetn_pred= -1\n",
      "target_test= -1 & targetn_pred= -1\n",
      "target_test= 1 & targetn_pred= 1\n",
      "target_test= 1 & targetn_pred= 1\n",
      "target_test= 0 & targetn_pred= 1\n",
      "target_test= 1 & targetn_pred= -1\n",
      "target_test= -1 & targetn_pred= -1\n",
      "target_test= 0 & targetn_pred= 1\n",
      "target_test= 1 & targetn_pred= 1\n",
      "target_test= -1 & targetn_pred= -1\n",
      "target_test= 1 & targetn_pred= 1\n",
      "target_test= -1 & targetn_pred= -1\n",
      "target_test= -1 & targetn_pred= -1\n",
      "target_test= 1 & targetn_pred= 1\n",
      "target_test= -1 & targetn_pred= -1\n",
      "target_test= 1 & targetn_pred= 1\n",
      "target_test= 1 & targetn_pred= -1\n",
      "target_test= 1 & targetn_pred= 1\n",
      "target_test= 1 & targetn_pred= 1\n",
      "target_test= -1 & targetn_pred= -1\n",
      "target_test= -1 & targetn_pred= -1\n",
      "target_test= 0 & targetn_pred= -1\n",
      "target_test= -1 & targetn_pred= -1\n",
      "target_test= 1 & targetn_pred= 1\n",
      "target_test= 0 & targetn_pred= -1\n",
      "target_test= -1 & targetn_pred= -1\n",
      "target_test= 1 & targetn_pred= 1\n",
      "target_test= -1 & targetn_pred= -1\n",
      "target_test= -1 & targetn_pred= -1\n",
      "target_test= -1 & targetn_pred= 1\n",
      "target_test= 0 & targetn_pred= 1\n",
      "target_test= 1 & targetn_pred= 1\n",
      "target_test= 1 & targetn_pred= 1\n",
      "target_test= -1 & targetn_pred= 1\n",
      "target_test= 1 & targetn_pred= 1\n",
      "target_test= 1 & targetn_pred= 1\n",
      "target_test= 1 & targetn_pred= 1\n",
      "target_test= -1 & targetn_pred= -1\n",
      "target_test= -1 & targetn_pred= -1\n",
      "target_test= -1 & targetn_pred= -1\n",
      "target_test= 0 & targetn_pred= 1\n",
      "target_test= -1 & targetn_pred= -1\n",
      "target_test= 1 & targetn_pred= 1\n",
      "target_test= -1 & targetn_pred= -1\n",
      "target_test= -1 & targetn_pred= -1\n",
      "target_test= 1 & targetn_pred= 1\n",
      "target_test= 1 & targetn_pred= 1\n",
      "target_test= 1 & targetn_pred= 1\n",
      "target_test= 1 & targetn_pred= 1\n",
      "target_test= -1 & targetn_pred= -1\n",
      "target_test= -1 & targetn_pred= -1\n",
      "target_test= 1 & targetn_pred= 1\n",
      "target_test= 0 & targetn_pred= 1\n",
      "target_test= 1 & targetn_pred= 1\n",
      "target_test= 1 & targetn_pred= 1\n",
      "target_test= -1 & targetn_pred= -1\n",
      "target_test= 1 & targetn_pred= 1\n",
      "target_test= -1 & targetn_pred= -1\n",
      "target_test= 1 & targetn_pred= 1\n",
      "target_test= -1 & targetn_pred= -1\n",
      "target_test= -1 & targetn_pred= 1\n",
      "target_test= -1 & targetn_pred= -1\n",
      "target_test= 1 & targetn_pred= 1\n",
      "target_test= 1 & targetn_pred= 1\n",
      "target_test= -1 & targetn_pred= -1\n",
      "target_test= 1 & targetn_pred= 1\n",
      "target_test= 1 & targetn_pred= 1\n",
      "target_test= -1 & targetn_pred= 1\n",
      "target_test= 1 & targetn_pred= 1\n",
      "target_test= -1 & targetn_pred= -1\n",
      "target_test= -1 & targetn_pred= -1\n",
      "target_test= 1 & targetn_pred= 1\n",
      "target_test= -1 & targetn_pred= -1\n",
      "target_test= 1 & targetn_pred= 1\n",
      "target_test= -1 & targetn_pred= -1\n",
      "target_test= 1 & targetn_pred= 1\n",
      "target_test= 1 & targetn_pred= 1\n",
      "target_test= 0 & targetn_pred= 0\n",
      "target_test= 1 & targetn_pred= 1\n",
      "target_test= -1 & targetn_pred= -1\n",
      "target_test= 1 & targetn_pred= -1\n",
      "target_test= -1 & targetn_pred= -1\n",
      "target_test= 0 & targetn_pred= 1\n",
      "target_test= 1 & targetn_pred= 1\n",
      "target_test= 1 & targetn_pred= 1\n",
      "target_test= 1 & targetn_pred= 1\n",
      "target_test= -1 & targetn_pred= -1\n",
      "target_test= -1 & targetn_pred= 1\n",
      "target_test= 0 & targetn_pred= 1\n",
      "target_test= -1 & targetn_pred= -1\n",
      "target_test= -1 & targetn_pred= -1\n",
      "target_test= -1 & targetn_pred= -1\n",
      "target_test= -1 & targetn_pred= -1\n",
      "target_test= 1 & targetn_pred= 1\n",
      "target_test= -1 & targetn_pred= -1\n",
      "target_test= 1 & targetn_pred= 1\n",
      "target_test= 1 & targetn_pred= -1\n",
      "target_test= -1 & targetn_pred= 1\n",
      "target_test= 1 & targetn_pred= 1\n",
      "target_test= -1 & targetn_pred= -1\n",
      "target_test= 1 & targetn_pred= 1\n",
      "target_test= -1 & targetn_pred= -1\n",
      "target_test= 1 & targetn_pred= 1\n",
      "target_test= 1 & targetn_pred= 1\n",
      "target_test= -1 & targetn_pred= -1\n",
      "target_test= -1 & targetn_pred= -1\n",
      "target_test= -1 & targetn_pred= -1\n",
      "target_test= -1 & targetn_pred= -1\n",
      "target_test= -1 & targetn_pred= -1\n",
      "target_test= -1 & targetn_pred= -1\n",
      "target_test= -1 & targetn_pred= -1\n",
      "target_test= -1 & targetn_pred= -1\n",
      "target_test= -1 & targetn_pred= -1\n",
      "target_test= -1 & targetn_pred= -1\n",
      "target_test= -1 & targetn_pred= -1\n",
      "target_test= -1 & targetn_pred= -1\n",
      "target_test= 1 & targetn_pred= 1\n",
      "target_test= -1 & targetn_pred= -1\n",
      "target_test= -1 & targetn_pred= -1\n",
      "target_test= -1 & targetn_pred= -1\n",
      "target_test= 1 & targetn_pred= -1\n",
      "target_test= 1 & targetn_pred= 1\n",
      "target_test= 0 & targetn_pred= 1\n",
      "target_test= 1 & targetn_pred= 1\n",
      "target_test= 1 & targetn_pred= 1\n",
      "target_test= 1 & targetn_pred= 1\n",
      "target_test= -1 & targetn_pred= -1\n",
      "target_test= -1 & targetn_pred= -1\n",
      "target_test= -1 & targetn_pred= -1\n",
      "target_test= -1 & targetn_pred= -1\n",
      "target_test= -1 & targetn_pred= -1\n",
      "target_test= -1 & targetn_pred= 1\n",
      "target_test= 1 & targetn_pred= 1\n",
      "target_test= 1 & targetn_pred= -1\n",
      "target_test= -1 & targetn_pred= -1\n",
      "target_test= 0 & targetn_pred= -1\n",
      "target_test= 1 & targetn_pred= 1\n",
      "target_test= 0 & targetn_pred= -1\n",
      "target_test= -1 & targetn_pred= -1\n",
      "target_test= 1 & targetn_pred= 1\n",
      "target_test= -1 & targetn_pred= -1\n",
      "target_test= 1 & targetn_pred= 1\n",
      "target_test= -1 & targetn_pred= -1\n",
      "target_test= 1 & targetn_pred= 1\n",
      "target_test= -1 & targetn_pred= -1\n",
      "target_test= 1 & targetn_pred= 1\n",
      "target_test= 1 & targetn_pred= 1\n",
      "target_test= -1 & targetn_pred= 1\n",
      "target_test= 1 & targetn_pred= 1\n",
      "target_test= 1 & targetn_pred= 1\n",
      "target_test= -1 & targetn_pred= -1\n",
      "target_test= 1 & targetn_pred= 1\n",
      "target_test= -1 & targetn_pred= -1\n",
      "target_test= -1 & targetn_pred= -1\n",
      "target_test= -1 & targetn_pred= -1\n",
      "target_test= -1 & targetn_pred= -1\n",
      "target_test= -1 & targetn_pred= -1\n",
      "target_test= -1 & targetn_pred= -1\n",
      "target_test= 1 & targetn_pred= 1\n",
      "target_test= -1 & targetn_pred= -1\n",
      "target_test= -1 & targetn_pred= -1\n",
      "target_test= 0 & targetn_pred= -1\n",
      "target_test= -1 & targetn_pred= -1\n",
      "target_test= 1 & targetn_pred= 1\n",
      "target_test= -1 & targetn_pred= -1\n",
      "target_test= -1 & targetn_pred= -1\n",
      "target_test= -1 & targetn_pred= -1\n",
      "target_test= 1 & targetn_pred= 1\n",
      "target_test= 1 & targetn_pred= 1\n",
      "target_test= 1 & targetn_pred= 1\n",
      "target_test= -1 & targetn_pred= -1\n",
      "target_test= -1 & targetn_pred= -1\n",
      "target_test= 1 & targetn_pred= 1\n",
      "target_test= 1 & targetn_pred= 1\n",
      "target_test= -1 & targetn_pred= -1\n",
      "target_test= 1 & targetn_pred= 1\n",
      "target_test= 1 & targetn_pred= 1\n",
      "target_test= 1 & targetn_pred= 1\n",
      "target_test= 0 & targetn_pred= -1\n",
      "target_test= 1 & targetn_pred= -1\n",
      "target_test= -1 & targetn_pred= -1\n",
      "target_test= -1 & targetn_pred= -1\n",
      "target_test= -1 & targetn_pred= 1\n",
      "target_test= 1 & targetn_pred= 1\n",
      "target_test= 1 & targetn_pred= 1\n",
      "target_test= -1 & targetn_pred= -1\n",
      "target_test= 0 & targetn_pred= -1\n",
      "target_test= -1 & targetn_pred= -1\n",
      "target_test= -1 & targetn_pred= -1\n",
      "target_test= 1 & targetn_pred= 1\n",
      "target_test= -1 & targetn_pred= -1\n",
      "target_test= 1 & targetn_pred= 1\n",
      "target_test= 1 & targetn_pred= 1\n",
      "target_test= -1 & targetn_pred= -1\n",
      "target_test= -1 & targetn_pred= -1\n",
      "target_test= 1 & targetn_pred= 1\n",
      "target_test= -1 & targetn_pred= -1\n",
      "target_test= -1 & targetn_pred= -1\n",
      "target_test= 1 & targetn_pred= -1\n",
      "target_test= 1 & targetn_pred= 1\n"
     ]
    }
   ],
   "source": [
    "targetn_pred = nnn.predict(feature_test)\n",
    "for x,y in zip(target_test,targetn_pred):\n",
    "    print(\"target_test= \"+str(x)+\" & targetn_pred= \"+str(y))"
   ]
  },
  {
   "cell_type": "code",
   "execution_count": 9,
   "metadata": {},
   "outputs": [],
   "source": [
    "targetn_pred_train = nnn.predict(feature_train)"
   ]
  },
  {
   "cell_type": "markdown",
   "metadata": {},
   "source": [
    "MLP Klasifikasi Report"
   ]
  },
  {
   "cell_type": "code",
   "execution_count": 10,
   "metadata": {},
   "outputs": [
    {
     "name": "stdout",
     "output_type": "stream",
     "text": [
      "             precision    recall  f1-score   support\n",
      "\n",
      "         -1       0.90      0.90      0.90       203\n",
      "          0       0.70      0.70      0.70        27\n",
      "          1       0.87      0.88      0.87       176\n",
      "\n",
      "avg / total       0.87      0.87      0.87       406\n",
      "\n"
     ]
    }
   ],
   "source": [
    "from sklearn.metrics import classification_report\n",
    "print(classification_report(target_test,target_pred))"
   ]
  },
  {
   "cell_type": "code",
   "execution_count": 11,
   "metadata": {},
   "outputs": [
    {
     "name": "stdout",
     "output_type": "stream",
     "text": [
      "             precision    recall  f1-score   support\n",
      "\n",
      "         -1       0.97      0.97      0.97       499\n",
      "          0       0.91      0.96      0.94        75\n",
      "          1       0.96      0.95      0.95       372\n",
      "\n",
      "avg / total       0.96      0.96      0.96       946\n",
      "\n"
     ]
    }
   ],
   "source": [
    "print(classification_report(target_train,target_pred_train))"
   ]
  },
  {
   "cell_type": "code",
   "execution_count": 12,
   "metadata": {},
   "outputs": [
    {
     "name": "stdout",
     "output_type": "stream",
     "text": [
      "             precision    recall  f1-score   support\n",
      "\n",
      "         -1       0.84      0.88      0.86       203\n",
      "          0       0.43      0.11      0.18        27\n",
      "          1       0.82      0.88      0.85       176\n",
      "\n",
      "avg / total       0.81      0.83      0.81       406\n",
      "\n"
     ]
    }
   ],
   "source": [
    "print(classification_report(target_test,targetn_pred))"
   ]
  },
  {
   "cell_type": "code",
   "execution_count": 13,
   "metadata": {},
   "outputs": [
    {
     "name": "stdout",
     "output_type": "stream",
     "text": [
      "             precision    recall  f1-score   support\n",
      "\n",
      "         -1       0.89      0.94      0.91       499\n",
      "          0       0.61      0.23      0.33        75\n",
      "          1       0.85      0.88      0.86       372\n",
      "\n",
      "avg / total       0.85      0.86      0.85       946\n",
      "\n"
     ]
    }
   ],
   "source": [
    "print(classification_report(target_train,targetn_pred_train))"
   ]
  },
  {
   "cell_type": "markdown",
   "metadata": {},
   "source": [
    "Naive Bayes : Gaussian vs Bernoulli"
   ]
  },
  {
   "cell_type": "code",
   "execution_count": 14,
   "metadata": {},
   "outputs": [],
   "source": [
    "from sklearn.naive_bayes import GaussianNB\n",
    "modelnb = GaussianNB()\n",
    "nbtrain = modelnb.fit(feature_train,target_train)"
   ]
  },
  {
   "cell_type": "code",
   "execution_count": 15,
   "metadata": {},
   "outputs": [
    {
     "data": {
      "text/plain": [
       "array([ 1, -1, -1, -1, -1, -1,  1, -1, -1, -1,  1,  1,  1,  1,  1,  0, -1,\n",
       "        1,  1,  1, -1, -1,  1, -1,  1,  1, -1, -1, -1,  1,  1,  1,  1,  0,\n",
       "        1,  1, -1,  1,  1,  1, -1, -1,  1, -1, -1, -1,  1, -1, -1,  1,  0,\n",
       "        1,  1,  1,  1, -1,  1,  1, -1, -1,  1,  1,  1,  1,  1,  0, -1,  1,\n",
       "       -1,  1, -1, -1, -1, -1, -1,  1,  1, -1,  1,  1, -1,  1,  1,  1, -1,\n",
       "       -1,  1,  1, -1,  1, -1,  1, -1, -1,  1,  1,  1, -1, -1,  0, -1,  1,\n",
       "       -1, -1, -1,  1, -1, -1,  1, -1,  1,  1, -1, -1, -1,  0, -1, -1, -1,\n",
       "       -1, -1,  1, -1,  1, -1,  1, -1, -1, -1,  1,  1, -1, -1,  1,  1,  1,\n",
       "       -1,  1,  1, -1, -1, -1,  1, -1, -1,  1,  1, -1, -1, -1,  1,  1, -1,\n",
       "       -1,  1, -1, -1, -1, -1,  1, -1, -1,  1, -1, -1,  1, -1, -1, -1, -1,\n",
       "        1, -1,  1, -1,  1, -1, -1,  1,  1,  1,  1, -1,  1,  1, -1, -1, -1,\n",
       "        1,  1,  1, -1, -1,  1,  1,  1,  1, -1, -1, -1,  1, -1, -1,  1,  1,\n",
       "        1, -1, -1, -1,  1,  1,  1, -1, -1,  1,  1, -1,  1, -1, -1,  1, -1,\n",
       "        1, -1,  1,  1, -1,  0, -1, -1,  1, -1, -1,  1, -1, -1,  1,  0,  1,\n",
       "        1,  1,  1,  1,  1,  1, -1, -1,  1, -1,  1, -1, -1,  1,  1,  1,  1,\n",
       "       -1, -1,  1,  1,  1,  1, -1,  1, -1,  1, -1,  1,  0,  1, -1, -1,  1,\n",
       "        1,  1,  1, -1, -1,  1, -1,  1, -1,  1,  1,  0,  1, -1, -1, -1,  1,\n",
       "        1,  1,  1, -1,  1,  1, -1,  1, -1, -1,  1, -1,  1, -1,  1,  1, -1,\n",
       "        1, -1,  1,  1, -1, -1, -1, -1, -1, -1, -1, -1, -1, -1, -1, -1, -1,\n",
       "       -1, -1, -1, -1,  1,  1,  0,  1,  1, -1, -1, -1, -1, -1,  1,  1, -1,\n",
       "       -1, -1,  1,  1, -1,  1, -1,  1, -1,  1, -1,  1,  1,  1,  1,  1, -1,\n",
       "        1, -1, -1, -1, -1, -1, -1,  1,  1, -1, -1, -1,  1, -1, -1, -1,  1,\n",
       "        1,  0, -1, -1,  1,  1, -1,  1,  1,  1, -1, -1, -1, -1,  1,  1,  1,\n",
       "       -1, -1, -1, -1,  1, -1,  1,  1, -1, -1,  1, -1, -1, -1,  1],\n",
       "      dtype=int64)"
      ]
     },
     "execution_count": 15,
     "metadata": {},
     "output_type": "execute_result"
    }
   ],
   "source": [
    "targetNB_pred = nbtrain.predict(feature_test)\n",
    "targetNB_pred"
   ]
  },
  {
   "cell_type": "code",
   "execution_count": 16,
   "metadata": {},
   "outputs": [
    {
     "data": {
      "text/plain": [
       "array([[173,   3,  27],\n",
       "       [ 13,   4,  10],\n",
       "       [ 20,   5, 151]], dtype=int64)"
      ]
     },
     "execution_count": 16,
     "metadata": {},
     "output_type": "execute_result"
    }
   ],
   "source": [
    "from sklearn.metrics import confusion_matrix\n",
    "confusion_matrix(target_test, targetNB_pred)"
   ]
  },
  {
   "cell_type": "code",
   "execution_count": 17,
   "metadata": {},
   "outputs": [],
   "source": [
    "targetNB_pred_train = nbtrain.predict(feature_train)"
   ]
  },
  {
   "cell_type": "code",
   "execution_count": 18,
   "metadata": {},
   "outputs": [
    {
     "data": {
      "text/plain": [
       "array([[447,  10,  42],\n",
       "       [ 29,  17,  29],\n",
       "       [ 40,  13, 319]], dtype=int64)"
      ]
     },
     "execution_count": 18,
     "metadata": {},
     "output_type": "execute_result"
    }
   ],
   "source": [
    "confusion_matrix(target_train, targetNB_pred_train)"
   ]
  },
  {
   "cell_type": "code",
   "execution_count": 19,
   "metadata": {},
   "outputs": [],
   "source": [
    "from sklearn.naive_bayes import BernoulliNB\n",
    "modelnbnb = BernoulliNB()\n",
    "mnbtrain = modelnbnb.fit(feature_train,target_train)"
   ]
  },
  {
   "cell_type": "code",
   "execution_count": 20,
   "metadata": {},
   "outputs": [
    {
     "data": {
      "text/plain": [
       "array([ 1, -1, -1, -1,  1, -1,  1, -1, -1, -1,  1,  1,  1,  1, -1, -1, -1,\n",
       "        1,  1, -1, -1, -1, -1, -1,  1,  1, -1, -1, -1,  1,  0,  1,  1, -1,\n",
       "        1, -1, -1,  1,  1,  1, -1, -1,  1,  0, -1, -1,  1, -1, -1,  1,  1,\n",
       "        1, -1,  1,  1, -1,  1,  1, -1, -1,  1,  1,  1,  1,  1, -1, -1,  1,\n",
       "       -1,  1, -1, -1, -1, -1, -1,  1,  1, -1,  1,  1, -1,  1,  1,  1, -1,\n",
       "       -1, -1,  1, -1,  1, -1,  1, -1, -1,  1, -1,  1, -1, -1, -1, -1,  1,\n",
       "       -1,  1, -1,  1, -1,  1,  0, -1,  1,  1, -1, -1, -1,  0, -1, -1,  1,\n",
       "       -1, -1,  1, -1,  1, -1,  1, -1, -1, -1,  1,  1, -1,  1,  1,  1,  1,\n",
       "       -1,  1,  1, -1, -1, -1,  1, -1,  1,  1,  1, -1, -1, -1,  1,  1, -1,\n",
       "       -1,  1, -1, -1, -1, -1,  1, -1, -1,  1, -1, -1,  1, -1, -1, -1, -1,\n",
       "        1, -1,  1, -1,  1, -1, -1,  1,  1,  1,  1, -1,  1,  1, -1, -1, -1,\n",
       "        1,  1,  1, -1, -1,  1,  1,  1,  1, -1, -1, -1,  1, -1, -1,  1,  1,\n",
       "        1, -1, -1, -1,  1,  1,  1, -1, -1,  0,  1, -1,  1, -1, -1,  1, -1,\n",
       "        1, -1,  1,  1, -1, -1,  1, -1,  1,  1, -1,  1, -1, -1,  1,  0,  1,\n",
       "        1,  1,  1, -1,  1,  1, -1, -1,  1, -1,  1, -1, -1,  1,  1,  1,  1,\n",
       "       -1, -1,  1,  0,  1,  1, -1,  1, -1,  1, -1,  1, -1,  1, -1, -1,  1,\n",
       "        1,  1,  1, -1, -1,  1, -1,  1, -1, -1,  1,  0,  1, -1,  1, -1,  1,\n",
       "        1,  1,  1, -1,  1,  1, -1,  1, -1, -1,  1, -1,  1, -1,  1,  1, -1,\n",
       "        1, -1,  1,  1, -1, -1, -1, -1, -1, -1, -1, -1, -1, -1, -1, -1, -1,\n",
       "       -1, -1, -1, -1,  1,  1, -1,  1,  1, -1, -1, -1, -1, -1,  1,  1, -1,\n",
       "       -1, -1,  1,  1, -1,  1, -1,  1, -1,  1, -1,  1,  1,  1,  1,  1, -1,\n",
       "        1, -1, -1, -1, -1, -1, -1,  1,  0, -1, -1, -1,  1, -1, -1, -1,  1,\n",
       "        1,  1, -1, -1,  1,  1, -1,  1,  1,  1, -1, -1, -1, -1,  1,  1, -1,\n",
       "       -1, -1, -1, -1,  1, -1,  1,  1, -1, -1,  1, -1, -1, -1,  1],\n",
       "      dtype=int64)"
      ]
     },
     "execution_count": 20,
     "metadata": {},
     "output_type": "execute_result"
    }
   ],
   "source": [
    "targetBNB_pred = mnbtrain.predict(feature_test)\n",
    "targetBNB_pred"
   ]
  },
  {
   "cell_type": "code",
   "execution_count": 21,
   "metadata": {},
   "outputs": [
    {
     "data": {
      "text/plain": [
       "array([[177,   2,  24],\n",
       "       [ 10,   5,  12],\n",
       "       [ 26,   2, 148]], dtype=int64)"
      ]
     },
     "execution_count": 21,
     "metadata": {},
     "output_type": "execute_result"
    }
   ],
   "source": [
    "confusion_matrix(target_test, targetBNB_pred)"
   ]
  },
  {
   "cell_type": "code",
   "execution_count": 22,
   "metadata": {},
   "outputs": [],
   "source": [
    "targetBNB_pred_train = mnbtrain.predict(feature_train)"
   ]
  },
  {
   "cell_type": "code",
   "execution_count": 23,
   "metadata": {},
   "outputs": [
    {
     "data": {
      "text/plain": [
       "array([[452,  10,  37],\n",
       "       [ 35,   6,  34],\n",
       "       [ 39,   8, 325]], dtype=int64)"
      ]
     },
     "execution_count": 23,
     "metadata": {},
     "output_type": "execute_result"
    }
   ],
   "source": [
    "confusion_matrix(target_train, targetBNB_pred_train)"
   ]
  },
  {
   "cell_type": "markdown",
   "metadata": {},
   "source": [
    "Naive Bayes Report"
   ]
  },
  {
   "cell_type": "code",
   "execution_count": 24,
   "metadata": {},
   "outputs": [
    {
     "name": "stdout",
     "output_type": "stream",
     "text": [
      "             precision    recall  f1-score   support\n",
      "\n",
      "         -1       0.84      0.85      0.85       203\n",
      "          0       0.33      0.15      0.21        27\n",
      "          1       0.80      0.86      0.83       176\n",
      "\n",
      "avg / total       0.79      0.81      0.80       406\n",
      "\n"
     ]
    }
   ],
   "source": [
    "print(classification_report(target_test,targetNB_pred))"
   ]
  },
  {
   "cell_type": "code",
   "execution_count": 25,
   "metadata": {},
   "outputs": [
    {
     "name": "stdout",
     "output_type": "stream",
     "text": [
      "             precision    recall  f1-score   support\n",
      "\n",
      "         -1       0.87      0.90      0.88       499\n",
      "          0       0.42      0.23      0.30        75\n",
      "          1       0.82      0.86      0.84       372\n",
      "\n",
      "avg / total       0.81      0.83      0.82       946\n",
      "\n"
     ]
    }
   ],
   "source": [
    "print(classification_report(target_train,targetNB_pred_train))"
   ]
  },
  {
   "cell_type": "code",
   "execution_count": 26,
   "metadata": {},
   "outputs": [
    {
     "name": "stdout",
     "output_type": "stream",
     "text": [
      "             precision    recall  f1-score   support\n",
      "\n",
      "         -1       0.83      0.87      0.85       203\n",
      "          0       0.56      0.19      0.28        27\n",
      "          1       0.80      0.84      0.82       176\n",
      "\n",
      "avg / total       0.80      0.81      0.80       406\n",
      "\n"
     ]
    }
   ],
   "source": [
    "print(classification_report(target_test,targetBNB_pred))"
   ]
  },
  {
   "cell_type": "code",
   "execution_count": 27,
   "metadata": {},
   "outputs": [
    {
     "name": "stdout",
     "output_type": "stream",
     "text": [
      "             precision    recall  f1-score   support\n",
      "\n",
      "         -1       0.86      0.91      0.88       499\n",
      "          0       0.25      0.08      0.12        75\n",
      "          1       0.82      0.87      0.85       372\n",
      "\n",
      "avg / total       0.80      0.83      0.81       946\n",
      "\n"
     ]
    }
   ],
   "source": [
    "print(classification_report(target_train,targetBNB_pred_train))"
   ]
  },
  {
   "cell_type": "markdown",
   "metadata": {},
   "source": [
    "KNN : n_neighbors=3 vs n_neigbors=5"
   ]
  },
  {
   "cell_type": "code",
   "execution_count": 28,
   "metadata": {},
   "outputs": [],
   "source": [
    "from sklearn.neighbors import KNeighborsClassifier\n",
    "model = KNeighborsClassifier(n_neighbors=3)"
   ]
  },
  {
   "cell_type": "code",
   "execution_count": 29,
   "metadata": {},
   "outputs": [
    {
     "name": "stdout",
     "output_type": "stream",
     "text": [
      "[ 1 -1 -1  1  0 -1  1 -1  0 -1  1  1  1 -1  1  1 -1  1  0  1 -1 -1  1 -1\n",
      " -1  1 -1 -1 -1  1 -1 -1  1  1  1  1  1  1  1  1  0 -1  1  1 -1 -1  1  0\n",
      "  0  1  1  1 -1  1  1 -1  1  1 -1 -1  1  1  1 -1  1  0 -1  1 -1  0  1 -1\n",
      " -1 -1 -1  1  1 -1  1  1 -1  1  1  1 -1 -1  1  1 -1  1  0  1  1 -1  1  1\n",
      "  1 -1 -1 -1 -1  1 -1  1  0  1 -1 -1 -1 -1  1  1 -1  0 -1  0 -1 -1 -1 -1\n",
      " -1  1 -1  1  1 -1 -1 -1 -1  1  1 -1  1  1  1  0 -1  1  1 -1 -1 -1 -1  1\n",
      "  0 -1  1 -1 -1 -1  1  1 -1  1  1 -1 -1 -1 -1  1 -1 -1  1  1 -1  1 -1 -1\n",
      "  0  1  1 -1  1 -1  1 -1 -1  1  1 -1  1 -1  1  1  1 -1  0  1  1  1  1 -1\n",
      "  0  0  1  1 -1 -1 -1  1  0  1  0  1  1 -1 -1 -1  1  1  1 -1 -1  0  1 -1\n",
      "  1 -1 -1  1 -1  1  1  1  1 -1 -1  0 -1  1  0 -1  1 -1 -1  1  1  1  1  1\n",
      "  1  1  1 -1 -1 -1  0 -1  1 -1 -1  1  1  1  1 -1 -1  1  0  1  1 -1  1 -1\n",
      "  1  0 -1 -1  1  1 -1  1  1  1  1 -1 -1  1 -1  1 -1  1  1  0  1 -1  1 -1\n",
      "  0  1  1  1 -1  1  1 -1 -1 -1 -1  1 -1 -1  1  1  1 -1  1 -1  0  1 -1 -1\n",
      " -1 -1 -1  0 -1 -1 -1  0 -1 -1  1 -1 -1 -1  1  1  0 -1  1  1 -1 -1 -1 -1\n",
      " -1  1  1 -1 -1  0  1 -1 -1  1 -1  1 -1  1 -1  1  1 -1  0  1 -1  1 -1 -1\n",
      " -1 -1 -1 -1  1 -1 -1  0 -1  0 -1 -1 -1  1  1  0 -1 -1  1  1 -1  1  1  1\n",
      "  0  1 -1 -1  1  1  1 -1 -1  0 -1  1 -1  1  1 -1 -1  1 -1 -1 -1  1]\n"
     ]
    }
   ],
   "source": [
    "modelknn = model.fit(feature_train,target_train)\n",
    "predicted = modelknn.predict(feature_test)\n",
    "print(predicted)"
   ]
  },
  {
   "cell_type": "code",
   "execution_count": 30,
   "metadata": {},
   "outputs": [
    {
     "name": "stdout",
     "output_type": "stream",
     "text": [
      "[ 1  1 -1 -1  0 -1  0 -1  1 -1 -1  1 -1  1 -1 -1  1  1  1 -1  1 -1  1 -1\n",
      "  1  1  0 -1  0 -1  1 -1  1 -1  1  1  1  1 -1 -1  1  1  1  1  1  1 -1 -1\n",
      " -1 -1  1  1 -1 -1 -1 -1 -1  0  1  1 -1 -1  1 -1  1 -1  1 -1  0 -1  1  1\n",
      " -1  1 -1 -1  1 -1 -1 -1 -1  1 -1  1 -1  0  1 -1  1  1 -1  1  1  1 -1  1\n",
      " -1 -1  1  1  1  0 -1 -1 -1 -1  1  1  0 -1 -1 -1 -1  1 -1  1 -1  1  1 -1\n",
      " -1 -1 -1  0 -1 -1  1 -1  1  1  1  1 -1 -1 -1  1 -1  1 -1 -1  1  1  1 -1\n",
      "  0  1  1 -1 -1 -1 -1  1 -1 -1  0 -1  1 -1 -1  1 -1 -1 -1 -1  1  1  1  1\n",
      " -1  1 -1 -1 -1 -1 -1 -1 -1  0  1  1 -1 -1 -1 -1  0  0  1 -1 -1 -1  1 -1\n",
      " -1 -1  1 -1  1 -1  1  1  1  1  0 -1 -1  0  1 -1 -1 -1  1 -1 -1 -1  1 -1\n",
      "  1 -1 -1  1 -1  1  0 -1  1  1  1  1 -1  0  1 -1 -1  1 -1  1 -1  1 -1 -1\n",
      "  0  1 -1 -1 -1 -1 -1  1  1  1 -1 -1  1  1 -1  1 -1 -1  0 -1 -1  1  1 -1\n",
      "  1  1  1 -1 -1  1 -1 -1  0 -1  1  0  1 -1 -1 -1 -1  1  1  1  1 -1 -1  1\n",
      "  1 -1  1 -1  1  0 -1 -1 -1 -1  1 -1  1  0 -1  1 -1  1  1  1  0 -1 -1  1\n",
      "  1  1 -1 -1  1 -1  0  1  1  0 -1  0 -1 -1 -1  0 -1  0  1  1  0  1  1  1\n",
      "  0  1 -1 -1 -1  0 -1  1 -1  1 -1 -1  1 -1  1  1 -1  1 -1  1 -1 -1  1  1\n",
      "  1 -1 -1  1 -1 -1 -1  1  0 -1 -1  1  1 -1  1  1 -1 -1 -1  1 -1  1 -1 -1\n",
      " -1  1 -1  0  1 -1 -1  0  0 -1  1 -1 -1 -1  1 -1 -1 -1 -1  1 -1 -1  1 -1\n",
      "  1 -1  1  1 -1  1  0 -1  1  1  1 -1 -1 -1  1  1 -1 -1 -1 -1  1  1 -1 -1\n",
      " -1 -1  1 -1 -1 -1  1 -1 -1  1 -1  1  1 -1 -1 -1  1  1  0 -1  1  1 -1 -1\n",
      " -1 -1  1  0  0 -1 -1  1 -1  1 -1 -1  1  1 -1  1  1  1 -1  1  1  1 -1 -1\n",
      " -1  1  1  0 -1  0  1 -1 -1  1 -1 -1 -1 -1 -1  1  1  1 -1 -1  1  1 -1  1\n",
      "  1 -1  1 -1 -1 -1  0 -1  1 -1 -1 -1  1 -1 -1 -1  1 -1  1 -1 -1  1 -1 -1\n",
      " -1  0  1 -1 -1  1  1  1  1  1 -1 -1 -1 -1  1  1  1  1  1  1  1  1 -1 -1\n",
      "  1  1 -1 -1  1  1  1 -1  1  1  1 -1 -1  0 -1  0  1 -1 -1  1  1  0 -1 -1\n",
      " -1  1  0 -1  1  1  1 -1 -1  0 -1 -1 -1 -1 -1  1  1  1 -1 -1 -1  1 -1 -1\n",
      "  1  1  0  1  0 -1 -1 -1 -1 -1 -1  1 -1  1 -1 -1 -1  1 -1 -1  1  1 -1 -1\n",
      "  1 -1 -1  0  1  1 -1  0 -1 -1  1 -1 -1  0 -1  1 -1  1 -1 -1 -1  1  1  1\n",
      "  1 -1  0  1  1 -1 -1  1  1 -1  1  1  1  1 -1 -1 -1 -1 -1 -1 -1  1 -1 -1\n",
      "  0 -1 -1  1  1 -1  1  0 -1  1 -1  1 -1  1  1 -1  1  1 -1  1 -1 -1 -1  1\n",
      "  1  1  1 -1 -1 -1  1  1  1  1  1 -1  0  1  1 -1  1 -1  1 -1  0 -1 -1 -1\n",
      "  1  1 -1  1  1 -1  0  1 -1 -1 -1  1  0 -1  0 -1  1 -1 -1  1 -1  1  1  1\n",
      "  1  0 -1  1  1 -1 -1 -1  1 -1  1  0 -1 -1 -1  1  1  1  1 -1 -1 -1 -1  1\n",
      " -1  1  0 -1 -1 -1 -1 -1  1  1  1  1 -1  1  1  0 -1  1 -1 -1 -1 -1 -1 -1\n",
      " -1 -1  1 -1 -1  1  1  1 -1 -1  1 -1 -1 -1 -1  1  1 -1 -1 -1 -1  1  0 -1\n",
      "  1  1  0  1 -1 -1  1 -1 -1 -1 -1  1 -1  1 -1  1 -1 -1  1 -1 -1 -1 -1 -1\n",
      "  1 -1  1 -1 -1 -1  1  1  1  1  0 -1  1 -1 -1  0 -1  0  1 -1  1 -1  0 -1\n",
      " -1  1 -1  1  1  1  1 -1  1 -1  1  1  1  1 -1 -1  1 -1  1 -1  1 -1 -1 -1\n",
      " -1 -1  0  1 -1 -1 -1  1  1  1 -1  1  1 -1  1 -1 -1  1 -1  1 -1 -1 -1  0\n",
      "  1  1 -1  0  1  1 -1  1  1 -1 -1  1  1  1 -1 -1 -1  1 -1 -1  1 -1 -1 -1\n",
      "  1 -1 -1 -1 -1  1  1 -1 -1 -1]\n"
     ]
    }
   ],
   "source": [
    "predicted_train = modelknn.predict(feature_train)\n",
    "print(predicted_train)"
   ]
  },
  {
   "cell_type": "code",
   "execution_count": 31,
   "metadata": {},
   "outputs": [
    {
     "name": "stdout",
     "output_type": "stream",
     "text": [
      "[ 1 -1 -1 -1  0 -1  1 -1  0 -1  1  1  1  1  1  1 -1  1  0  1 -1 -1  1 -1\n",
      " -1  1 -1 -1 -1  1  1 -1  1 -1  1  1  1  1  1  1 -1 -1  1  1 -1 -1  1  0\n",
      " -1  1  1  1 -1  1  1 -1  1  1 -1 -1  1  1  1  1  1 -1 -1  1 -1  0  1 -1\n",
      " -1 -1 -1  1  1 -1  1  1 -1  1  1  1 -1 -1  1  1 -1  1  0  1  1 -1  1  1\n",
      "  1 -1 -1 -1 -1  1 -1  1  0  1 -1 -1 -1 -1  1  1 -1  0 -1  0 -1 -1 -1 -1\n",
      "  1  1 -1  1 -1 -1 -1 -1 -1  1  1 -1  1  1  1  0 -1  1  1 -1 -1 -1 -1  1\n",
      "  0  1  1 -1 -1 -1  1  1 -1  1  1 -1 -1 -1 -1  1 -1 -1  1  1 -1  1 -1 -1\n",
      "  0 -1  1 -1  1 -1  1 -1 -1  1  1 -1  1 -1  1  1  1 -1  0  1  1  1  1 -1\n",
      "  0  1  1  1 -1 -1 -1  1  0 -1  1  1  1 -1 -1 -1  1  1  1 -1 -1  1  1 -1\n",
      "  1 -1 -1  1 -1  1 -1  1  1 -1 -1  0 -1  1  0 -1  1 -1 -1  1  1  1  1  1\n",
      "  1  1  1 -1 -1 -1  0 -1  1 -1 -1  1  1  1  1 -1 -1  1  1  1  1 -1  1 -1\n",
      "  1  0  1 -1  1  1 -1  1  1  1  1 -1 -1  1 -1  1 -1  1  1  0  1 -1  1 -1\n",
      "  0  1  1  1 -1  1  1 -1 -1 -1 -1  1 -1  1 -1  1  1 -1  1 -1  1  1 -1 -1\n",
      " -1 -1 -1 -1 -1 -1 -1  0 -1 -1  1 -1 -1 -1  1  1  1  1  1  1 -1 -1 -1 -1\n",
      " -1  1  1 -1 -1  0  1  1 -1  1 -1  1 -1  1 -1  1  1  1  1  1 -1  1 -1 -1\n",
      " -1 -1 -1 -1  1 -1 -1  0 -1  1 -1 -1 -1  1  1  0 -1 -1  1  1 -1  1  1  1\n",
      "  0  1 -1 -1  1  1  1 -1 -1  0 -1  1 -1  1  1 -1 -1  1 -1 -1 -1  1]\n"
     ]
    }
   ],
   "source": [
    "modell = KNeighborsClassifier(n_neighbors=5)\n",
    "modelknn5 = modell.fit(feature_train,target_train)\n",
    "predicted5 = modelknn5.predict(feature_test)\n",
    "print(predicted5)"
   ]
  },
  {
   "cell_type": "code",
   "execution_count": 32,
   "metadata": {},
   "outputs": [
    {
     "name": "stdout",
     "output_type": "stream",
     "text": [
      "[ 1  1 -1 -1  0 -1  0 -1  1 -1 -1  1 -1  1 -1 -1  1  1  1 -1  1 -1  1 -1\n",
      "  1  1  0 -1  0 -1  1 -1  1 -1  0 -1  1  1 -1 -1  1  1  0 -1  1  1 -1 -1\n",
      " -1 -1  1  0 -1 -1 -1 -1 -1  0  1  1 -1 -1  1 -1  1 -1  1 -1  0 -1  1  1\n",
      " -1  1 -1 -1  1 -1 -1 -1 -1  1 -1  1 -1  0  1 -1  1  1 -1  1  1  1 -1  1\n",
      " -1 -1 -1  1  1  0 -1 -1 -1 -1  1  1  0 -1 -1 -1 -1  1 -1  1 -1  1  1 -1\n",
      " -1 -1 -1  0 -1 -1  1 -1  1  1  1  1 -1 -1 -1  1 -1  1 -1 -1  1  1  1 -1\n",
      "  0  1 -1 -1 -1 -1 -1  1 -1 -1  0 -1  1 -1 -1  1 -1 -1 -1 -1  1  1  1  1\n",
      " -1  1 -1 -1 -1 -1 -1 -1 -1  0 -1  1 -1 -1 -1 -1  0  1  1 -1 -1 -1  1 -1\n",
      " -1 -1  1 -1  0 -1  1  1  1  1  0 -1 -1  0  1 -1 -1 -1  1 -1 -1 -1  1  0\n",
      "  1 -1 -1  1 -1  1  0 -1  1  1 -1  1 -1  0  1 -1 -1  1 -1  1 -1  1  1 -1\n",
      "  0  1 -1 -1 -1 -1 -1  1  1  1 -1 -1  1  1 -1  1 -1 -1  0 -1 -1 -1  1 -1\n",
      "  1  1  1  1  0  1 -1 -1 -1 -1  1  0  1 -1 -1 -1 -1  1  1  1  1 -1 -1  1\n",
      "  1 -1  1 -1  1  0 -1 -1 -1 -1  1 -1  1  0 -1  1 -1  1  1  1  0 -1 -1  1\n",
      "  1  1 -1 -1  1 -1  0  1  1  1 -1 -1 -1 -1 -1  0  1  0  1  1  0  1  1  1\n",
      "  0  1 -1  1 -1  0 -1  1 -1  1 -1 -1  1 -1  1  1 -1  1 -1  1 -1 -1  1  1\n",
      "  1 -1 -1  1 -1 -1 -1  1  1 -1 -1  1  1 -1 -1  1 -1 -1 -1  1 -1  1 -1 -1\n",
      " -1  1 -1  0  1 -1 -1  0  0 -1  1 -1 -1 -1  1 -1 -1 -1 -1  1 -1 -1  1 -1\n",
      "  1 -1  1  1 -1  1  0 -1  1  1  1 -1 -1 -1  1  1 -1 -1 -1 -1  1  1 -1 -1\n",
      " -1 -1 -1 -1 -1 -1  1 -1 -1  1 -1  1  1 -1 -1 -1  1  1  1 -1  1  1 -1 -1\n",
      " -1 -1  1  0  0 -1 -1  1 -1  1 -1 -1  1  1 -1  1  1  1 -1 -1  1  1 -1 -1\n",
      " -1  1  1 -1 -1  0  1 -1 -1  1 -1 -1 -1 -1 -1  1  1  1 -1 -1  1  1 -1  1\n",
      "  1 -1  1 -1 -1 -1  0 -1  1 -1 -1 -1  1 -1 -1 -1  0 -1  1 -1 -1  1 -1 -1\n",
      " -1  0  1 -1 -1  1  1  1 -1 -1 -1 -1 -1 -1  1  1  1  1  1  1  1  1 -1 -1\n",
      "  1  1 -1 -1  1  1  1 -1  1  1  1 -1 -1  0 -1  0  1  1 -1  1  1  0 -1 -1\n",
      " -1  1  0 -1  1  1  1 -1 -1  0 -1 -1 -1 -1 -1  1  1  1 -1  1 -1  1 -1 -1\n",
      "  1  1  0  1  0 -1 -1 -1  1 -1 -1  1 -1  1 -1 -1  1  1 -1 -1  1  1 -1 -1\n",
      "  1 -1 -1  0  1  1 -1  0 -1 -1  1 -1 -1  0 -1  1 -1  1 -1 -1 -1  1  1  1\n",
      "  1 -1  0  1  1 -1 -1  1  1 -1  1  1  1  1 -1 -1 -1 -1 -1 -1 -1  1 -1 -1\n",
      "  0 -1 -1  1  1 -1  1  0 -1  1 -1  1 -1  1  1 -1  1  1 -1  1 -1 -1 -1  1\n",
      "  1  1 -1 -1 -1 -1  1  1  1  1  1 -1  0  1  1 -1  1 -1  1 -1  0 -1 -1 -1\n",
      "  1  1 -1  1  1 -1  1  1 -1 -1 -1  1  0 -1 -1 -1  1 -1 -1 -1 -1  1  1  1\n",
      "  1  0 -1  1  1 -1 -1 -1  1 -1  1  0 -1 -1 -1  1  1  1  1 -1 -1 -1 -1  1\n",
      " -1  1  0 -1 -1 -1 -1 -1  1  1  1  1 -1  1  1  0 -1  1 -1 -1 -1 -1 -1 -1\n",
      " -1 -1  1 -1 -1  1  1  1 -1 -1  1 -1 -1  1 -1  1  1 -1 -1 -1 -1  1  0 -1\n",
      "  1  1  0  1 -1 -1  1 -1 -1 -1 -1  1 -1  1 -1  1 -1 -1  0 -1 -1 -1 -1  1\n",
      "  1 -1  1 -1 -1 -1 -1  1  1  1  0 -1  1 -1 -1 -1 -1  0  1 -1  1 -1  0 -1\n",
      " -1  1 -1  1  1  1  1 -1  1 -1  1  1  1  1 -1 -1  1  1  1 -1  1 -1 -1 -1\n",
      " -1 -1  0  1 -1 -1 -1  1  1  1 -1  1  1 -1  1 -1 -1  1 -1  1 -1 -1 -1  0\n",
      "  1  1 -1  1  1  1 -1  1  1 -1 -1  1  1  1 -1 -1 -1  1 -1 -1  1 -1 -1 -1\n",
      "  1 -1 -1 -1 -1  1  1 -1 -1 -1]\n"
     ]
    }
   ],
   "source": [
    "predicted5_train = modelknn5.predict(feature_train)\n",
    "print(predicted5_train)"
   ]
  },
  {
   "cell_type": "markdown",
   "metadata": {},
   "source": [
    "KNN Klasifikasi Report"
   ]
  },
  {
   "cell_type": "code",
   "execution_count": 33,
   "metadata": {},
   "outputs": [
    {
     "name": "stdout",
     "output_type": "stream",
     "text": [
      "             precision    recall  f1-score   support\n",
      "\n",
      "         -1       0.90      0.82      0.86       203\n",
      "          0       0.54      0.78      0.64        27\n",
      "          1       0.84      0.86      0.85       176\n",
      "\n",
      "avg / total       0.85      0.83      0.84       406\n",
      "\n"
     ]
    }
   ],
   "source": [
    "print(classification_report(target_test,predicted))"
   ]
  },
  {
   "cell_type": "code",
   "execution_count": 34,
   "metadata": {},
   "outputs": [
    {
     "name": "stdout",
     "output_type": "stream",
     "text": [
      "             precision    recall  f1-score   support\n",
      "\n",
      "         -1       0.97      0.94      0.95       499\n",
      "          0       0.87      0.89      0.88        75\n",
      "          1       0.92      0.95      0.94       372\n",
      "\n",
      "avg / total       0.94      0.94      0.94       946\n",
      "\n"
     ]
    }
   ],
   "source": [
    "print(classification_report(target_train,predicted_train))"
   ]
  },
  {
   "cell_type": "code",
   "execution_count": 35,
   "metadata": {},
   "outputs": [
    {
     "name": "stdout",
     "output_type": "stream",
     "text": [
      "             precision    recall  f1-score   support\n",
      "\n",
      "         -1       0.95      0.94      0.94       499\n",
      "          0       0.85      0.84      0.85        75\n",
      "          1       0.92      0.93      0.92       372\n",
      "\n",
      "avg / total       0.93      0.93      0.93       946\n",
      "\n"
     ]
    }
   ],
   "source": [
    "print(classification_report(target_train,predicted5_train))"
   ]
  },
  {
   "cell_type": "code",
   "execution_count": 36,
   "metadata": {},
   "outputs": [
    {
     "name": "stdout",
     "output_type": "stream",
     "text": [
      "             precision    recall  f1-score   support\n",
      "\n",
      "         -1       0.91      0.84      0.87       203\n",
      "          0       0.63      0.63      0.63        27\n",
      "          1       0.83      0.91      0.87       176\n",
      "\n",
      "avg / total       0.86      0.85      0.85       406\n",
      "\n"
     ]
    }
   ],
   "source": [
    "print(classification_report(target_test,predicted5))"
   ]
  },
  {
   "cell_type": "code",
   "execution_count": null,
   "metadata": {},
   "outputs": [],
   "source": []
  },
  {
   "cell_type": "code",
   "execution_count": null,
   "metadata": {},
   "outputs": [],
   "source": []
  }
 ],
 "metadata": {
  "kernelspec": {
   "display_name": "Python 3",
   "language": "python",
   "name": "python3"
  },
  "language_info": {
   "codemirror_mode": {
    "name": "ipython",
    "version": 3
   },
   "file_extension": ".py",
   "mimetype": "text/x-python",
   "name": "python",
   "nbconvert_exporter": "python",
   "pygments_lexer": "ipython3",
   "version": "3.6.5"
  }
 },
 "nbformat": 4,
 "nbformat_minor": 2
}
