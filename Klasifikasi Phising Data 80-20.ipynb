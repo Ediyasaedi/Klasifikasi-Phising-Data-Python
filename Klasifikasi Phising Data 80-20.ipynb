{
 "cells": [
  {
   "cell_type": "code",
   "execution_count": 82,
   "metadata": {},
   "outputs": [],
   "source": [
    "import pandas as pd\n",
    "import numpy as np"
   ]
  },
  {
   "cell_type": "markdown",
   "metadata": {},
   "source": [
    "Split Data"
   ]
  },
  {
   "cell_type": "code",
   "execution_count": 83,
   "metadata": {},
   "outputs": [],
   "source": [
    "#Ambil data csv dan bagi data ke feature & target\n",
    "data = pd.read_csv ('PhishingData.csv')\n",
    "feature = data.iloc[:,0:8]\n",
    "target = data.iloc[:,9]"
   ]
  },
  {
   "cell_type": "code",
   "execution_count": 84,
   "metadata": {},
   "outputs": [],
   "source": [
    "#split data ke feature_train, feature_test, target_train, target_test\n",
    "from sklearn.model_selection import train_test_split\n",
    "feature_train,feature_test,target_train,target_test = train_test_split(feature,target,test_size=0.2)"
   ]
  },
  {
   "cell_type": "markdown",
   "metadata": {},
   "source": [
    "Multi Layer Perceptron\n",
    "Parameter: solver='adam' vs solver='sgd'"
   ]
  },
  {
   "cell_type": "code",
   "execution_count": 85,
   "metadata": {
    "scrolled": true
   },
   "outputs": [
    {
     "data": {
      "text/plain": [
       "MLPClassifier(activation='relu', alpha=0.0001, batch_size='auto', beta_1=0.9,\n",
       "       beta_2=0.999, early_stopping=False, epsilon=1e-08,\n",
       "       hidden_layer_sizes=(100,), learning_rate='constant',\n",
       "       learning_rate_init=0.001, max_iter=1000000, momentum=0.9,\n",
       "       nesterovs_momentum=True, power_t=0.5, random_state=None,\n",
       "       shuffle=True, solver='adam', tol=0.0001, validation_fraction=0.1,\n",
       "       verbose=False, warm_start=False)"
      ]
     },
     "execution_count": 85,
     "metadata": {},
     "output_type": "execute_result"
    }
   ],
   "source": [
    "from sklearn.neural_network import MLPClassifier\n",
    "nn=MLPClassifier(max_iter=1000000, learning_rate_init=0.001)\n",
    "nn.fit(feature_train,target_train)"
   ]
  },
  {
   "cell_type": "code",
   "execution_count": 86,
   "metadata": {},
   "outputs": [
    {
     "name": "stdout",
     "output_type": "stream",
     "text": [
      "target_test= -1 & target_pred= -1\n",
      "target_test= 0 & target_pred= 0\n",
      "target_test= -1 & target_pred= -1\n",
      "target_test= -1 & target_pred= -1\n",
      "target_test= 1 & target_pred= 1\n",
      "target_test= 1 & target_pred= 1\n",
      "target_test= -1 & target_pred= -1\n",
      "target_test= -1 & target_pred= 1\n",
      "target_test= 0 & target_pred= 1\n",
      "target_test= 1 & target_pred= 1\n",
      "target_test= -1 & target_pred= -1\n",
      "target_test= -1 & target_pred= -1\n",
      "target_test= 0 & target_pred= 0\n",
      "target_test= -1 & target_pred= -1\n",
      "target_test= -1 & target_pred= -1\n",
      "target_test= -1 & target_pred= -1\n",
      "target_test= -1 & target_pred= -1\n",
      "target_test= -1 & target_pred= 1\n",
      "target_test= -1 & target_pred= -1\n",
      "target_test= -1 & target_pred= -1\n",
      "target_test= 1 & target_pred= -1\n",
      "target_test= -1 & target_pred= -1\n",
      "target_test= -1 & target_pred= -1\n",
      "target_test= -1 & target_pred= -1\n",
      "target_test= -1 & target_pred= -1\n",
      "target_test= -1 & target_pred= -1\n",
      "target_test= -1 & target_pred= -1\n",
      "target_test= 1 & target_pred= 1\n",
      "target_test= -1 & target_pred= -1\n",
      "target_test= 1 & target_pred= 1\n",
      "target_test= -1 & target_pred= -1\n",
      "target_test= -1 & target_pred= -1\n",
      "target_test= 1 & target_pred= 1\n",
      "target_test= 1 & target_pred= 1\n",
      "target_test= -1 & target_pred= -1\n",
      "target_test= -1 & target_pred= -1\n",
      "target_test= -1 & target_pred= -1\n",
      "target_test= 0 & target_pred= 0\n",
      "target_test= 0 & target_pred= 0\n",
      "target_test= -1 & target_pred= -1\n",
      "target_test= 1 & target_pred= 1\n",
      "target_test= -1 & target_pred= 1\n",
      "target_test= -1 & target_pred= -1\n",
      "target_test= 1 & target_pred= 1\n",
      "target_test= 1 & target_pred= 1\n",
      "target_test= -1 & target_pred= -1\n",
      "target_test= 1 & target_pred= 1\n",
      "target_test= -1 & target_pred= -1\n",
      "target_test= -1 & target_pred= -1\n",
      "target_test= -1 & target_pred= -1\n",
      "target_test= 1 & target_pred= 1\n",
      "target_test= -1 & target_pred= -1\n",
      "target_test= -1 & target_pred= -1\n",
      "target_test= 1 & target_pred= 1\n",
      "target_test= -1 & target_pred= -1\n",
      "target_test= 1 & target_pred= 1\n",
      "target_test= -1 & target_pred= 0\n",
      "target_test= -1 & target_pred= -1\n",
      "target_test= 1 & target_pred= 1\n",
      "target_test= -1 & target_pred= -1\n",
      "target_test= 1 & target_pred= 1\n",
      "target_test= -1 & target_pred= -1\n",
      "target_test= -1 & target_pred= -1\n",
      "target_test= 1 & target_pred= 1\n",
      "target_test= -1 & target_pred= 0\n",
      "target_test= -1 & target_pred= -1\n",
      "target_test= -1 & target_pred= -1\n",
      "target_test= -1 & target_pred= -1\n",
      "target_test= -1 & target_pred= -1\n",
      "target_test= -1 & target_pred= -1\n",
      "target_test= -1 & target_pred= -1\n",
      "target_test= -1 & target_pred= -1\n",
      "target_test= -1 & target_pred= -1\n",
      "target_test= 1 & target_pred= 1\n",
      "target_test= 1 & target_pred= 1\n",
      "target_test= 1 & target_pred= 1\n",
      "target_test= -1 & target_pred= -1\n",
      "target_test= -1 & target_pred= -1\n",
      "target_test= -1 & target_pred= -1\n",
      "target_test= -1 & target_pred= -1\n",
      "target_test= 1 & target_pred= 1\n",
      "target_test= 1 & target_pred= 0\n",
      "target_test= -1 & target_pred= -1\n",
      "target_test= 1 & target_pred= 1\n",
      "target_test= 0 & target_pred= 0\n",
      "target_test= -1 & target_pred= -1\n",
      "target_test= -1 & target_pred= -1\n",
      "target_test= 1 & target_pred= 1\n",
      "target_test= 1 & target_pred= 1\n",
      "target_test= 1 & target_pred= 1\n",
      "target_test= -1 & target_pred= -1\n",
      "target_test= 1 & target_pred= 1\n",
      "target_test= -1 & target_pred= 1\n",
      "target_test= 1 & target_pred= 1\n",
      "target_test= -1 & target_pred= -1\n",
      "target_test= -1 & target_pred= -1\n",
      "target_test= -1 & target_pred= -1\n",
      "target_test= -1 & target_pred= -1\n",
      "target_test= -1 & target_pred= 1\n",
      "target_test= -1 & target_pred= -1\n",
      "target_test= 1 & target_pred= 1\n",
      "target_test= 1 & target_pred= 1\n",
      "target_test= 1 & target_pred= 1\n",
      "target_test= -1 & target_pred= 0\n",
      "target_test= -1 & target_pred= -1\n",
      "target_test= -1 & target_pred= -1\n",
      "target_test= 1 & target_pred= 1\n",
      "target_test= -1 & target_pred= -1\n",
      "target_test= 0 & target_pred= 0\n",
      "target_test= -1 & target_pred= -1\n",
      "target_test= 0 & target_pred= 0\n",
      "target_test= -1 & target_pred= -1\n",
      "target_test= 1 & target_pred= 1\n",
      "target_test= 1 & target_pred= -1\n",
      "target_test= -1 & target_pred= -1\n",
      "target_test= 1 & target_pred= 1\n",
      "target_test= -1 & target_pred= -1\n",
      "target_test= -1 & target_pred= -1\n",
      "target_test= 0 & target_pred= 0\n",
      "target_test= -1 & target_pred= -1\n",
      "target_test= -1 & target_pred= -1\n",
      "target_test= 1 & target_pred= 1\n",
      "target_test= -1 & target_pred= -1\n",
      "target_test= 1 & target_pred= 1\n",
      "target_test= -1 & target_pred= -1\n",
      "target_test= 0 & target_pred= 0\n",
      "target_test= 1 & target_pred= 1\n",
      "target_test= -1 & target_pred= -1\n",
      "target_test= -1 & target_pred= -1\n",
      "target_test= 0 & target_pred= 0\n",
      "target_test= 1 & target_pred= 0\n",
      "target_test= 1 & target_pred= 1\n",
      "target_test= 1 & target_pred= 1\n",
      "target_test= 1 & target_pred= 1\n",
      "target_test= -1 & target_pred= -1\n",
      "target_test= -1 & target_pred= -1\n",
      "target_test= -1 & target_pred= -1\n",
      "target_test= 1 & target_pred= 1\n",
      "target_test= -1 & target_pred= -1\n",
      "target_test= -1 & target_pred= -1\n",
      "target_test= 1 & target_pred= 1\n",
      "target_test= 1 & target_pred= 1\n",
      "target_test= -1 & target_pred= -1\n",
      "target_test= 1 & target_pred= -1\n",
      "target_test= -1 & target_pred= -1\n",
      "target_test= -1 & target_pred= -1\n",
      "target_test= 1 & target_pred= 1\n",
      "target_test= 0 & target_pred= 0\n",
      "target_test= 1 & target_pred= 1\n",
      "target_test= -1 & target_pred= -1\n",
      "target_test= -1 & target_pred= -1\n",
      "target_test= -1 & target_pred= -1\n",
      "target_test= -1 & target_pred= -1\n",
      "target_test= -1 & target_pred= -1\n",
      "target_test= 1 & target_pred= 1\n",
      "target_test= 1 & target_pred= 1\n",
      "target_test= 1 & target_pred= 1\n",
      "target_test= -1 & target_pred= -1\n",
      "target_test= -1 & target_pred= -1\n",
      "target_test= 0 & target_pred= 0\n",
      "target_test= 1 & target_pred= -1\n",
      "target_test= -1 & target_pred= -1\n",
      "target_test= 1 & target_pred= 1\n",
      "target_test= -1 & target_pred= -1\n",
      "target_test= 1 & target_pred= 1\n",
      "target_test= -1 & target_pred= -1\n",
      "target_test= 1 & target_pred= 1\n",
      "target_test= 1 & target_pred= 1\n",
      "target_test= 1 & target_pred= 1\n",
      "target_test= -1 & target_pred= -1\n",
      "target_test= -1 & target_pred= -1\n",
      "target_test= -1 & target_pred= 1\n",
      "target_test= -1 & target_pred= -1\n",
      "target_test= 1 & target_pred= 1\n",
      "target_test= 1 & target_pred= 0\n",
      "target_test= -1 & target_pred= -1\n",
      "target_test= -1 & target_pred= -1\n",
      "target_test= -1 & target_pred= -1\n",
      "target_test= -1 & target_pred= -1\n",
      "target_test= -1 & target_pred= -1\n",
      "target_test= 1 & target_pred= 1\n",
      "target_test= 1 & target_pred= 1\n",
      "target_test= -1 & target_pred= -1\n",
      "target_test= 1 & target_pred= 1\n",
      "target_test= 1 & target_pred= -1\n",
      "target_test= -1 & target_pred= -1\n",
      "target_test= 1 & target_pred= 1\n",
      "target_test= -1 & target_pred= -1\n",
      "target_test= -1 & target_pred= -1\n",
      "target_test= 1 & target_pred= 1\n",
      "target_test= -1 & target_pred= -1\n",
      "target_test= 0 & target_pred= 0\n",
      "target_test= -1 & target_pred= 1\n",
      "target_test= -1 & target_pred= -1\n",
      "target_test= -1 & target_pred= -1\n",
      "target_test= -1 & target_pred= -1\n",
      "target_test= -1 & target_pred= -1\n",
      "target_test= -1 & target_pred= -1\n",
      "target_test= -1 & target_pred= -1\n",
      "target_test= 1 & target_pred= 1\n",
      "target_test= -1 & target_pred= 0\n",
      "target_test= -1 & target_pred= -1\n",
      "target_test= -1 & target_pred= -1\n",
      "target_test= 1 & target_pred= 1\n",
      "target_test= -1 & target_pred= -1\n",
      "target_test= 1 & target_pred= 0\n",
      "target_test= -1 & target_pred= -1\n",
      "target_test= 1 & target_pred= 1\n",
      "target_test= -1 & target_pred= -1\n",
      "target_test= 0 & target_pred= 0\n",
      "target_test= 1 & target_pred= 1\n",
      "target_test= 1 & target_pred= 1\n",
      "target_test= 1 & target_pred= 1\n",
      "target_test= -1 & target_pred= -1\n",
      "target_test= -1 & target_pred= 1\n",
      "target_test= 0 & target_pred= 1\n",
      "target_test= 1 & target_pred= -1\n",
      "target_test= -1 & target_pred= -1\n",
      "target_test= -1 & target_pred= 1\n",
      "target_test= 1 & target_pred= 1\n",
      "target_test= 1 & target_pred= 1\n",
      "target_test= -1 & target_pred= -1\n",
      "target_test= 1 & target_pred= 0\n",
      "target_test= -1 & target_pred= -1\n",
      "target_test= -1 & target_pred= -1\n",
      "target_test= -1 & target_pred= -1\n",
      "target_test= 1 & target_pred= 1\n",
      "target_test= 0 & target_pred= 0\n",
      "target_test= -1 & target_pred= -1\n",
      "target_test= -1 & target_pred= -1\n",
      "target_test= 1 & target_pred= 1\n",
      "target_test= 1 & target_pred= 1\n",
      "target_test= 1 & target_pred= 1\n",
      "target_test= -1 & target_pred= -1\n",
      "target_test= 1 & target_pred= -1\n",
      "target_test= 1 & target_pred= 1\n",
      "target_test= 1 & target_pred= 1\n",
      "target_test= -1 & target_pred= -1\n",
      "target_test= 1 & target_pred= -1\n",
      "target_test= -1 & target_pred= -1\n",
      "target_test= 1 & target_pred= 1\n",
      "target_test= 0 & target_pred= 0\n",
      "target_test= 1 & target_pred= 1\n",
      "target_test= 0 & target_pred= 0\n",
      "target_test= 1 & target_pred= 1\n",
      "target_test= 0 & target_pred= 0\n",
      "target_test= -1 & target_pred= 1\n",
      "target_test= -1 & target_pred= -1\n",
      "target_test= 1 & target_pred= 1\n",
      "target_test= 1 & target_pred= 1\n",
      "target_test= -1 & target_pred= -1\n",
      "target_test= 0 & target_pred= 1\n",
      "target_test= -1 & target_pred= -1\n",
      "target_test= -1 & target_pred= -1\n",
      "target_test= 1 & target_pred= 1\n",
      "target_test= -1 & target_pred= -1\n",
      "target_test= 0 & target_pred= 1\n",
      "target_test= 1 & target_pred= 1\n",
      "target_test= -1 & target_pred= -1\n",
      "target_test= -1 & target_pred= -1\n",
      "target_test= 1 & target_pred= 1\n",
      "target_test= -1 & target_pred= 0\n",
      "target_test= -1 & target_pred= -1\n",
      "target_test= -1 & target_pred= -1\n",
      "target_test= -1 & target_pred= -1\n",
      "target_test= -1 & target_pred= -1\n",
      "target_test= -1 & target_pred= -1\n",
      "target_test= -1 & target_pred= -1\n",
      "target_test= -1 & target_pred= -1\n",
      "target_test= -1 & target_pred= -1\n",
      "target_test= -1 & target_pred= -1\n"
     ]
    }
   ],
   "source": [
    "#target test MLP solver='adam'\n",
    "target_pred = nn.predict(feature_test)\n",
    "for x,y in zip(target_test,target_pred):\n",
    "    print(\"target_test= \"+str(x)+\" & target_pred= \"+str(y))"
   ]
  },
  {
   "cell_type": "code",
   "execution_count": 87,
   "metadata": {},
   "outputs": [],
   "source": [
    "#target training pred MLP\n",
    "target_pred_train = nn.predict(feature_train)"
   ]
  },
  {
   "cell_type": "code",
   "execution_count": 88,
   "metadata": {},
   "outputs": [
    {
     "data": {
      "text/plain": [
       "MLPClassifier(activation='relu', alpha=0.0001, batch_size='auto', beta_1=0.9,\n",
       "       beta_2=0.999, early_stopping=False, epsilon=1e-08,\n",
       "       hidden_layer_sizes=(100,), learning_rate='constant',\n",
       "       learning_rate_init=0.001, max_iter=1000000, momentum=0.9,\n",
       "       nesterovs_momentum=True, power_t=0.5, random_state=None,\n",
       "       shuffle=True, solver='sgd', tol=0.0001, validation_fraction=0.1,\n",
       "       verbose=False, warm_start=False)"
      ]
     },
     "execution_count": 88,
     "metadata": {},
     "output_type": "execute_result"
    }
   ],
   "source": [
    "nnn=MLPClassifier(max_iter=1000000, learning_rate_init=0.001, solver='sgd')\n",
    "nnn.fit(feature_train,target_train)"
   ]
  },
  {
   "cell_type": "code",
   "execution_count": 89,
   "metadata": {},
   "outputs": [
    {
     "name": "stdout",
     "output_type": "stream",
     "text": [
      "target_test= -1 & targetn_pred= -1\n",
      "target_test= 0 & targetn_pred= 0\n",
      "target_test= -1 & targetn_pred= -1\n",
      "target_test= -1 & targetn_pred= -1\n",
      "target_test= 1 & targetn_pred= 1\n",
      "target_test= 1 & targetn_pred= 1\n",
      "target_test= -1 & targetn_pred= -1\n",
      "target_test= -1 & targetn_pred= 1\n",
      "target_test= 0 & targetn_pred= 1\n",
      "target_test= 1 & targetn_pred= 1\n",
      "target_test= -1 & targetn_pred= -1\n",
      "target_test= -1 & targetn_pred= -1\n",
      "target_test= 0 & targetn_pred= -1\n",
      "target_test= -1 & targetn_pred= -1\n",
      "target_test= -1 & targetn_pred= -1\n",
      "target_test= -1 & targetn_pred= -1\n",
      "target_test= -1 & targetn_pred= -1\n",
      "target_test= -1 & targetn_pred= 1\n",
      "target_test= -1 & targetn_pred= -1\n",
      "target_test= -1 & targetn_pred= -1\n",
      "target_test= 1 & targetn_pred= -1\n",
      "target_test= -1 & targetn_pred= -1\n",
      "target_test= -1 & targetn_pred= -1\n",
      "target_test= -1 & targetn_pred= -1\n",
      "target_test= -1 & targetn_pred= -1\n",
      "target_test= -1 & targetn_pred= -1\n",
      "target_test= -1 & targetn_pred= -1\n",
      "target_test= 1 & targetn_pred= 1\n",
      "target_test= -1 & targetn_pred= -1\n",
      "target_test= 1 & targetn_pred= 1\n",
      "target_test= -1 & targetn_pred= -1\n",
      "target_test= -1 & targetn_pred= -1\n",
      "target_test= 1 & targetn_pred= 1\n",
      "target_test= 1 & targetn_pred= 1\n",
      "target_test= -1 & targetn_pred= -1\n",
      "target_test= -1 & targetn_pred= -1\n",
      "target_test= -1 & targetn_pred= -1\n",
      "target_test= 0 & targetn_pred= -1\n",
      "target_test= 0 & targetn_pred= 1\n",
      "target_test= -1 & targetn_pred= -1\n",
      "target_test= 1 & targetn_pred= 1\n",
      "target_test= -1 & targetn_pred= 1\n",
      "target_test= -1 & targetn_pred= -1\n",
      "target_test= 1 & targetn_pred= 1\n",
      "target_test= 1 & targetn_pred= 1\n",
      "target_test= -1 & targetn_pred= -1\n",
      "target_test= 1 & targetn_pred= 1\n",
      "target_test= -1 & targetn_pred= -1\n",
      "target_test= -1 & targetn_pred= -1\n",
      "target_test= -1 & targetn_pred= -1\n",
      "target_test= 1 & targetn_pred= 1\n",
      "target_test= -1 & targetn_pred= -1\n",
      "target_test= -1 & targetn_pred= -1\n",
      "target_test= 1 & targetn_pred= 1\n",
      "target_test= -1 & targetn_pred= -1\n",
      "target_test= 1 & targetn_pred= 1\n",
      "target_test= -1 & targetn_pred= -1\n",
      "target_test= -1 & targetn_pred= -1\n",
      "target_test= 1 & targetn_pred= 1\n",
      "target_test= -1 & targetn_pred= -1\n",
      "target_test= 1 & targetn_pred= 1\n",
      "target_test= -1 & targetn_pred= -1\n",
      "target_test= -1 & targetn_pred= -1\n",
      "target_test= 1 & targetn_pred= 1\n",
      "target_test= -1 & targetn_pred= 0\n",
      "target_test= -1 & targetn_pred= -1\n",
      "target_test= -1 & targetn_pred= -1\n",
      "target_test= -1 & targetn_pred= -1\n",
      "target_test= -1 & targetn_pred= -1\n",
      "target_test= -1 & targetn_pred= -1\n",
      "target_test= -1 & targetn_pred= -1\n",
      "target_test= -1 & targetn_pred= -1\n",
      "target_test= -1 & targetn_pred= -1\n",
      "target_test= 1 & targetn_pred= 1\n",
      "target_test= 1 & targetn_pred= 1\n",
      "target_test= 1 & targetn_pred= 1\n",
      "target_test= -1 & targetn_pred= -1\n",
      "target_test= -1 & targetn_pred= -1\n",
      "target_test= -1 & targetn_pred= -1\n",
      "target_test= -1 & targetn_pred= -1\n",
      "target_test= 1 & targetn_pred= 1\n",
      "target_test= 1 & targetn_pred= 1\n",
      "target_test= -1 & targetn_pred= -1\n",
      "target_test= 1 & targetn_pred= 1\n",
      "target_test= 0 & targetn_pred= 1\n",
      "target_test= -1 & targetn_pred= -1\n",
      "target_test= -1 & targetn_pred= -1\n",
      "target_test= 1 & targetn_pred= -1\n",
      "target_test= 1 & targetn_pred= 1\n",
      "target_test= 1 & targetn_pred= 1\n",
      "target_test= -1 & targetn_pred= 0\n",
      "target_test= 1 & targetn_pred= 1\n",
      "target_test= -1 & targetn_pred= 1\n",
      "target_test= 1 & targetn_pred= 1\n",
      "target_test= -1 & targetn_pred= -1\n",
      "target_test= -1 & targetn_pred= -1\n",
      "target_test= -1 & targetn_pred= -1\n",
      "target_test= -1 & targetn_pred= -1\n",
      "target_test= -1 & targetn_pred= 1\n",
      "target_test= -1 & targetn_pred= -1\n",
      "target_test= 1 & targetn_pred= 1\n",
      "target_test= 1 & targetn_pred= 1\n",
      "target_test= 1 & targetn_pred= 1\n",
      "target_test= -1 & targetn_pred= 1\n",
      "target_test= -1 & targetn_pred= -1\n",
      "target_test= -1 & targetn_pred= -1\n",
      "target_test= 1 & targetn_pred= 1\n",
      "target_test= -1 & targetn_pred= -1\n",
      "target_test= 0 & targetn_pred= 0\n",
      "target_test= -1 & targetn_pred= -1\n",
      "target_test= 0 & targetn_pred= -1\n",
      "target_test= -1 & targetn_pred= -1\n",
      "target_test= 1 & targetn_pred= 1\n",
      "target_test= 1 & targetn_pred= -1\n",
      "target_test= -1 & targetn_pred= -1\n",
      "target_test= 1 & targetn_pred= 1\n",
      "target_test= -1 & targetn_pred= -1\n",
      "target_test= -1 & targetn_pred= -1\n",
      "target_test= 0 & targetn_pred= -1\n",
      "target_test= -1 & targetn_pred= -1\n",
      "target_test= -1 & targetn_pred= -1\n",
      "target_test= 1 & targetn_pred= 1\n",
      "target_test= -1 & targetn_pred= -1\n",
      "target_test= 1 & targetn_pred= 1\n",
      "target_test= -1 & targetn_pred= -1\n",
      "target_test= 0 & targetn_pred= -1\n",
      "target_test= 1 & targetn_pred= 1\n",
      "target_test= -1 & targetn_pred= -1\n",
      "target_test= -1 & targetn_pred= -1\n",
      "target_test= 0 & targetn_pred= -1\n",
      "target_test= 1 & targetn_pred= 0\n",
      "target_test= 1 & targetn_pred= 1\n",
      "target_test= 1 & targetn_pred= 1\n",
      "target_test= 1 & targetn_pred= 1\n",
      "target_test= -1 & targetn_pred= -1\n",
      "target_test= -1 & targetn_pred= -1\n",
      "target_test= -1 & targetn_pred= -1\n",
      "target_test= 1 & targetn_pred= 1\n",
      "target_test= -1 & targetn_pred= -1\n",
      "target_test= -1 & targetn_pred= -1\n",
      "target_test= 1 & targetn_pred= 1\n",
      "target_test= 1 & targetn_pred= 1\n",
      "target_test= -1 & targetn_pred= -1\n",
      "target_test= 1 & targetn_pred= -1\n",
      "target_test= -1 & targetn_pred= -1\n",
      "target_test= -1 & targetn_pred= -1\n",
      "target_test= 1 & targetn_pred= 1\n",
      "target_test= 0 & targetn_pred= 0\n",
      "target_test= 1 & targetn_pred= 1\n",
      "target_test= -1 & targetn_pred= -1\n",
      "target_test= -1 & targetn_pred= -1\n",
      "target_test= -1 & targetn_pred= -1\n",
      "target_test= -1 & targetn_pred= -1\n",
      "target_test= -1 & targetn_pred= -1\n",
      "target_test= 1 & targetn_pred= 1\n",
      "target_test= 1 & targetn_pred= 1\n",
      "target_test= 1 & targetn_pred= 1\n",
      "target_test= -1 & targetn_pred= -1\n",
      "target_test= -1 & targetn_pred= -1\n",
      "target_test= 0 & targetn_pred= 1\n",
      "target_test= 1 & targetn_pred= -1\n",
      "target_test= -1 & targetn_pred= -1\n",
      "target_test= 1 & targetn_pred= 1\n",
      "target_test= -1 & targetn_pred= -1\n",
      "target_test= 1 & targetn_pred= 1\n",
      "target_test= -1 & targetn_pred= -1\n",
      "target_test= 1 & targetn_pred= 1\n",
      "target_test= 1 & targetn_pred= 1\n",
      "target_test= 1 & targetn_pred= 1\n",
      "target_test= -1 & targetn_pred= -1\n",
      "target_test= -1 & targetn_pred= -1\n",
      "target_test= -1 & targetn_pred= 1\n",
      "target_test= -1 & targetn_pred= -1\n",
      "target_test= 1 & targetn_pred= 1\n",
      "target_test= 1 & targetn_pred= 1\n",
      "target_test= -1 & targetn_pred= -1\n",
      "target_test= -1 & targetn_pred= -1\n",
      "target_test= -1 & targetn_pred= -1\n",
      "target_test= -1 & targetn_pred= -1\n",
      "target_test= -1 & targetn_pred= -1\n",
      "target_test= 1 & targetn_pred= 1\n",
      "target_test= 1 & targetn_pred= 1\n",
      "target_test= -1 & targetn_pred= -1\n",
      "target_test= 1 & targetn_pred= 1\n",
      "target_test= 1 & targetn_pred= -1\n",
      "target_test= -1 & targetn_pred= -1\n",
      "target_test= 1 & targetn_pred= 1\n",
      "target_test= -1 & targetn_pred= -1\n",
      "target_test= -1 & targetn_pred= -1\n",
      "target_test= 1 & targetn_pred= 1\n",
      "target_test= -1 & targetn_pred= -1\n",
      "target_test= 0 & targetn_pred= -1\n",
      "target_test= -1 & targetn_pred= 1\n",
      "target_test= -1 & targetn_pred= -1\n",
      "target_test= -1 & targetn_pred= -1\n",
      "target_test= -1 & targetn_pred= -1\n",
      "target_test= -1 & targetn_pred= -1\n",
      "target_test= -1 & targetn_pred= -1\n",
      "target_test= -1 & targetn_pred= -1\n",
      "target_test= 1 & targetn_pred= 1\n",
      "target_test= -1 & targetn_pred= 0\n",
      "target_test= -1 & targetn_pred= -1\n",
      "target_test= -1 & targetn_pred= -1\n",
      "target_test= 1 & targetn_pred= 1\n",
      "target_test= -1 & targetn_pred= -1\n",
      "target_test= 1 & targetn_pred= 0\n",
      "target_test= -1 & targetn_pred= -1\n",
      "target_test= 1 & targetn_pred= 1\n",
      "target_test= -1 & targetn_pred= -1\n",
      "target_test= 0 & targetn_pred= -1\n",
      "target_test= 1 & targetn_pred= 1\n",
      "target_test= 1 & targetn_pred= 1\n",
      "target_test= 1 & targetn_pred= -1\n",
      "target_test= -1 & targetn_pred= -1\n",
      "target_test= -1 & targetn_pred= 1\n",
      "target_test= 0 & targetn_pred= 1\n",
      "target_test= 1 & targetn_pred= -1\n",
      "target_test= -1 & targetn_pred= -1\n",
      "target_test= -1 & targetn_pred= -1\n",
      "target_test= 1 & targetn_pred= 1\n",
      "target_test= 1 & targetn_pred= 1\n",
      "target_test= -1 & targetn_pred= -1\n",
      "target_test= 1 & targetn_pred= 1\n",
      "target_test= -1 & targetn_pred= -1\n",
      "target_test= -1 & targetn_pred= -1\n",
      "target_test= -1 & targetn_pred= -1\n",
      "target_test= 1 & targetn_pred= -1\n",
      "target_test= 0 & targetn_pred= 1\n",
      "target_test= -1 & targetn_pred= -1\n",
      "target_test= -1 & targetn_pred= -1\n",
      "target_test= 1 & targetn_pred= 1\n",
      "target_test= 1 & targetn_pred= 1\n",
      "target_test= 1 & targetn_pred= -1\n",
      "target_test= -1 & targetn_pred= -1\n",
      "target_test= 1 & targetn_pred= -1\n",
      "target_test= 1 & targetn_pred= 1\n",
      "target_test= 1 & targetn_pred= 1\n",
      "target_test= -1 & targetn_pred= -1\n",
      "target_test= 1 & targetn_pred= -1\n",
      "target_test= -1 & targetn_pred= -1\n",
      "target_test= 1 & targetn_pred= 1\n",
      "target_test= 0 & targetn_pred= -1\n",
      "target_test= 1 & targetn_pred= 1\n",
      "target_test= 0 & targetn_pred= 1\n",
      "target_test= 1 & targetn_pred= 1\n",
      "target_test= 0 & targetn_pred= 1\n",
      "target_test= -1 & targetn_pred= -1\n",
      "target_test= -1 & targetn_pred= -1\n",
      "target_test= 1 & targetn_pred= 1\n",
      "target_test= 1 & targetn_pred= 1\n",
      "target_test= -1 & targetn_pred= -1\n",
      "target_test= 0 & targetn_pred= 1\n",
      "target_test= -1 & targetn_pred= -1\n",
      "target_test= -1 & targetn_pred= -1\n",
      "target_test= 1 & targetn_pred= 1\n",
      "target_test= -1 & targetn_pred= -1\n",
      "target_test= 0 & targetn_pred= 1\n",
      "target_test= 1 & targetn_pred= 1\n",
      "target_test= -1 & targetn_pred= -1\n",
      "target_test= -1 & targetn_pred= -1\n",
      "target_test= 1 & targetn_pred= 1\n",
      "target_test= -1 & targetn_pred= 1\n",
      "target_test= -1 & targetn_pred= -1\n",
      "target_test= -1 & targetn_pred= -1\n",
      "target_test= -1 & targetn_pred= -1\n",
      "target_test= -1 & targetn_pred= -1\n",
      "target_test= -1 & targetn_pred= -1\n",
      "target_test= -1 & targetn_pred= -1\n",
      "target_test= -1 & targetn_pred= -1\n",
      "target_test= -1 & targetn_pred= -1\n",
      "target_test= -1 & targetn_pred= -1\n"
     ]
    }
   ],
   "source": [
    "targetn_pred = nnn.predict(feature_test)\n",
    "for x,y in zip(target_test,targetn_pred):\n",
    "    print(\"target_test= \"+str(x)+\" & targetn_pred= \"+str(y))"
   ]
  },
  {
   "cell_type": "code",
   "execution_count": 90,
   "metadata": {},
   "outputs": [],
   "source": [
    "targetn_pred_train = nnn.predict(feature_train)"
   ]
  },
  {
   "cell_type": "markdown",
   "metadata": {},
   "source": [
    "MLP Klasifikasi Report"
   ]
  },
  {
   "cell_type": "code",
   "execution_count": 91,
   "metadata": {},
   "outputs": [
    {
     "name": "stdout",
     "output_type": "stream",
     "text": [
      "             precision    recall  f1-score   support\n",
      "\n",
      "         -1       0.95      0.90      0.92       156\n",
      "          0       0.64      0.82      0.72        22\n",
      "          1       0.85      0.86      0.86        93\n",
      "\n",
      "avg / total       0.89      0.88      0.88       271\n",
      "\n"
     ]
    }
   ],
   "source": [
    "from sklearn.metrics import classification_report\n",
    "print(classification_report(target_test,target_pred))"
   ]
  },
  {
   "cell_type": "code",
   "execution_count": 92,
   "metadata": {},
   "outputs": [
    {
     "name": "stdout",
     "output_type": "stream",
     "text": [
      "             precision    recall  f1-score   support\n",
      "\n",
      "         -1       0.98      0.95      0.96       546\n",
      "          0       0.88      0.97      0.92        80\n",
      "          1       0.94      0.96      0.95       455\n",
      "\n",
      "avg / total       0.95      0.95      0.95      1081\n",
      "\n"
     ]
    }
   ],
   "source": [
    "print(classification_report(target_train,target_pred_train))"
   ]
  },
  {
   "cell_type": "code",
   "execution_count": 93,
   "metadata": {},
   "outputs": [
    {
     "name": "stdout",
     "output_type": "stream",
     "text": [
      "             precision    recall  f1-score   support\n",
      "\n",
      "         -1       0.87      0.92      0.89       156\n",
      "          0       0.38      0.14      0.20        22\n",
      "          1       0.80      0.85      0.82        93\n",
      "\n",
      "avg / total       0.81      0.83      0.81       271\n",
      "\n"
     ]
    }
   ],
   "source": [
    "print(classification_report(target_test,targetn_pred))"
   ]
  },
  {
   "cell_type": "code",
   "execution_count": 94,
   "metadata": {},
   "outputs": [
    {
     "name": "stdout",
     "output_type": "stream",
     "text": [
      "             precision    recall  f1-score   support\n",
      "\n",
      "         -1       0.89      0.93      0.91       546\n",
      "          0       0.63      0.21      0.32        80\n",
      "          1       0.86      0.90      0.88       455\n",
      "\n",
      "avg / total       0.86      0.87      0.85      1081\n",
      "\n"
     ]
    }
   ],
   "source": [
    "print(classification_report(target_train,targetn_pred_train))"
   ]
  },
  {
   "cell_type": "markdown",
   "metadata": {},
   "source": [
    "Naive Bayes : Gaussian vs Bernoulli"
   ]
  },
  {
   "cell_type": "code",
   "execution_count": 95,
   "metadata": {},
   "outputs": [],
   "source": [
    "from sklearn.naive_bayes import GaussianNB\n",
    "modelnb = GaussianNB()\n",
    "nbtrain = modelnb.fit(feature_train,target_train)"
   ]
  },
  {
   "cell_type": "code",
   "execution_count": 96,
   "metadata": {},
   "outputs": [
    {
     "data": {
      "text/plain": [
       "array([-1,  0, -1, -1,  1,  1, -1,  1,  1,  1, -1, -1, -1, -1, -1, -1, -1,\n",
       "        1, -1, -1, -1, -1, -1, -1, -1, -1, -1,  1, -1,  1, -1, -1,  1,  1,\n",
       "       -1, -1, -1, -1,  1, -1,  1, -1,  1,  1,  1,  1,  1,  1, -1,  1,  1,\n",
       "       -1, -1,  1, -1,  1, -1, -1,  1, -1,  1, -1, -1,  1,  0, -1, -1, -1,\n",
       "       -1, -1, -1, -1, -1,  1,  1,  1, -1, -1, -1, -1,  1,  1, -1, -1,  1,\n",
       "       -1, -1, -1,  1,  1,  0,  1,  1,  1, -1, -1, -1, -1,  1, -1,  1,  1,\n",
       "        1,  0, -1, -1,  1, -1,  0, -1, -1, -1,  1, -1,  1,  1, -1,  0, -1,\n",
       "       -1, -1,  1, -1, -1, -1, -1,  1, -1, -1, -1,  0,  1,  1,  1, -1, -1,\n",
       "       -1,  1, -1, -1,  1,  1, -1,  1, -1, -1,  1, -1,  1, -1, -1, -1, -1,\n",
       "       -1,  1,  1,  1, -1, -1,  1, -1, -1,  1, -1,  1, -1,  1,  1,  1, -1,\n",
       "       -1, -1, -1,  1,  1, -1, -1, -1, -1, -1,  1,  1, -1,  1, -1, -1,  1,\n",
       "       -1, -1,  1, -1, -1,  1, -1, -1, -1, -1, -1, -1,  1, -1, -1, -1,  1,\n",
       "       -1,  0, -1,  1, -1, -1,  1,  1, -1,  1,  1,  1,  1, -1, -1,  1,  1,\n",
       "       -1,  0, -1, -1, -1, -1, -1, -1, -1,  1,  1, -1, -1, -1,  1,  1, -1,\n",
       "        1, -1,  1, -1, -1,  1,  1,  1, -1, -1,  1,  1, -1,  1, -1, -1,  1,\n",
       "       -1,  1,  1, -1, -1,  1,  1,  1, -1, -1, -1, -1, -1, -1, -1, -1],\n",
       "      dtype=int64)"
      ]
     },
     "execution_count": 96,
     "metadata": {},
     "output_type": "execute_result"
    }
   ],
   "source": [
    "targetNB_pred = nbtrain.predict(feature_test)\n",
    "targetNB_pred"
   ]
  },
  {
   "cell_type": "code",
   "execution_count": 97,
   "metadata": {},
   "outputs": [
    {
     "data": {
      "text/plain": [
       "array([[138,   4,  14],\n",
       "       [ 11,   2,   9],\n",
       "       [ 12,   3,  78]], dtype=int64)"
      ]
     },
     "execution_count": 97,
     "metadata": {},
     "output_type": "execute_result"
    }
   ],
   "source": [
    "from sklearn.metrics import confusion_matrix\n",
    "confusion_matrix(target_test, targetNB_pred)"
   ]
  },
  {
   "cell_type": "code",
   "execution_count": 98,
   "metadata": {},
   "outputs": [],
   "source": [
    "targetNB_pred_train = nbtrain.predict(feature_train)"
   ]
  },
  {
   "cell_type": "code",
   "execution_count": 99,
   "metadata": {},
   "outputs": [
    {
     "data": {
      "text/plain": [
       "array([[485,   9,  52],\n",
       "       [ 35,  16,  29],\n",
       "       [ 48,  12, 395]], dtype=int64)"
      ]
     },
     "execution_count": 99,
     "metadata": {},
     "output_type": "execute_result"
    }
   ],
   "source": [
    "confusion_matrix(target_train, targetNB_pred_train)"
   ]
  },
  {
   "cell_type": "code",
   "execution_count": 100,
   "metadata": {},
   "outputs": [],
   "source": [
    "from sklearn.naive_bayes import BernoulliNB\n",
    "modelnbnb = BernoulliNB()\n",
    "mnbtrain = modelnbnb.fit(feature_train,target_train)"
   ]
  },
  {
   "cell_type": "code",
   "execution_count": 101,
   "metadata": {},
   "outputs": [
    {
     "data": {
      "text/plain": [
       "array([-1,  0, -1, -1,  1,  1, -1,  1,  1,  1, -1, -1, -1, -1, -1, -1, -1,\n",
       "        1, -1, -1, -1, -1, -1, -1, -1, -1, -1,  1, -1,  1, -1, -1, -1,  1,\n",
       "       -1, -1, -1, -1,  1, -1,  1, -1, -1,  1,  1,  1,  1,  1, -1,  1,  1,\n",
       "       -1, -1, -1, -1,  1, -1, -1,  1, -1,  1, -1, -1,  1,  0, -1, -1, -1,\n",
       "       -1, -1, -1, -1, -1,  1,  1,  1, -1, -1, -1, -1,  1,  1, -1, -1,  1,\n",
       "       -1, -1,  1,  1,  1, -1,  1,  1,  1, -1, -1, -1, -1,  1, -1,  1,  1,\n",
       "        1,  1, -1, -1,  1, -1,  1, -1, -1, -1,  1, -1,  1,  1, -1, -1,  1,\n",
       "       -1, -1,  1, -1, -1, -1, -1,  1, -1, -1, -1,  1, -1,  1,  1, -1, -1,\n",
       "       -1,  1, -1, -1,  1,  1, -1,  1, -1, -1,  1, -1,  1, -1, -1, -1, -1,\n",
       "       -1,  1,  1,  1, -1, -1,  1, -1, -1,  1, -1,  1, -1,  1,  1, -1, -1,\n",
       "       -1, -1, -1,  1,  1, -1, -1, -1, -1, -1,  1,  0, -1,  1, -1, -1,  1,\n",
       "       -1, -1,  1, -1, -1,  1, -1, -1, -1, -1, -1, -1,  1, -1, -1, -1,  1,\n",
       "       -1,  0, -1,  1, -1, -1,  1,  1,  0,  1,  1,  1, -1, -1, -1,  1,  1,\n",
       "       -1,  1, -1, -1, -1, -1, -1, -1, -1,  1,  1,  1, -1, -1,  1,  1, -1,\n",
       "        0, -1, -1, -1,  1,  1,  1,  0, -1, -1,  1,  1, -1,  1, -1, -1,  1,\n",
       "       -1,  1,  1, -1, -1,  1,  1,  1, -1, -1, -1, -1, -1, -1, -1, -1],\n",
       "      dtype=int64)"
      ]
     },
     "execution_count": 101,
     "metadata": {},
     "output_type": "execute_result"
    }
   ],
   "source": [
    "targetBNB_pred = mnbtrain.predict(feature_test)\n",
    "targetBNB_pred"
   ]
  },
  {
   "cell_type": "code",
   "execution_count": 102,
   "metadata": {},
   "outputs": [
    {
     "data": {
      "text/plain": [
       "array([[141,   1,  14],\n",
       "       [ 10,   2,  10],\n",
       "       [ 14,   4,  75]], dtype=int64)"
      ]
     },
     "execution_count": 102,
     "metadata": {},
     "output_type": "execute_result"
    }
   ],
   "source": [
    "confusion_matrix(target_test, targetBNB_pred)"
   ]
  },
  {
   "cell_type": "code",
   "execution_count": 103,
   "metadata": {},
   "outputs": [],
   "source": [
    "targetBNB_pred_train = mnbtrain.predict(feature_train)"
   ]
  },
  {
   "cell_type": "code",
   "execution_count": 104,
   "metadata": {},
   "outputs": [
    {
     "data": {
      "text/plain": [
       "array([[489,  10,  47],\n",
       "       [ 35,   9,  36],\n",
       "       [ 47,  10, 398]], dtype=int64)"
      ]
     },
     "execution_count": 104,
     "metadata": {},
     "output_type": "execute_result"
    }
   ],
   "source": [
    "confusion_matrix(target_train, targetBNB_pred_train)"
   ]
  },
  {
   "cell_type": "markdown",
   "metadata": {},
   "source": [
    "Naive Bayes Report"
   ]
  },
  {
   "cell_type": "code",
   "execution_count": 105,
   "metadata": {},
   "outputs": [
    {
     "name": "stdout",
     "output_type": "stream",
     "text": [
      "             precision    recall  f1-score   support\n",
      "\n",
      "         -1       0.86      0.88      0.87       156\n",
      "          0       0.22      0.09      0.13        22\n",
      "          1       0.77      0.84      0.80        93\n",
      "\n",
      "avg / total       0.78      0.80      0.79       271\n",
      "\n"
     ]
    }
   ],
   "source": [
    "print(classification_report(target_test,targetNB_pred))"
   ]
  },
  {
   "cell_type": "code",
   "execution_count": 106,
   "metadata": {},
   "outputs": [
    {
     "name": "stdout",
     "output_type": "stream",
     "text": [
      "             precision    recall  f1-score   support\n",
      "\n",
      "         -1       0.85      0.89      0.87       546\n",
      "          0       0.43      0.20      0.27        80\n",
      "          1       0.83      0.87      0.85       455\n",
      "\n",
      "avg / total       0.81      0.83      0.82      1081\n",
      "\n"
     ]
    }
   ],
   "source": [
    "print(classification_report(target_train,targetNB_pred_train))"
   ]
  },
  {
   "cell_type": "code",
   "execution_count": 107,
   "metadata": {},
   "outputs": [
    {
     "name": "stdout",
     "output_type": "stream",
     "text": [
      "             precision    recall  f1-score   support\n",
      "\n",
      "         -1       0.85      0.90      0.88       156\n",
      "          0       0.29      0.09      0.14        22\n",
      "          1       0.76      0.81      0.78        93\n",
      "\n",
      "avg / total       0.78      0.80      0.79       271\n",
      "\n"
     ]
    }
   ],
   "source": [
    "print(classification_report(target_test,targetBNB_pred))"
   ]
  },
  {
   "cell_type": "code",
   "execution_count": 108,
   "metadata": {},
   "outputs": [
    {
     "name": "stdout",
     "output_type": "stream",
     "text": [
      "             precision    recall  f1-score   support\n",
      "\n",
      "         -1       0.86      0.90      0.88       546\n",
      "          0       0.31      0.11      0.17        80\n",
      "          1       0.83      0.87      0.85       455\n",
      "\n",
      "avg / total       0.80      0.83      0.81      1081\n",
      "\n"
     ]
    }
   ],
   "source": [
    "print(classification_report(target_train,targetBNB_pred_train))"
   ]
  },
  {
   "cell_type": "markdown",
   "metadata": {},
   "source": [
    "KNN : n_neighbors=3 vs n_neigbors=5"
   ]
  },
  {
   "cell_type": "code",
   "execution_count": 109,
   "metadata": {},
   "outputs": [],
   "source": [
    "from sklearn.neighbors import KNeighborsClassifier\n",
    "model = KNeighborsClassifier(n_neighbors=3)"
   ]
  },
  {
   "cell_type": "code",
   "execution_count": 110,
   "metadata": {},
   "outputs": [
    {
     "name": "stdout",
     "output_type": "stream",
     "text": [
      "[-1  0 -1 -1  1  1 -1 -1  1  1 -1 -1  0 -1 -1 -1 -1  1 -1 -1 -1 -1 -1 -1\n",
      " -1 -1 -1  1 -1  1 -1 -1  1  1 -1 -1 -1  0  0 -1  1  1 -1  1  1 -1  0 -1\n",
      " -1 -1  1 -1 -1  1 -1  1  0 -1  1 -1  1 -1 -1  1 -1 -1 -1 -1 -1 -1 -1 -1\n",
      " -1  1  1  1 -1 -1 -1 -1  1  1 -1  1  0 -1 -1  1  1  1  1  1  1  1 -1 -1\n",
      " -1 -1  1  0  1  1  1  1 -1 -1  1 -1  0 -1 -1 -1  1 -1 -1  1 -1 -1  0 -1\n",
      " -1  1 -1  1 -1 -1  1 -1 -1 -1  0  1  1  1 -1 -1 -1  1 -1 -1  1  1 -1 -1\n",
      " -1  1  1 -1  1 -1 -1 -1 -1 -1  1  1  1 -1 -1  1 -1 -1  1 -1  1 -1  1  1\n",
      "  1 -1 -1  1 -1  1  1 -1 -1 -1 -1 -1  1  0 -1  1 -1 -1  1 -1 -1  1 -1 -1\n",
      "  1 -1 -1 -1 -1 -1 -1  1  0 -1 -1 -1 -1  0 -1  1 -1  0  1  1  1 -1  1  1\n",
      "  1 -1  1  1  1 -1  0 -1 -1 -1  1 -1 -1 -1  1  1  1 -1 -1  1  1 -1 -1 -1\n",
      "  1  0  1  0 -1  0  1 -1  1  1 -1  1 -1 -1  1 -1  1  1 -1 -1  1  1 -1 -1\n",
      " -1 -1  0 -1 -1 -1 -1]\n"
     ]
    }
   ],
   "source": [
    "modelknn = model.fit(feature_train,target_train)\n",
    "predicted = modelknn.predict(feature_test)\n",
    "print(predicted)"
   ]
  },
  {
   "cell_type": "code",
   "execution_count": 111,
   "metadata": {},
   "outputs": [
    {
     "name": "stdout",
     "output_type": "stream",
     "text": [
      "[-1 -1  1 ...  1  1 -1]\n"
     ]
    }
   ],
   "source": [
    "predicted_train = modelknn.predict(feature_train)\n",
    "print(predicted_train)"
   ]
  },
  {
   "cell_type": "code",
   "execution_count": 112,
   "metadata": {},
   "outputs": [
    {
     "name": "stdout",
     "output_type": "stream",
     "text": [
      "[-1  0 -1 -1  1  1 -1 -1  1  1 -1 -1  0 -1 -1 -1 -1  1 -1 -1 -1 -1 -1 -1\n",
      " -1 -1 -1  1 -1  1 -1 -1  1  1 -1 -1 -1  0  0 -1  1  1 -1  1  1 -1  1 -1\n",
      " -1 -1  1 -1 -1  1 -1  1  0 -1  1 -1  1 -1 -1  1 -1 -1 -1 -1 -1 -1 -1 -1\n",
      " -1  1  1  1 -1 -1 -1 -1  1  1 -1  1  0 -1 -1  1  1  1  1  1  1  1 -1 -1\n",
      " -1 -1  1  0  1  1  1  1 -1 -1  1  1  1 -1 -1 -1  1 -1 -1  1 -1 -1  1 -1\n",
      " -1  1 -1  1 -1 -1  1 -1 -1 -1  1  1  1  1 -1 -1 -1  1 -1 -1  1  1 -1 -1\n",
      " -1  1  1 -1  1 -1 -1 -1 -1 -1  1  1  1 -1 -1  1 -1 -1  1 -1  1 -1  1  1\n",
      "  1 -1 -1  1 -1  1  1 -1 -1 -1 -1 -1  1  1 -1  1 -1 -1  1 -1 -1  1 -1 -1\n",
      "  1 -1 -1 -1 -1 -1 -1  1  0 -1 -1  1 -1  0 -1  1 -1  0  1  1  1 -1  1  1\n",
      " -1 -1  1  1  1 -1  0 -1 -1 -1  1  1 -1 -1  1  1  1 -1  1  1  1 -1 -1 -1\n",
      "  1  0  1  1 -1  0  1 -1  1  1 -1  1 -1 -1  1 -1  1  1 -1 -1  1  1 -1 -1\n",
      " -1 -1  0 -1 -1 -1 -1]\n"
     ]
    }
   ],
   "source": [
    "modell = KNeighborsClassifier(n_neighbors=5)\n",
    "modelknn5 = modell.fit(feature_train,target_train)\n",
    "predicted5 = modelknn5.predict(feature_test)\n",
    "print(predicted5)"
   ]
  },
  {
   "cell_type": "code",
   "execution_count": 113,
   "metadata": {},
   "outputs": [
    {
     "name": "stdout",
     "output_type": "stream",
     "text": [
      "[-1 -1  1 ... -1  1 -1]\n"
     ]
    }
   ],
   "source": [
    "predicted5_train = modelknn5.predict(feature_train)\n",
    "print(predicted5_train)"
   ]
  },
  {
   "cell_type": "markdown",
   "metadata": {},
   "source": [
    "KNN Klasifikasi Report"
   ]
  },
  {
   "cell_type": "code",
   "execution_count": 114,
   "metadata": {},
   "outputs": [
    {
     "name": "stdout",
     "output_type": "stream",
     "text": [
      "             precision    recall  f1-score   support\n",
      "\n",
      "         -1       0.90      0.89      0.90       156\n",
      "          0       0.55      0.50      0.52        22\n",
      "          1       0.81      0.85      0.83        93\n",
      "\n",
      "avg / total       0.84      0.85      0.84       271\n",
      "\n"
     ]
    }
   ],
   "source": [
    "print(classification_report(target_test,predicted))"
   ]
  },
  {
   "cell_type": "code",
   "execution_count": 115,
   "metadata": {},
   "outputs": [
    {
     "name": "stdout",
     "output_type": "stream",
     "text": [
      "             precision    recall  f1-score   support\n",
      "\n",
      "         -1       0.95      0.94      0.94       546\n",
      "          0       0.86      0.85      0.86        80\n",
      "          1       0.93      0.95      0.94       455\n",
      "\n",
      "avg / total       0.94      0.94      0.94      1081\n",
      "\n"
     ]
    }
   ],
   "source": [
    "print(classification_report(target_train,predicted_train))"
   ]
  },
  {
   "cell_type": "code",
   "execution_count": 116,
   "metadata": {},
   "outputs": [
    {
     "name": "stdout",
     "output_type": "stream",
     "text": [
      "             precision    recall  f1-score   support\n",
      "\n",
      "         -1       0.94      0.92      0.93       546\n",
      "          0       0.84      0.85      0.84        80\n",
      "          1       0.91      0.93      0.92       455\n",
      "\n",
      "avg / total       0.92      0.92      0.92      1081\n",
      "\n"
     ]
    }
   ],
   "source": [
    "print(classification_report(target_train,predicted5_train))"
   ]
  },
  {
   "cell_type": "code",
   "execution_count": 117,
   "metadata": {},
   "outputs": [
    {
     "name": "stdout",
     "output_type": "stream",
     "text": [
      "             precision    recall  f1-score   support\n",
      "\n",
      "         -1       0.91      0.88      0.90       156\n",
      "          0       0.57      0.36      0.44        22\n",
      "          1       0.78      0.89      0.83        93\n",
      "\n",
      "avg / total       0.84      0.85      0.84       271\n",
      "\n"
     ]
    }
   ],
   "source": [
    "print(classification_report(target_test,predicted5))"
   ]
  },
  {
   "cell_type": "code",
   "execution_count": null,
   "metadata": {},
   "outputs": [],
   "source": []
  },
  {
   "cell_type": "code",
   "execution_count": null,
   "metadata": {},
   "outputs": [],
   "source": []
  }
 ],
 "metadata": {
  "kernelspec": {
   "display_name": "Python 3",
   "language": "python",
   "name": "python3"
  },
  "language_info": {
   "codemirror_mode": {
    "name": "ipython",
    "version": 3
   },
   "file_extension": ".py",
   "mimetype": "text/x-python",
   "name": "python",
   "nbconvert_exporter": "python",
   "pygments_lexer": "ipython3",
   "version": "3.6.5"
  }
 },
 "nbformat": 4,
 "nbformat_minor": 2
}
